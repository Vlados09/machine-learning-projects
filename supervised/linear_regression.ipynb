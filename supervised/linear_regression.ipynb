{
 "cells": [
  {
   "cell_type": "markdown",
   "metadata": {},
   "source": [
    "# Assignment 1 Brief \n",
    "\n",
    "## Deadline: Tuesday, October 29, 2019 at 14:00 hrs\n",
    "\n",
    "## Number of marks available: 20\n",
    "\n",
    "## Scope: Sessions 1 to 5\n",
    "\n",
    "### How and what to submit\n",
    "\n",
    "A. Submit a Jupyter Notebook named COM4509-6509_Assignment_1_UCard_XXXXXXXXX.ipynb where XXXXXXXXX refers to your UCard number.\n",
    "\n",
    "B. Upload the notebook file to MOLE before the deadline above.\n",
    "\n",
    "C. **NO DATA UPLOAD**: Please do not upload the data files used. We have a copy already. \n",
    "\n",
    "\n",
    "### Assessment Criteria \n",
    "\n",
    "* Being able to express an objective function and its gradients in matrix form.\n",
    "\n",
    "* Being able to use numpy and pandas to preprocess a dataset.\n",
    "\n",
    "* Being able to use numpy to build a machine learning pipeline for supervised learning. \n",
    "\n",
    "\n",
    "### Late submissions\n",
    "\n",
    "We follow Department's guidelines about late submissions, i.e., a deduction of 5% of the mark each working day the work is late after the deadline. NO late submission will be marked one week after the deadline because we will release a solution by then. Please read [this link](https://sites.google.com/sheffield.ac.uk/compgtstudenthandbook/menu/assessment/late-submission?pli=1&authuser=1). \n",
    "\n",
    "### Use of unfair means \n",
    "\n",
    "**\"Any form of unfair means is treated as a serious academic offence and action may be taken under the Discipline Regulations.\"** (from the MSc Handbook). Please carefully read [this link](https://sites.google.com/sheffield.ac.uk/compgtstudenthandbook/menu/referencing-unfair-means?pli=1&authuser=1) on what constitutes Unfair Means if not sure."
   ]
  },
  {
   "cell_type": "markdown",
   "metadata": {},
   "source": [
    "# Regularisation for Linear Regression\n",
    "\n",
    "Regularisation is a technique commonly used in Machine Learning to prevent overfitting. It consists on adding terms to the objective function such that the optimisation procedure avoids solutions that just learn the training data. Popular techniques for regularisation in Supervised Learning include Lasso Regression, Ridge Regression and the Elastic Net. \n",
    "\n",
    "In this Assignment, you will be looking at Ridge Regression and devising equations to optimise the objective function in Ridge Regression using two methods: a closed-form derivation and the update rules for stochastic gradient descent. You will then use those update rules for making predictions on a Air Quaility dataset.\n",
    "\n",
    "## Ridge Regression\n",
    "\n",
    "Let us start with a data set for training $\\mathcal{D} = \\{\\mathbf{y}, \\mathbf{X}\\}$, where the vector $\\mathbf{y}=[y_1, \\cdots, y_n]^{\\top}$ and $\\mathbf{X}$ is the design matrix from Lab 3, this is, \n",
    "\n",
    "\\begin{align*}\n",
    "    \\mathbf{X} = \n",
    "                \\begin{bmatrix}\n",
    "                        1 & x_{1,1} & \\cdots & x_{1, D}\\\\\n",
    "                        1 & x_{2,1} & \\cdots & x_{2, D}\\\\\n",
    "                   \\vdots &  \\vdots\\\\\n",
    "                        1 & x_{n,1} & \\cdots & x_{n, D}\n",
    "                \\end{bmatrix}\n",
    "               = \n",
    "               \\begin{bmatrix}\n",
    "                      \\mathbf{x}_1^{\\top}\\\\\n",
    "                       \\mathbf{x}_2^{\\top}\\\\\n",
    "                          \\vdots\\\\\n",
    "                        \\mathbf{x}_n^{\\top}\n",
    "                \\end{bmatrix}.\n",
    "\\end{align*}\n",
    "\n",
    "Our predictive model is going to be a linear model\n",
    "\n",
    "$$ f(\\mathbf{x}_i) = \\mathbf{w}^{\\top}\\mathbf{x}_i,$$\n",
    "\n",
    "where $\\mathbf{w} = [w_0\\; w_1\\; \\cdots \\; w_D]^{\\top}$.\n",
    "\n",
    "The **objetive function** we are going to use has the following form\n",
    "\n",
    "$$ J(\\mathbf{w}, \\alpha) = \\frac{1}{n}\\sum_{i=1}^n (y_i - f(\\mathbf{x}_i))^2 + \\frac{\\alpha}{2}\\sum_{j=0}^D w_j^2,$$\n",
    "\n",
    "where $\\alpha>0$ is known as the *regularisation* parameter.\n",
    "\n",
    "The first term on the right-hand side (rhs) of the expression for $J(\\mathbf{w}, \\alpha)$ is very similar to the least-squares objective function we have seen before, for example in Lab 3. The only difference is on the term $\\frac{1}{n}$ that we use to normalise the objective with respect to the number of observations in the dataset. \n",
    "\n",
    "The first term on the rhs is what we call the \"fitting\" term whereas the second term in the expression is the regularisation term. Given $\\alpha$, the two terms in the expression have different purposes. The first term is looking for a value of $\\mathbf{w}$ that leads the squared-errors to zero. While doing this, $\\mathbf{w}$ can take any value and lead to a solution that it is only good for the training data but perhaps not for the test data. The second term is regularising the behavior of the first term by driving the $\\mathbf{w}$ towards zero. By doing this, it restricts the possible set of values that $\\mathbf{w}$ might take according to the first term. The value that we use for $\\alpha$ will allow a compromise between a value of $\\mathbf{w}$ that exactly fits the data (first term) or a value of $\\mathbf{w}$ that does not grow too much (second term).\n",
    "\n",
    "This type of regularisation has different names: ridge regression, Tikhonov regularisation or $\\ell_2$ norm regularisation. \n",
    "\n",
    "### Question 1: $J(\\mathbf{w}, \\alpha)$ in matrix form (2 marks)\n",
    "\n",
    "Write the expression for $J(\\mathbf{w}, \\alpha)$ in matrix form. Include ALL the steps necessary to reach the expression."
   ]
  },
  {
   "cell_type": "markdown",
   "metadata": {},
   "source": [
    "#### Question 1 Answer\n",
    "First we can re-write the $f(\\mathbf{x}_i)$ fucntion as a matrix multipltication to represent multiple inner proucts between individual input vecotrs and parameters:\n",
    "\n",
    "$$\n",
    "f(x_i) = \\mathbf{w}^\\top x_i = (\\mathbf{w}^\\top x_i)^\\top = x^\\top_i\\mathbf{w}\n",
    "$$\n",
    "\n",
    "$$\n",
    "\\mathbf{f} = \\begin{bmatrix}f(x_1)\\\\f(x_2)\\\\ \\vdots \\\\ f(x_n)\\end{bmatrix}.\n",
    "$$\n",
    "\n",
    "$$\n",
    "\\mathbf{f} = \\mathbf{Xw}\n",
    "$$\n",
    "\n",
    "Using the following identity:\n",
    "$$\n",
    "a = \\sum_{i=1}^{k} b^2_i = \\mathbf{b}^\\top\\mathbf{b},\n",
    "$$\n",
    "\n",
    "we can derive:\n",
    "\n",
    "$$\n",
    "J(\\mathbf{w}, \\alpha) = \\frac{1}{N}(\\mathbf{y} - \\mathbf{f})^\\top(\\mathbf{y} - \\mathbf{f}) + \\frac{\\alpha}{2}(\\mathbf{w^\\top w})\n",
    "$$\n",
    "\n",
    "$$\n",
    "J(\\mathbf{w}, \\alpha) = \\frac{1}{N}(\\mathbf{y} - \\mathbf{Xw})^\\top(\\mathbf{y} - \\mathbf{Xw}) + \\frac{\\alpha}{2}(\\mathbf{w^\\top w})\n",
    "$$"
   ]
  },
  {
   "cell_type": "markdown",
   "metadata": {},
   "source": [
    "## Optimising the objective function with respect to $\\mathbf{w}$\n",
    "\n",
    "There are two ways we can optimise the objective function with respect to $\\mathbf{w}$. The first one leads to a closed form expression for $\\mathbf{w}$ and the second one using an iterative optimisation procedure that updates the value of $\\mathbf{w}$ at each iteration by using the gradient of the objective function with respect to $\\mathbf{w}$,\n",
    "$$\n",
    "\\mathbf{w}_{\\text{new}} = \\mathbf{w}_{\\text{old}} - \\eta \\frac{d J(\\mathbf{w}, \\alpha)}{d\\mathbf{w}},\n",
    "$$\n",
    "where $\\eta$ is the *learning rate* parameter and $\\frac{d J(\\mathbf{w}, \\alpha)}{d\\mathbf{w}}$ is the gradient of the objective function.\n",
    "\n",
    "### Question 2: Derivative of $J(\\mathbf{w}, \\alpha)$ wrt $\\mathbf{w}$ (2 marks)\n",
    "\n",
    "Find the closed-form expression for $\\mathbf{w}$ by taking the derivative of $J(\\mathbf{w}, \\alpha)$ with respect to \n",
    "$\\mathbf{w}$, equating to zero and solving for $\\mathbf{w}$. Write the expression in matrix form. \n",
    "\n",
    "Also, write down the specific update rule for $\\mathbf{w}_{\\text{new}}$ by using the equation above."
   ]
  },
  {
   "cell_type": "markdown",
   "metadata": {},
   "source": [
    "#### Question 2 Answer\n",
    "\n",
    "First we multiply out the brackets using the following identity:\n",
    "\n",
    "$$\n",
    "(\\mathbf{a} - \\mathbf{b})^\\top (\\mathbf{c} - \\mathbf{d}) = \\mathbf{a}^\\top \\mathbf{c} - \\mathbf{a}^\\top \\mathbf{d} - \\mathbf{b}^\\top \\mathbf{c} + \\mathbf{b}^\\top \\mathbf{d}\n",
    "$$\n",
    "\n",
    "where $\\mathbf{a} = \\mathbf{c} = \\mathbf{y}$ and $\\mathbf{b}=\\mathbf{d} = \\mathbf{X}\\mathbf{w}$\n",
    "\n",
    "$$\n",
    "(\\mathbf{y} - \\mathbf{Xw})^\\top(\\mathbf{y} - \\mathbf{Xw}) = \\mathbf{y}^\\top\\mathbf{y} - 2\\mathbf{y}^\\top\\mathbf{X}\\mathbf{w} + \\mathbf{w}^\\top\\mathbf{X}^\\top\\mathbf{X}\\mathbf{w}\n",
    "$$\n",
    "\n",
    "Thus:\n",
    "\n",
    "$$\n",
    "J(\\mathbf{w}, \\alpha) = \\frac{1}{N}(\\mathbf{y}^\\top\\mathbf{y} - 2\\mathbf{y}^\\top\\mathbf{X}\\mathbf{w} + \\mathbf{w}^\\top\\mathbf{X}^\\top\\mathbf{X}\\mathbf{w}) + \\frac{\\alpha}{2}(\\mathbf{w^\\top w})\n",
    "$$\n",
    "\n",
    "Now we can differentate two terms on the right hand side seperately using the following identities:\n",
    "\n",
    "$$\n",
    "\\frac{d(w^\\top x)}{dw} = x | \\frac{d(x^\\top w)}{dw} = x | \\frac{d(w^\\top w)}{dw} = 2w | \\frac{d(w^\\top Cw)}{dw} = 2Cw\n",
    "$$\n",
    "\n",
    "And knowing that $\\mathbf{X^\\top X}$ is symmetric, we get:\n",
    "\n",
    "$$\n",
    "\\frac{d J(\\mathbf{w}, \\alpha)}{d\\mathbf{w}} = \\frac{1}{N}(-2\\mathbf{X^\\top y} + 2\\mathbf{X^\\top Xw}) + \\frac{\\alpha}{2}(2\\mathbf{w})\n",
    "$$\n",
    "\n",
    "Rearanging and simplifying:\n",
    "\n",
    "$$\n",
    "\\frac{d J(\\mathbf{w}, \\alpha)}{d\\mathbf{w}} = \\frac{2}{N}(\\mathbf{X^\\top Xw} - \\mathbf{X^\\top y}) + \\alpha\\mathbf{w}\n",
    "$$\n",
    "\n",
    "Thus specific update rule for $\\mathbf{w}_{\\text{new}}$ would be:\n",
    "\n",
    "$$\n",
    "\\mathbf{w}_{\\text{new}} = \\mathbf{w}_{\\text{old}} - \\eta(\\frac{2}{N}(\\mathbf{X^\\top Xw_{\\text{old}}} - \\mathbf{X^\\top y}) + \\alpha\\mathbf{w_{\\text{old}}})\n",
    "$$\n",
    "\n",
    "As for the closed form expression we equate the derived gradient to 0 and rearange for $\\mathbf{w}$:\n",
    "\n",
    "$$\n",
    "\\frac{2}{N}(\\mathbf{X^\\top Xw} - \\mathbf{X^\\top y}) + \\alpha\\mathbf{w} = 0\n",
    "$$\n",
    "\n",
    "$$\n",
    "\\frac{2}{N}(\\mathbf{X^\\top Xw}) - \\frac{2}{N}(\\mathbf{X^\\top y}) + \\alpha\\mathbf{w} = 0\n",
    "$$\n",
    "\n",
    "$$\n",
    "\\mathbf{X^\\top Xw} - \\mathbf{X^\\top y} + \\frac{N\\alpha}{2}\\mathbf{w} = 0\n",
    "$$\n",
    "\n",
    "$$\n",
    "\\mathbf{X^\\top Xw} + \\frac{N\\alpha}{2}\\mathbf{w} = \\mathbf{X^\\top y}\n",
    "$$\n",
    "\n",
    "$$\n",
    "(\\mathbf{X^\\top X} + \\frac{N\\alpha}{2}\\mathbf{I})\\mathbf{w} = \\mathbf{X^\\top y}\n",
    "$$\n",
    "\n",
    "Thus:\n",
    "$$\n",
    "\\mathbf{w^*} = (\\mathbf{X^\\top X} + \\frac{N\\alpha}{2}\\mathbf{I})^{-1}\\mathbf{X^\\top y}\n",
    "$$"
   ]
  },
  {
   "cell_type": "markdown",
   "metadata": {},
   "source": [
    "# Using ridge regression to predict air quality\n",
    "\n",
    "Our dataset comes from a popular machine learning repository that hosts open source datasets for educational and research purposes, the [UCI Machine Learning Repository](https://archive.ics.uci.edu/ml/index.php). We are going to use ridge regression for predicting air quality. The description of the dataset can be found [here](https://archive.ics.uci.edu/ml/datasets/Air+Quality)."
   ]
  },
  {
   "cell_type": "code",
   "execution_count": 1,
   "metadata": {},
   "outputs": [],
   "source": [
    "import numpy as np\n",
    "import pandas as pd\n",
    "import matplotlib.pyplot as plt"
   ]
  },
  {
   "cell_type": "code",
   "execution_count": 2,
   "metadata": {},
   "outputs": [
    {
     "name": "stdout",
     "output_type": "stream",
     "text": [
      "Downloading  https://archive.ics.uci.edu/ml/machine-learning-databases/00360/AirQualityUCI.zip -> ./AirQualityUCI.zip\n"
     ]
    },
    {
     "name": "stdout",
     "output_type": "stream",
     "text": [
      "[==========================    ]   1.320/1.472MB                                                                                                                                                                                                                                                                                                                                                                                                                                                                                                                                                                                                                                                                                                                                                                                                                                                                                                                                                                                                                                                                                                                                                                                                                                                                                                                                                                                                                                                                                                                                                                                                                                                                                                                                                                                                                                                                                                                                                                                                                                                                                                                                                                                                                                                                                                                                                                                                                                                                                                                                                                                                                                                                                                                                                                                                                                                                                                                                                                                                                                                                                                                                                                                                                                                                                                                                                                                                                                                                                                                                                                                                                                                                                                                                                                                                                                                                                                                                                                                                                                                                                                                                                                                                                                                                                                                                                                                                                                                                                                                                                                                                                                                                                                                                                                                                                                                                                                                                                                                                                                                                                                                                                                                                                                                                                                                                                                                                                                                                                                                                                                                                                                                                                                                                                                                                                                                                                                                                                                                                                                                                                                                                                                                                                                                                                                                                                                                                                                                                                                                                                                                                                                                                                                                                                                                                                                                                                                                                                                                                                                                                                                                                                                                                                                                                                                                                                                                                                                                                                                                                                                                                                                                                                                                                                                                                                                                                                                                                                                                                                                                                                                                                                                                                                                                                                                                                                                                                                                                \r",
      "[===========================   ]   1.328/1.472MB"
     ]
    },
    {
     "name": "stdout",
     "output_type": "stream",
     "text": [
      "[==============================]   1.472/1.472MB                                                                                                                                                                                                                                                                                                                                                                                                                                                                                                                                                                                                                                                                                                                                                                                                                                                                                                                                                \n"
     ]
    }
   ],
   "source": [
    "import pods\n",
    "pods.util.download_url('https://archive.ics.uci.edu/ml/machine-learning-databases/00360/AirQualityUCI.zip')\n",
    "import zipfile\n",
    "zip = zipfile.ZipFile('./AirQualityUCI.zip', 'r')\n",
    "for name in zip.namelist():\n",
    "    zip.extract(name, '.')"
   ]
  },
  {
   "cell_type": "code",
   "execution_count": 3,
   "metadata": {},
   "outputs": [],
   "source": [
    "# The .csv version of the file has some typing issues, so we use the excel version\n",
    "air_quality = pd.read_excel('./AirQualityUCI.xlsx', usecols=range(2,15))"
   ]
  },
  {
   "cell_type": "markdown",
   "metadata": {},
   "source": [
    "We can see some of the rows in the dataset "
   ]
  },
  {
   "cell_type": "code",
   "execution_count": 4,
   "metadata": {},
   "outputs": [
    {
     "data": {
      "text/html": [
       "<div>\n",
       "<style scoped>\n",
       "    .dataframe tbody tr th:only-of-type {\n",
       "        vertical-align: middle;\n",
       "    }\n",
       "\n",
       "    .dataframe tbody tr th {\n",
       "        vertical-align: top;\n",
       "    }\n",
       "\n",
       "    .dataframe thead th {\n",
       "        text-align: right;\n",
       "    }\n",
       "</style>\n",
       "<table border=\"1\" class=\"dataframe\">\n",
       "  <thead>\n",
       "    <tr style=\"text-align: right;\">\n",
       "      <th></th>\n",
       "      <th>CO(GT)</th>\n",
       "      <th>PT08.S1(CO)</th>\n",
       "      <th>NMHC(GT)</th>\n",
       "      <th>C6H6(GT)</th>\n",
       "      <th>PT08.S2(NMHC)</th>\n",
       "      <th>NOx(GT)</th>\n",
       "      <th>PT08.S3(NOx)</th>\n",
       "      <th>NO2(GT)</th>\n",
       "      <th>PT08.S4(NO2)</th>\n",
       "      <th>PT08.S5(O3)</th>\n",
       "      <th>T</th>\n",
       "      <th>RH</th>\n",
       "      <th>AH</th>\n",
       "    </tr>\n",
       "  </thead>\n",
       "  <tbody>\n",
       "    <tr>\n",
       "      <td>3702</td>\n",
       "      <td>1.6</td>\n",
       "      <td>1053.0</td>\n",
       "      <td>-200</td>\n",
       "      <td>7.886653</td>\n",
       "      <td>894.50</td>\n",
       "      <td>58.0</td>\n",
       "      <td>744.75</td>\n",
       "      <td>46.0</td>\n",
       "      <td>1726.50</td>\n",
       "      <td>882.00</td>\n",
       "      <td>27.300</td>\n",
       "      <td>57.775000</td>\n",
       "      <td>2.064634</td>\n",
       "    </tr>\n",
       "    <tr>\n",
       "      <td>4133</td>\n",
       "      <td>-200.0</td>\n",
       "      <td>1160.5</td>\n",
       "      <td>-200</td>\n",
       "      <td>12.214164</td>\n",
       "      <td>1057.00</td>\n",
       "      <td>-200.0</td>\n",
       "      <td>613.00</td>\n",
       "      <td>-200.0</td>\n",
       "      <td>1764.00</td>\n",
       "      <td>1026.00</td>\n",
       "      <td>25.125</td>\n",
       "      <td>51.525000</td>\n",
       "      <td>1.620955</td>\n",
       "    </tr>\n",
       "    <tr>\n",
       "      <td>21</td>\n",
       "      <td>2.2</td>\n",
       "      <td>1310.0</td>\n",
       "      <td>79</td>\n",
       "      <td>8.826223</td>\n",
       "      <td>932.50</td>\n",
       "      <td>184.0</td>\n",
       "      <td>1081.75</td>\n",
       "      <td>126.0</td>\n",
       "      <td>1646.50</td>\n",
       "      <td>946.25</td>\n",
       "      <td>8.325</td>\n",
       "      <td>79.799999</td>\n",
       "      <td>0.877784</td>\n",
       "    </tr>\n",
       "    <tr>\n",
       "      <td>7603</td>\n",
       "      <td>5.0</td>\n",
       "      <td>1516.5</td>\n",
       "      <td>-200</td>\n",
       "      <td>23.959596</td>\n",
       "      <td>1402.50</td>\n",
       "      <td>827.1</td>\n",
       "      <td>451.00</td>\n",
       "      <td>197.8</td>\n",
       "      <td>1578.50</td>\n",
       "      <td>2194.75</td>\n",
       "      <td>11.100</td>\n",
       "      <td>51.449999</td>\n",
       "      <td>0.679006</td>\n",
       "    </tr>\n",
       "    <tr>\n",
       "      <td>2484</td>\n",
       "      <td>0.9</td>\n",
       "      <td>889.5</td>\n",
       "      <td>-200</td>\n",
       "      <td>6.412912</td>\n",
       "      <td>830.75</td>\n",
       "      <td>93.0</td>\n",
       "      <td>922.00</td>\n",
       "      <td>67.0</td>\n",
       "      <td>1594.25</td>\n",
       "      <td>825.75</td>\n",
       "      <td>17.750</td>\n",
       "      <td>56.500000</td>\n",
       "      <td>1.137511</td>\n",
       "    </tr>\n",
       "  </tbody>\n",
       "</table>\n",
       "</div>"
      ],
      "text/plain": [
       "      CO(GT)  PT08.S1(CO)  NMHC(GT)   C6H6(GT)  PT08.S2(NMHC)  NOx(GT)  \\\n",
       "3702     1.6       1053.0      -200   7.886653         894.50     58.0   \n",
       "4133  -200.0       1160.5      -200  12.214164        1057.00   -200.0   \n",
       "21       2.2       1310.0        79   8.826223         932.50    184.0   \n",
       "7603     5.0       1516.5      -200  23.959596        1402.50    827.1   \n",
       "2484     0.9        889.5      -200   6.412912         830.75     93.0   \n",
       "\n",
       "      PT08.S3(NOx)  NO2(GT)  PT08.S4(NO2)  PT08.S5(O3)       T         RH  \\\n",
       "3702        744.75     46.0       1726.50       882.00  27.300  57.775000   \n",
       "4133        613.00   -200.0       1764.00      1026.00  25.125  51.525000   \n",
       "21         1081.75    126.0       1646.50       946.25   8.325  79.799999   \n",
       "7603        451.00    197.8       1578.50      2194.75  11.100  51.449999   \n",
       "2484        922.00     67.0       1594.25       825.75  17.750  56.500000   \n",
       "\n",
       "            AH  \n",
       "3702  2.064634  \n",
       "4133  1.620955  \n",
       "21    0.877784  \n",
       "7603  0.679006  \n",
       "2484  1.137511  "
      ]
     },
     "execution_count": 4,
     "metadata": {},
     "output_type": "execute_result"
    }
   ],
   "source": [
    "air_quality.sample(5)"
   ]
  },
  {
   "cell_type": "markdown",
   "metadata": {},
   "source": [
    "The target variable corresponds to the CO(GT) variable of the first column. The following columns correspond to the variables in the feature vectors, *e.g.*, PT08.S1(CO) is $x_1$ up until AH which is $x_D$. The original dataset also has a date and a time columns that we are not going to use in this assignment.\n",
    "\n",
    "Before designing our predictive model, we need to think about three stages: the preprocessing stage, the training stage and the validation stage. The three stages are interconnected and *it is important to remember that the testing data that we use for validation has to be set aside before preprocessing*. Any preprocessing that you do has to be done only on the training data and several key statistics need to be saved for the test stage.\n",
    "\n",
    "Separating the dataset into training and test before any preprocessing has happened help us to recreate the real world scenario where we will deploy our system and for which the data will come without any preprocessing.\n",
    "\n",
    "We are going to use *hold-out validation* for testing our predictive model so we need to separate the dataset into a training set and a test set.\n",
    "\n",
    "### Question 3: Splitting the dataset (1 mark)\n",
    "\n",
    "Split the dataset into a training set and a test set. The training set should have 70% of the total observations and the test set, the 30%. For making the random selection make sure that you use a random seed that corresponds to the last five digits of your student UCard. Make sure that you comment your code.\n",
    "\n",
    "#### Question 3 Answer"
   ]
  },
  {
   "cell_type": "code",
   "execution_count": 5,
   "metadata": {},
   "outputs": [],
   "source": [
    "def train_test_split(data, labels=None, random_state=52997, train_size=0.7):\n",
    "    \"\"\" Split data into a training and test set\n",
    "\n",
    "    Parameters\n",
    "    ----------\n",
    "    data\n",
    "        The pd.DataFrame object to be split\n",
    "    labels\n",
    "        Optional parameter to split the labels if passed\n",
    "    random_state\n",
    "        Randomizes splitting, set to last 5 numbers on Ucard by default\n",
    "    train_size\n",
    "        Proportion of data for training set, 70% by default\n",
    "\n",
    "    Returns\n",
    "    -------\n",
    "    train, test\n",
    "        Return just train and test set if labels were not provided\n",
    "        \n",
    "    train, test, y_train, y_test\n",
    "        Also return labels for train and test set if provided.\n",
    "\n",
    "    \"\"\"\n",
    "    \n",
    "    # Sample 70% of the data:\n",
    "    train = data.sample(frac=train_size, random_state=random_state)\n",
    "    \n",
    "    # Delete the train data form original DataFrame:\n",
    "    test = data.drop(train.index)\n",
    "    \n",
    "    if labels is None:\n",
    "        return train, test\n",
    "    else:\n",
    "        y_train, y_test = y.loc[train.index], labels.loc[test.index]\n",
    "        return train, test, y_train, y_test"
   ]
  },
  {
   "cell_type": "code",
   "execution_count": 6,
   "metadata": {},
   "outputs": [],
   "source": [
    "train, test = train_test_split(air_quality)"
   ]
  },
  {
   "cell_type": "markdown",
   "metadata": {},
   "source": [
    "## Preprocessing the data\n",
    "\n",
    "The dataset has missing values tagged with a -200 value. Before doing any work with the training data, we want to make sure that we deal properly with the missing values. \n",
    "\n",
    "### Question 4: Missing values (3 marks)\n",
    "\n",
    "Make some exploratory analysis on the number of missing values per column in the training data. \n",
    "\n",
    "* Remove the rows for which the target feature has missing values. We are doing supervised learning so we need all our data observations to have known target values.\n",
    "\n",
    "* Remove features with more than 20% of missing values. For all the other features with missing values, use the mean value of the non-missing values for imputation.\n",
    "\n",
    "#### Question 4 Answer"
   ]
  },
  {
   "cell_type": "code",
   "execution_count": 7,
   "metadata": {},
   "outputs": [],
   "source": [
    "def preprocess(data, features=None, fill=None):\n",
    "    \"\"\" Function for preprocessing the data.\n",
    "\n",
    "    Parameters\n",
    "    ----------\n",
    "    data\n",
    "        The pd.DataFrame object to be preprocessed\n",
    "        Has to contain 'CO(GT)' as one of the columns\n",
    "    features\n",
    "        Optional parameter denoting which features to keep\n",
    "        If not provided features with over 20% missing values are droped\n",
    "\n",
    "    Returns\n",
    "    -------\n",
    "    data\n",
    "        Preprocessed pd.DataFrame object\n",
    "\n",
    "    \"\"\"\n",
    "\n",
    "    # Replace the -200 values with NaNs:\n",
    "    data.where(data != -200, inplace=True)\n",
    "\n",
    "    # Remove the rows with missing values in target column:\n",
    "    data.dropna(subset=['CO(GT)'], inplace=True)\n",
    "\n",
    "    # Remove the features with more than 20% missing values:\n",
    "    if features is None:\n",
    "        data.dropna(axis=1, thresh=(data.shape[0]*0.8), inplace=True)\n",
    "    else:\n",
    "        data = data[features]\n",
    "\n",
    "    # Fill missing values:\n",
    "    if fill is None:\n",
    "        data.fillna(data.mean(), inplace=True)\n",
    "    else:\n",
    "        data.fillna(fill, inplace=True)\n",
    "    \n",
    "    return data"
   ]
  },
  {
   "cell_type": "code",
   "execution_count": 8,
   "metadata": {},
   "outputs": [],
   "source": [
    "train = preprocess(train)"
   ]
  },
  {
   "cell_type": "markdown",
   "metadata": {},
   "source": [
    "### Question 5: Normalising the training data (2 marks)\n",
    "\n",
    "Now that you have removed the missing data, we need to normalise the input vectors. \n",
    "\n",
    "* Explain in a sentence why do you need to normalise the input features for this dataset.\n",
    "\n",
    "* Normalise the training data by substracting the mean value for each feature and dividing the result by the standard deviation of each feature. Keep the mean values and standard deviations, you will need them at test time.\n",
    "\n",
    "#### Question 5 Answer\n",
    "\n",
    "Makes training less sensative to the scale of features and stabilizes the regularization. \n"
   ]
  },
  {
   "cell_type": "code",
   "execution_count": 19,
   "metadata": {},
   "outputs": [],
   "source": [
    "# Makes sense to split data here since we only have to normalise the input data.\n",
    "y = train['CO(GT)']\n",
    "X = train.drop(['CO(GT)'], axis=1)\n",
    "\n",
    "# Normalise the input features:\n",
    "train_mean = X.mean()\n",
    "train_std = X.std()\n",
    "X_norm_1 = (X - train_mean)/train_std\n",
    "\n",
    "X_norm = np.empty(X.shape)\n",
    "for i in range(X.shape[1]):\n",
    "    X_norm[:, i] = (X_norm[:, i] - train_mean[i])/train_std[i] \n",
    "    "
   ]
  },
  {
   "cell_type": "code",
   "execution_count": 21,
   "metadata": {},
   "outputs": [
    {
     "name": "stdout",
     "output_type": "stream",
     "text": [
      "[1.11210432e+03 1.03230852e+01 9.48855924e+02 2.57872006e+02\n",
      " 8.26943338e+02 1.14945219e+02 1.44454942e+03 1.05034943e+03\n",
      " 1.76404829e+01 4.92440213e+01 9.85834018e-01]\n",
      "[2.14718531e+02 7.26477585e+00 2.59757660e+02 2.12882143e+02\n",
      " 2.53762733e+02 4.73058636e+01 3.41802289e+02 4.00211168e+02\n",
      " 8.63732418e+00 1.70366159e+01 3.90495687e-01]\n"
     ]
    },
    {
     "data": {
      "text/plain": [
       "array([[  -5.15422975,   11.71028481,   -3.6528506 , ...,  -25.58602627,\n",
       "          -4.90698047,  422.30900634],\n",
       "       [  -5.53728937,  -39.87423858,   -3.83515252, ...,   37.02016851,\n",
       "         -12.88978648, -281.92412425],\n",
       "       [  -5.61529847,   10.50584297,   -2.98243464, ...,   37.65693979,\n",
       "          -8.44348093,  948.56321847],\n",
       "       ...,\n",
       "       [  -5.1798895 ,   -1.42097779,   -3.65193715, ...,   -2.05660936,\n",
       "          -2.88948137,   -1.96571906],\n",
       "       [  -5.17676647,   -1.39040624,   -3.65379251, ...,   -2.08125713,\n",
       "          -2.89048139,   -2.85167146],\n",
       "       [  -5.18036631,   -1.50059734,   -3.65301557, ...,   -2.10055313,\n",
       "          -2.9326304 ,   -3.60723974]])"
      ]
     },
     "execution_count": 21,
     "metadata": {},
     "output_type": "execute_result"
    }
   ],
   "source": [
    "print(train_mean.values)\n",
    "print(train_std.values)\n",
    "X_norm"
   ]
  },
  {
   "cell_type": "markdown",
   "metadata": {},
   "source": [
    "## Training and validation stages\n",
    "\n",
    "We have now curated our training data by removing data observations and features with a large amount of missing values. We have also normalised the feature vectors. We are now in a good position to work on developing the prediction model and validating it. We will use both the closed form expression for $\\mathbf{w}$ and gradient descent for iterative optimisation. \n",
    "\n",
    "We first organise the dataframe into the vector of targets $\\mathbf{y}$ and the design matrix $\\mathbf{X}$."
   ]
  },
  {
   "cell_type": "code",
   "execution_count": 10,
   "metadata": {},
   "outputs": [],
   "source": [
    "# Write your code here to get y and X\n",
    "y = y\n",
    "X['Eins'] = 1"
   ]
  },
  {
   "cell_type": "markdown",
   "metadata": {},
   "source": [
    "### Question 6: training with closed form expression for $\\mathbf{w}$ (3 marks)\n",
    "\n",
    "To find the optimal value of $\\mathbf{w}$ using the closed form expression that you derived before, we need to know the value of the regularisation parameter $\\alpha$ in advance. We will determine the value by using part of the training data for finding the parameters $\\mathbf{w}$ and another part of the training data to choose the best $\\alpha$ from a set of predefined values.\n",
    "\n",
    "* Use `np.logspace(start, stop, num)` to create a set of values for $\\alpha$ in log scale. Use the following parameters `start=-3`, `stop=2` and `num=20`. \n",
    "\n",
    "* Randomly split the training data into what is properly called the training set and the validation set. As before, make sure that you use a random seed that corresponds to the last five digits of your student UCard. Use 70% of the data for the training set and 30% of the data for the validation set.\n",
    "\n",
    "* For each value that you have for $\\alpha$ from the previous step, use the training set to compute $\\mathbf{w}$ and then measure the mean-squared error (MSE) over the validation data. After this, you will have `num=20` MSE values. Choose the value of $\\alpha$ that leads to the lower MSE and save it. You will use it at the test stage.\n",
    "\n",
    "* What was the best value of $\\alpha$? Is there any explanation for that?\n",
    "\n",
    "#### Question 6 Answer"
   ]
  },
  {
   "cell_type": "code",
   "execution_count": 11,
   "metadata": {},
   "outputs": [],
   "source": [
    "def closed_form(X, y, alpha):\n",
    "    \"\"\" Calculates closed form solution.\n",
    "\n",
    "    Parameters\n",
    "    ----------\n",
    "    X\n",
    "        Input features\n",
    "    y\n",
    "        Output labels\n",
    "    alpha\n",
    "        Regularization parameter\n",
    "\n",
    "    Returns\n",
    "    -------\n",
    "    w\n",
    "        Optimal value w*\n",
    "\n",
    "    \"\"\"\n",
    "    \n",
    "    N, n_features = X.shape\n",
    "    linear1 = ((X.T @ X) + (((N * alpha) / 2) * np.eye(n_features)))\n",
    "    linear2 = X.T @ y \n",
    "    w = np.linalg.solve(linear1, linear2)\n",
    "    \n",
    "    return w"
   ]
  },
  {
   "cell_type": "code",
   "execution_count": 12,
   "metadata": {},
   "outputs": [],
   "source": [
    "def compute_mse(actual, pred):\n",
    "    \"\"\" Calculates mean squared error.\n",
    "\n",
    "    Parameters\n",
    "    ----------\n",
    "    actual\n",
    "        Output labels\n",
    "    pred\n",
    "        Preidctions made by the model\n",
    "\n",
    "    Returns\n",
    "    -------\n",
    "    mse\n",
    "        Mean Square Error of predictions\n",
    "\n",
    "    \"\"\"\n",
    "    \n",
    "    mse = np.mean(np.square(actual - pred))\n",
    "    return mse"
   ]
  },
  {
   "cell_type": "code",
   "execution_count": 13,
   "metadata": {},
   "outputs": [],
   "source": [
    "def optimal_alpha(X, y):\n",
    "    \n",
    "    alpha_range = np.logspace(-3, 2, 100)\n",
    "\n",
    "    # Split data into train and validation\n",
    "    X_train, X_val, y_train, y_val = train_test_split(X, labels=y)\n",
    "\n",
    "    val_errors = []\n",
    "    for alpha in alpha_range:\n",
    "        w = closed_form(X_train, y_train, alpha)\n",
    "        \n",
    "        val_pred = X_val @ w\n",
    "        val_mse = compute_mse(y_val, val_pred)\n",
    "        val_errors.append(val_mse)\n",
    "         \n",
    "    # Plot error vs alpha:\n",
    "    fig, ax = plt.subplots(2)\n",
    "    \n",
    "    for i in range(len(ax)):\n",
    "        ax[i].plot(alpha_range, val_errors)\n",
    "        ax[i].set_xlabel('Alpha')\n",
    "        ax[i].set_ylabel('Error (mse)')     \n",
    "    ax[0].set_title('Error vs Alpha')\n",
    "    ax[1].set(xlim=(0, 0.1), ylim=(0.23, 0.24)) # Scaled plot\n",
    "    \n",
    "    return alpha_range[np.argmin(val_errors)]"
   ]
  },
  {
   "cell_type": "code",
   "execution_count": 14,
   "metadata": {},
   "outputs": [
    {
     "name": "stdout",
     "output_type": "stream",
     "text": [
      "Optimal alpha is 0.029\n"
     ]
    },
    {
     "data": {
      "image/png": "[encoded data removed]",
      "text/plain": [
       "<Figure size 432x288 with 2 Axes>"
      ]
     },
     "metadata": {
      "needs_background": "light"
     },
     "output_type": "display_data"
    }
   ],
   "source": [
    "opt_alpha = optimal_alpha(X, y)\n",
    "print(f'Optimal alpha is {opt_alpha:.2}')"
   ]
  },
  {
   "cell_type": "markdown",
   "metadata": {},
   "source": [
    "As alpha increases the error becomes larger tending towards similar values as if the parameters were initialised randomly. This is caused by unstable update of the parameters due to regularazation becoming dominant value. So alpha has to be small to ensure the parameters are not over regularized but it has to be over 0 to limit the complexity of the model to an extent."
   ]
  },
  {
   "cell_type": "markdown",
   "metadata": {},
   "source": [
    "### Question 7: validation with the closed form expression for $\\mathbf{w}$ (2 marks)\n",
    "\n",
    "We are going to deal now with the test data to perform the validation of the model. Remember that the test data might also contain missing values in the target variable and in the input features.\n",
    "\n",
    "* Remove the rows of the test data for which the labels have missing values. \n",
    "* If you remove any feature at the training stage, you also need to remove the same features from the test stage.\n",
    "* Replace the missing values on each feature variables with the mean value you computed in the training data.\n",
    "* Normalise the test data using the means and standard deviations computed from the training data\n",
    "* Compute again $\\mathbf{w}$ for the value of $\\alpha$ that best performed on the validation set using ALL the training data (not all the training set).\n",
    "* Report the MSE on the preprocessed test data and an histogram with the absolute error.\n",
    "* Does the regularisation have any effect on the model? Explain your answer.\n",
    "\n",
    "#### Question 7 Answer"
   ]
  },
  {
   "cell_type": "code",
   "execution_count": 15,
   "metadata": {},
   "outputs": [],
   "source": [
    "def validate_model(test_data, train, w, display=False):\n",
    "    \"\"\" Function for validating the model. \n",
    "    Preprocessed the training data and makes predictions\n",
    "    Then calculates mse and absolute error and displays results\n",
    "\n",
    "    Parameters\n",
    "    ----------\n",
    "    test_data\n",
    "        Unprocessed test data passed as pd.DataFrame\n",
    "    train\n",
    "        Processed train data (pd.DataFrame)\n",
    "    w\n",
    "        Parameter values calculated durning training\n",
    "    display\n",
    "        If set to True will plot absolute error histogram\n",
    "    \"\"\"\n",
    "    \n",
    "    # Preprocess and Normalise the test data:\n",
    "    test_data = preprocess(test_data, features=train.columns, fill=train.mean())\n",
    "    y_test = test_data['CO(GT)']\n",
    "    X_test = test_data.drop(['CO(GT)'], axis=1)\n",
    "    X_test = (X_test - train_mean) / train_std\n",
    "    X_test['Eins'] = 1\n",
    "    \n",
    "    # Make predictions and compute mse error:\n",
    "    pred = X_test @ w\n",
    "    mse = compute_mse(y_test, pred)\n",
    "    print(f'Mean squared error for the test data is {mse:.4}')\n",
    "    \n",
    "    # Compute and plot the absoulte error:\n",
    "    abs_error = np.abs(y_test - pred)\n",
    "    mae = abs_error.sum()/abs_error.shape[0]\n",
    "    print(f'Mean absolute error for the test data is {mae:.4}')\n",
    "    \n",
    "    if display:\n",
    "        abs_error.hist(bins=100)\n",
    "        plt.title('Absolute Error Histogram')\n",
    "        plt.xlabel('Error (absolute)')\n",
    "        plt.ylabel('N of Occurences')"
   ]
  },
  {
   "cell_type": "code",
   "execution_count": 16,
   "metadata": {},
   "outputs": [
    {
     "name": "stderr",
     "output_type": "stream",
     "text": [
      "/Users/Lucker/anaconda3/envs/mlai/lib/python3.6/site-packages/pandas/core/generic.py:6287: SettingWithCopyWarning: \n",
      "A value is trying to be set on a copy of a slice from a DataFrame\n",
      "\n",
      "See the caveats in the documentation: http://pandas.pydata.org/pandas-docs/stable/user_guide/indexing.html#returning-a-view-versus-a-copy\n",
      "  self._update_inplace(new_data)\n"
     ]
    },
    {
     "name": "stdout",
     "output_type": "stream",
     "text": [
      "Mean squared error for the test data is 0.2195\n",
      "Mean absolute error for the test data is 0.3047\n"
     ]
    },
    {
     "data": {
      "image/png": "[encoded data removed]",
      "text/plain": [
       "<Figure size 432x288 with 1 Axes>"
      ]
     },
     "metadata": {
      "needs_background": "light"
     },
     "output_type": "display_data"
    }
   ],
   "source": [
    "# Validation with optimal alpha calculated above\n",
    "w_closed = closed_form(X, y, opt_alpha) \n",
    "validate_model(test, train, w_closed, display=True)"
   ]
  },
  {
   "cell_type": "code",
   "execution_count": 17,
   "metadata": {},
   "outputs": [
    {
     "name": "stdout",
     "output_type": "stream",
     "text": [
      "Mean squared error for the test data is 0.2194\n",
      "Mean absolute error for the test data is 0.3028\n"
     ]
    }
   ],
   "source": [
    "# Validation with alpha set to 0 (i.e. no regularization)\n",
    "w = closed_form(X, y, 0)\n",
    "validate_model(test, train, w)"
   ]
  },
  {
   "cell_type": "markdown",
   "metadata": {},
   "source": [
    "In theory regularization does have an effect on the model, limiting its complexity which allows for a greater generalisation. However, results above suggest that regularization does not improve the performance of the model on testing set. The difference however is so small that could be attributed to statistical noise or it could imply that regularisation is not effective for computing the optimal parameter directly trough the closed form expression."
   ]
  },
  {
   "cell_type": "markdown",
   "metadata": {},
   "source": [
    "## Question 8: training with gradient descent and validation (5 marks)\n",
    "\n",
    "\n",
    "Use gradient descent to iteratively compute the value of $\\mathbf{w}_{\\text{new}}$. Instead of using all the training set to compute the gradient, use a subset of $B$ datapoints in the training set. This is sometimes called minibatch gradient descent where $B$ is the size of the minibacth. When using gradient descent with minibatches, you need to find the best values for three parameters: $\\eta$, the learning rate, $B$, the number of datapoints in the minibatch and $\\alpha$, the regularisation parameter.\n",
    "\n",
    "* As you did on Question 6, create a grid of values for the parameters $\\alpha$ and $\\eta$ using `np.logspace` and a grid of values for $B$ using np.linspace. Because you need to find \n",
    " three parameters, start with `num=5` and see if you can increase it.\n",
    "\n",
    "* Use the same training set and validation set that you used in Question 6.\n",
    "\n",
    "* For each value that you have of $\\alpha$, $\\eta$ and $B$ from the previous step, use the training set to compute $\\mathbf{w}$ using minibatch gradient descent and then measure the MSE over the validation data. For the minibatch gradient descent choose to stop the iterative procedure after $500$ iterations.\n",
    "\n",
    "* Choose the values of $\\alpha$, $\\eta$ and $B$ that lead to the lower MSE and save them. You will use them at the test stage.\n",
    "\n",
    "*3 marks of out of the 5 marks*\n",
    "\n",
    "\n",
    "* Use the test set from Question 7 and provide the MSE obtained by having used minibatch training with the best values for $\\alpha$, $\\eta$ and $B$ over the WHOLE training data (not only the training set).\n",
    "\n",
    "* Compare the performance of the closed form solution and the minibatch solution. Are the performances similar? Are the parameters $\\mathbf{w}$ and $\\alpha$ similar in both approaches? Please comment on both questions.\n",
    "\n",
    "*2 marks of out of the 5 marks*\n",
    "\n",
    "#### Question 8 Answer"
   ]
  },
  {
   "cell_type": "code",
   "execution_count": 18,
   "metadata": {},
   "outputs": [],
   "source": [
    "def compute_gradient(X, y, w, alpha):\n",
    "    \"\"\" Calculate the gradient using equation derived above\n",
    "\n",
    "    Parameters\n",
    "    ----------\n",
    "    X\n",
    "        Input features\n",
    "    y\n",
    "        Output labels\n",
    "    w \n",
    "        parameter values\n",
    "    alpha\n",
    "        regularization parameter\n",
    "    \n",
    "    Return\n",
    "    ------\n",
    "    dw\n",
    "        gradient for upading parameters\n",
    "    \"\"\"\n",
    "    \n",
    "    N = X.shape[0]\n",
    "    dw = (2 / N) * ((X.T @ X @ w) - (X.T @ y)) + (alpha * w)\n",
    "    \n",
    "    return dw"
   ]
  },
  {
   "cell_type": "code",
   "execution_count": 19,
   "metadata": {},
   "outputs": [],
   "source": [
    "def MBGD(X, y, lr=0.001, alpha=0.01, batch_size=32, epochs=500, train_size=0.7):\n",
    "    \n",
    "    X_train, X_val, y_train, y_val = train_test_split(X, labels=y, train_size=train_size)\n",
    "    N, n_features = X_train.shape\n",
    "     \n",
    "    np.random.seed(52997) # Ensures weights are always initialised to same values\n",
    "    w = np.random.uniform(-0.01, 0.01, size=(n_features))\n",
    "    \n",
    "    val_errors = []\n",
    "    for epoch in range(epochs):\n",
    "        \n",
    "        # Shuffle the data using the random sample method in train_test_split\n",
    "        shuff_X, _, shuff_y, _ = train_test_split(X_train, labels=y_train, train_size=1, random_state=epoch)\n",
    "        \n",
    "        # Split the data into minibatches\n",
    "        split_X = np.array_split(shuff_X.values, int(N/batch_size))\n",
    "        split_y = np.array_split(shuff_y.values, int(N/batch_size))\n",
    "        \n",
    "        for i in range(len(split_X)):   \n",
    "            X_i, y_i = split_X[i], split_y[i]\n",
    "            dw = compute_gradient(X_i, y_i, w, alpha)\n",
    "            w -= (lr * dw)\n",
    "        \n",
    "        # Compute valuation error if not full training set is used\n",
    "        if train_size < 1:\n",
    "            val_pred = X_val @ w\n",
    "            val_error = compute_mse(y_val, val_pred)\n",
    "            val_errors.append(val_error)\n",
    "                \n",
    "    return w, val_errors"
   ]
  },
  {
   "cell_type": "code",
   "execution_count": 20,
   "metadata": {},
   "outputs": [
    {
     "name": "stdout",
     "output_type": "stream",
     "text": [
      "New minimal error: 0.2348. Improved by 0.7652\n",
      "With following parameters: {'lr': 0.001, 'alpha': 0.001, 'batch_size': 32}\n",
      "New minimal error: 0.2346. Improved by 0.0001834\n",
      "With following parameters: {'lr': 0.001, 'alpha': 0.001, 'batch_size': 64}\n",
      "New minimal error: 0.2336. Improved by 0.001005\n",
      "With following parameters: {'lr': 0.001, 'alpha': 0.001, 'batch_size': 128}\n",
      "New minimal error: 0.232. Improved by 0.001554\n",
      "With following parameters: {'lr': 0.001, 'alpha': 0.001, 'batch_size': 256}\n",
      "New minimal error: 0.2315. Improved by 0.0004954\n",
      "With following parameters: {'lr': 0.001, 'alpha': 0.001, 'batch_size': 512}\n",
      "New minimal error: 0.2315. Improved by 6.721e-06\n",
      "With following parameters: {'lr': 0.001, 'alpha': 0.0016681005372000592, 'batch_size': 512}\n",
      "New minimal error: 0.2315. Improved by 8.699e-06\n",
      "With following parameters: {'lr': 0.001, 'alpha': 0.0027825594022071257, 'batch_size': 512}\n",
      "New minimal error: 0.2315. Improved by 7.547e-06\n",
      "With following parameters: {'lr': 0.001, 'alpha': 0.004641588833612777, 'batch_size': 512}\n",
      "New minimal error: 0.2315. Improved by 2.111e-05\n",
      "With following parameters: {'lr': 0.001291549665014884, 'alpha': 0.0027825594022071257, 'batch_size': 512}\n",
      "New minimal error: 0.2315. Improved by 3.562e-05\n",
      "With following parameters: {'lr': 0.001291549665014884, 'alpha': 0.004641588833612777, 'batch_size': 512}\n",
      "New minimal error: 0.2314. Improved by 3.902e-05\n",
      "With following parameters: {'lr': 0.001291549665014884, 'alpha': 0.007742636826811269, 'batch_size': 512}\n",
      "New minimal error: 0.2314. Improved by 8.986e-06\n",
      "With following parameters: {'lr': 0.001291549665014884, 'alpha': 0.01291549665014884, 'batch_size': 512}\n"
     ]
    },
    {
     "ename": "KeyboardInterrupt",
     "evalue": "",
     "output_type": "error",
     "traceback": [
      "\u001b[0;31m---------------------------------------------------------------------------\u001b[0m",
      "\u001b[0;31mKeyboardInterrupt\u001b[0m                         Traceback (most recent call last)",
      "\u001b[0;32m<ipython-input-20-b378402d7a70>\u001b[0m in \u001b[0;36m<module>\u001b[0;34m\u001b[0m\n\u001b[1;32m     18\u001b[0m     \u001b[0;32mreturn\u001b[0m \u001b[0mpars\u001b[0m\u001b[0;34m\u001b[0m\u001b[0;34m\u001b[0m\u001b[0m\n\u001b[1;32m     19\u001b[0m \u001b[0;34m\u001b[0m\u001b[0m\n\u001b[0;32m---> 20\u001b[0;31m \u001b[0mopt_pars\u001b[0m \u001b[0;34m=\u001b[0m \u001b[0moptimize_mbgd\u001b[0m\u001b[0;34m(\u001b[0m\u001b[0mX\u001b[0m\u001b[0;34m,\u001b[0m \u001b[0my\u001b[0m\u001b[0;34m)\u001b[0m\u001b[0;34m\u001b[0m\u001b[0;34m\u001b[0m\u001b[0m\n\u001b[0m",
      "\u001b[0;32m<ipython-input-20-b378402d7a70>\u001b[0m in \u001b[0;36moptimize_mbgd\u001b[0;34m(X, y)\u001b[0m\n\u001b[1;32m      9\u001b[0m         \u001b[0;32mfor\u001b[0m \u001b[0malpha\u001b[0m \u001b[0;32min\u001b[0m \u001b[0malpha_range\u001b[0m\u001b[0;34m:\u001b[0m\u001b[0;34m\u001b[0m\u001b[0;34m\u001b[0m\u001b[0m\n\u001b[1;32m     10\u001b[0m             \u001b[0;32mfor\u001b[0m \u001b[0mbatch\u001b[0m \u001b[0;32min\u001b[0m \u001b[0mbatch_range\u001b[0m\u001b[0;34m:\u001b[0m\u001b[0;34m\u001b[0m\u001b[0;34m\u001b[0m\u001b[0m\n\u001b[0;32m---> 11\u001b[0;31m                     \u001b[0mw\u001b[0m\u001b[0;34m,\u001b[0m \u001b[0merrors\u001b[0m \u001b[0;34m=\u001b[0m \u001b[0mMBGD\u001b[0m\u001b[0;34m(\u001b[0m\u001b[0mX\u001b[0m\u001b[0;34m,\u001b[0m \u001b[0my\u001b[0m\u001b[0;34m,\u001b[0m \u001b[0mlr\u001b[0m\u001b[0;34m=\u001b[0m\u001b[0mlr\u001b[0m\u001b[0;34m,\u001b[0m \u001b[0malpha\u001b[0m\u001b[0;34m=\u001b[0m\u001b[0malpha\u001b[0m\u001b[0;34m,\u001b[0m \u001b[0mbatch_size\u001b[0m\u001b[0;34m=\u001b[0m\u001b[0mbatch\u001b[0m\u001b[0;34m)\u001b[0m\u001b[0;34m\u001b[0m\u001b[0;34m\u001b[0m\u001b[0m\n\u001b[0m\u001b[1;32m     12\u001b[0m                     \u001b[0mlast_error\u001b[0m \u001b[0;34m=\u001b[0m \u001b[0merrors\u001b[0m\u001b[0;34m[\u001b[0m\u001b[0;34m-\u001b[0m\u001b[0;36m1\u001b[0m\u001b[0;34m]\u001b[0m\u001b[0;34m\u001b[0m\u001b[0;34m\u001b[0m\u001b[0m\n\u001b[1;32m     13\u001b[0m                     \u001b[0;32mif\u001b[0m \u001b[0mlast_error\u001b[0m \u001b[0;34m<\u001b[0m \u001b[0mmin_error\u001b[0m\u001b[0;34m:\u001b[0m\u001b[0;34m\u001b[0m\u001b[0;34m\u001b[0m\u001b[0m\n",
      "\u001b[0;32m<ipython-input-19-814c02109121>\u001b[0m in \u001b[0;36mMBGD\u001b[0;34m(X, y, lr, alpha, batch_size, epochs, train_size)\u001b[0m\n\u001b[1;32m     11\u001b[0m \u001b[0;34m\u001b[0m\u001b[0m\n\u001b[1;32m     12\u001b[0m         \u001b[0;31m# Shuffle the data using the random sample method in train_test_split\u001b[0m\u001b[0;34m\u001b[0m\u001b[0;34m\u001b[0m\u001b[0;34m\u001b[0m\u001b[0m\n\u001b[0;32m---> 13\u001b[0;31m         \u001b[0mshuff_X\u001b[0m\u001b[0;34m,\u001b[0m \u001b[0m_\u001b[0m\u001b[0;34m,\u001b[0m \u001b[0mshuff_y\u001b[0m\u001b[0;34m,\u001b[0m \u001b[0m_\u001b[0m \u001b[0;34m=\u001b[0m \u001b[0mtrain_test_split\u001b[0m\u001b[0;34m(\u001b[0m\u001b[0mX_train\u001b[0m\u001b[0;34m,\u001b[0m \u001b[0mlabels\u001b[0m\u001b[0;34m=\u001b[0m\u001b[0my_train\u001b[0m\u001b[0;34m,\u001b[0m \u001b[0mtrain_size\u001b[0m\u001b[0;34m=\u001b[0m\u001b[0;36m1\u001b[0m\u001b[0;34m,\u001b[0m \u001b[0mrandom_state\u001b[0m\u001b[0;34m=\u001b[0m\u001b[0mepoch\u001b[0m\u001b[0;34m)\u001b[0m\u001b[0;34m\u001b[0m\u001b[0;34m\u001b[0m\u001b[0m\n\u001b[0m\u001b[1;32m     14\u001b[0m \u001b[0;34m\u001b[0m\u001b[0m\n\u001b[1;32m     15\u001b[0m         \u001b[0;31m# Split the data into minibatches\u001b[0m\u001b[0;34m\u001b[0m\u001b[0;34m\u001b[0m\u001b[0;34m\u001b[0m\u001b[0m\n",
      "\u001b[0;32m<ipython-input-5-68e0570c50e6>\u001b[0m in \u001b[0;36mtrain_test_split\u001b[0;34m(data, labels, random_state, train_size)\u001b[0m\n\u001b[1;32m     27\u001b[0m \u001b[0;34m\u001b[0m\u001b[0m\n\u001b[1;32m     28\u001b[0m     \u001b[0;31m# Delete the train data form original DataFrame:\u001b[0m\u001b[0;34m\u001b[0m\u001b[0;34m\u001b[0m\u001b[0;34m\u001b[0m\u001b[0m\n\u001b[0;32m---> 29\u001b[0;31m     \u001b[0mtest\u001b[0m \u001b[0;34m=\u001b[0m \u001b[0mdata\u001b[0m\u001b[0;34m.\u001b[0m\u001b[0mdrop\u001b[0m\u001b[0;34m(\u001b[0m\u001b[0mtrain\u001b[0m\u001b[0;34m.\u001b[0m\u001b[0mindex\u001b[0m\u001b[0;34m)\u001b[0m\u001b[0;34m\u001b[0m\u001b[0;34m\u001b[0m\u001b[0m\n\u001b[0m\u001b[1;32m     30\u001b[0m \u001b[0;34m\u001b[0m\u001b[0m\n\u001b[1;32m     31\u001b[0m     \u001b[0;32mif\u001b[0m \u001b[0mlabels\u001b[0m \u001b[0;32mis\u001b[0m \u001b[0;32mNone\u001b[0m\u001b[0;34m:\u001b[0m\u001b[0;34m\u001b[0m\u001b[0;34m\u001b[0m\u001b[0m\n",
      "\u001b[0;32m~/anaconda3/envs/mlai/lib/python3.6/site-packages/pandas/core/frame.py\u001b[0m in \u001b[0;36mdrop\u001b[0;34m(self, labels, axis, index, columns, level, inplace, errors)\u001b[0m\n\u001b[1;32m   4100\u001b[0m             \u001b[0mlevel\u001b[0m\u001b[0;34m=\u001b[0m\u001b[0mlevel\u001b[0m\u001b[0;34m,\u001b[0m\u001b[0;34m\u001b[0m\u001b[0;34m\u001b[0m\u001b[0m\n\u001b[1;32m   4101\u001b[0m             \u001b[0minplace\u001b[0m\u001b[0;34m=\u001b[0m\u001b[0minplace\u001b[0m\u001b[0;34m,\u001b[0m\u001b[0;34m\u001b[0m\u001b[0;34m\u001b[0m\u001b[0m\n\u001b[0;32m-> 4102\u001b[0;31m             \u001b[0merrors\u001b[0m\u001b[0;34m=\u001b[0m\u001b[0merrors\u001b[0m\u001b[0;34m,\u001b[0m\u001b[0;34m\u001b[0m\u001b[0;34m\u001b[0m\u001b[0m\n\u001b[0m\u001b[1;32m   4103\u001b[0m         )\n\u001b[1;32m   4104\u001b[0m \u001b[0;34m\u001b[0m\u001b[0m\n",
      "\u001b[0;32m~/anaconda3/envs/mlai/lib/python3.6/site-packages/pandas/core/generic.py\u001b[0m in \u001b[0;36mdrop\u001b[0;34m(self, labels, axis, index, columns, level, inplace, errors)\u001b[0m\n\u001b[1;32m   3912\u001b[0m         \u001b[0;32mfor\u001b[0m \u001b[0maxis\u001b[0m\u001b[0;34m,\u001b[0m \u001b[0mlabels\u001b[0m \u001b[0;32min\u001b[0m \u001b[0maxes\u001b[0m\u001b[0;34m.\u001b[0m\u001b[0mitems\u001b[0m\u001b[0;34m(\u001b[0m\u001b[0;34m)\u001b[0m\u001b[0;34m:\u001b[0m\u001b[0;34m\u001b[0m\u001b[0;34m\u001b[0m\u001b[0m\n\u001b[1;32m   3913\u001b[0m             \u001b[0;32mif\u001b[0m \u001b[0mlabels\u001b[0m \u001b[0;32mis\u001b[0m \u001b[0;32mnot\u001b[0m \u001b[0;32mNone\u001b[0m\u001b[0;34m:\u001b[0m\u001b[0;34m\u001b[0m\u001b[0;34m\u001b[0m\u001b[0m\n\u001b[0;32m-> 3914\u001b[0;31m                 \u001b[0mobj\u001b[0m \u001b[0;34m=\u001b[0m \u001b[0mobj\u001b[0m\u001b[0;34m.\u001b[0m\u001b[0m_drop_axis\u001b[0m\u001b[0;34m(\u001b[0m\u001b[0mlabels\u001b[0m\u001b[0;34m,\u001b[0m \u001b[0maxis\u001b[0m\u001b[0;34m,\u001b[0m \u001b[0mlevel\u001b[0m\u001b[0;34m=\u001b[0m\u001b[0mlevel\u001b[0m\u001b[0;34m,\u001b[0m \u001b[0merrors\u001b[0m\u001b[0;34m=\u001b[0m\u001b[0merrors\u001b[0m\u001b[0;34m)\u001b[0m\u001b[0;34m\u001b[0m\u001b[0;34m\u001b[0m\u001b[0m\n\u001b[0m\u001b[1;32m   3915\u001b[0m \u001b[0;34m\u001b[0m\u001b[0m\n\u001b[1;32m   3916\u001b[0m         \u001b[0;32mif\u001b[0m \u001b[0minplace\u001b[0m\u001b[0;34m:\u001b[0m\u001b[0;34m\u001b[0m\u001b[0;34m\u001b[0m\u001b[0m\n",
      "\u001b[0;32m~/anaconda3/envs/mlai/lib/python3.6/site-packages/pandas/core/generic.py\u001b[0m in \u001b[0;36m_drop_axis\u001b[0;34m(self, labels, axis, level, errors)\u001b[0m\n\u001b[1;32m   3945\u001b[0m             \u001b[0;32melse\u001b[0m\u001b[0;34m:\u001b[0m\u001b[0;34m\u001b[0m\u001b[0;34m\u001b[0m\u001b[0m\n\u001b[1;32m   3946\u001b[0m                 \u001b[0mnew_axis\u001b[0m \u001b[0;34m=\u001b[0m \u001b[0maxis\u001b[0m\u001b[0;34m.\u001b[0m\u001b[0mdrop\u001b[0m\u001b[0;34m(\u001b[0m\u001b[0mlabels\u001b[0m\u001b[0;34m,\u001b[0m \u001b[0merrors\u001b[0m\u001b[0;34m=\u001b[0m\u001b[0merrors\u001b[0m\u001b[0;34m)\u001b[0m\u001b[0;34m\u001b[0m\u001b[0;34m\u001b[0m\u001b[0m\n\u001b[0;32m-> 3947\u001b[0;31m             \u001b[0mresult\u001b[0m \u001b[0;34m=\u001b[0m \u001b[0mself\u001b[0m\u001b[0;34m.\u001b[0m\u001b[0mreindex\u001b[0m\u001b[0;34m(\u001b[0m\u001b[0;34m**\u001b[0m\u001b[0;34m{\u001b[0m\u001b[0maxis_name\u001b[0m\u001b[0;34m:\u001b[0m \u001b[0mnew_axis\u001b[0m\u001b[0;34m}\u001b[0m\u001b[0;34m)\u001b[0m\u001b[0;34m\u001b[0m\u001b[0;34m\u001b[0m\u001b[0m\n\u001b[0m\u001b[1;32m   3948\u001b[0m \u001b[0;34m\u001b[0m\u001b[0m\n\u001b[1;32m   3949\u001b[0m         \u001b[0;31m# Case for non-unique axis\u001b[0m\u001b[0;34m\u001b[0m\u001b[0;34m\u001b[0m\u001b[0;34m\u001b[0m\u001b[0m\n",
      "\u001b[0;32m~/anaconda3/envs/mlai/lib/python3.6/site-packages/pandas/util/_decorators.py\u001b[0m in \u001b[0;36mwrapper\u001b[0;34m(*args, **kwargs)\u001b[0m\n\u001b[1;32m    219\u001b[0m         \u001b[0;34m@\u001b[0m\u001b[0mwraps\u001b[0m\u001b[0;34m(\u001b[0m\u001b[0mfunc\u001b[0m\u001b[0;34m)\u001b[0m\u001b[0;34m\u001b[0m\u001b[0;34m\u001b[0m\u001b[0m\n\u001b[1;32m    220\u001b[0m         \u001b[0;32mdef\u001b[0m \u001b[0mwrapper\u001b[0m\u001b[0;34m(\u001b[0m\u001b[0;34m*\u001b[0m\u001b[0margs\u001b[0m\u001b[0;34m,\u001b[0m \u001b[0;34m**\u001b[0m\u001b[0mkwargs\u001b[0m\u001b[0;34m)\u001b[0m\u001b[0;34m:\u001b[0m\u001b[0;34m\u001b[0m\u001b[0;34m\u001b[0m\u001b[0m\n\u001b[0;32m--> 221\u001b[0;31m             \u001b[0;32mreturn\u001b[0m \u001b[0mfunc\u001b[0m\u001b[0;34m(\u001b[0m\u001b[0;34m*\u001b[0m\u001b[0margs\u001b[0m\u001b[0;34m,\u001b[0m \u001b[0;34m**\u001b[0m\u001b[0mkwargs\u001b[0m\u001b[0;34m)\u001b[0m\u001b[0;34m\u001b[0m\u001b[0;34m\u001b[0m\u001b[0m\n\u001b[0m\u001b[1;32m    222\u001b[0m \u001b[0;34m\u001b[0m\u001b[0m\n\u001b[1;32m    223\u001b[0m         \u001b[0mkind\u001b[0m \u001b[0;34m=\u001b[0m \u001b[0minspect\u001b[0m\u001b[0;34m.\u001b[0m\u001b[0mParameter\u001b[0m\u001b[0;34m.\u001b[0m\u001b[0mPOSITIONAL_OR_KEYWORD\u001b[0m\u001b[0;34m\u001b[0m\u001b[0;34m\u001b[0m\u001b[0m\n",
      "\u001b[0;32m~/anaconda3/envs/mlai/lib/python3.6/site-packages/pandas/core/frame.py\u001b[0m in \u001b[0;36mreindex\u001b[0;34m(self, *args, **kwargs)\u001b[0m\n\u001b[1;32m   3959\u001b[0m         \u001b[0mkwargs\u001b[0m\u001b[0;34m.\u001b[0m\u001b[0mpop\u001b[0m\u001b[0;34m(\u001b[0m\u001b[0;34m\"axis\"\u001b[0m\u001b[0;34m,\u001b[0m \u001b[0;32mNone\u001b[0m\u001b[0;34m)\u001b[0m\u001b[0;34m\u001b[0m\u001b[0;34m\u001b[0m\u001b[0m\n\u001b[1;32m   3960\u001b[0m         \u001b[0mkwargs\u001b[0m\u001b[0;34m.\u001b[0m\u001b[0mpop\u001b[0m\u001b[0;34m(\u001b[0m\u001b[0;34m\"labels\"\u001b[0m\u001b[0;34m,\u001b[0m \u001b[0;32mNone\u001b[0m\u001b[0;34m)\u001b[0m\u001b[0;34m\u001b[0m\u001b[0;34m\u001b[0m\u001b[0m\n\u001b[0;32m-> 3961\u001b[0;31m         \u001b[0;32mreturn\u001b[0m \u001b[0msuper\u001b[0m\u001b[0;34m(\u001b[0m\u001b[0;34m)\u001b[0m\u001b[0;34m.\u001b[0m\u001b[0mreindex\u001b[0m\u001b[0;34m(\u001b[0m\u001b[0;34m**\u001b[0m\u001b[0mkwargs\u001b[0m\u001b[0;34m)\u001b[0m\u001b[0;34m\u001b[0m\u001b[0;34m\u001b[0m\u001b[0m\n\u001b[0m\u001b[1;32m   3962\u001b[0m \u001b[0;34m\u001b[0m\u001b[0m\n\u001b[1;32m   3963\u001b[0m     def drop(\n",
      "\u001b[0;32m~/anaconda3/envs/mlai/lib/python3.6/site-packages/pandas/core/generic.py\u001b[0m in \u001b[0;36mreindex\u001b[0;34m(self, *args, **kwargs)\u001b[0m\n\u001b[1;32m   4512\u001b[0m         \u001b[0;31m# perform the reindex on the axes\u001b[0m\u001b[0;34m\u001b[0m\u001b[0;34m\u001b[0m\u001b[0;34m\u001b[0m\u001b[0m\n\u001b[1;32m   4513\u001b[0m         return self._reindex_axes(\n\u001b[0;32m-> 4514\u001b[0;31m             \u001b[0maxes\u001b[0m\u001b[0;34m,\u001b[0m \u001b[0mlevel\u001b[0m\u001b[0;34m,\u001b[0m \u001b[0mlimit\u001b[0m\u001b[0;34m,\u001b[0m \u001b[0mtolerance\u001b[0m\u001b[0;34m,\u001b[0m \u001b[0mmethod\u001b[0m\u001b[0;34m,\u001b[0m \u001b[0mfill_value\u001b[0m\u001b[0;34m,\u001b[0m \u001b[0mcopy\u001b[0m\u001b[0;34m\u001b[0m\u001b[0;34m\u001b[0m\u001b[0m\n\u001b[0m\u001b[1;32m   4515\u001b[0m         ).__finalize__(self)\n\u001b[1;32m   4516\u001b[0m \u001b[0;34m\u001b[0m\u001b[0m\n",
      "\u001b[0;32m~/anaconda3/envs/mlai/lib/python3.6/site-packages/pandas/core/frame.py\u001b[0m in \u001b[0;36m_reindex_axes\u001b[0;34m(self, axes, level, limit, tolerance, method, fill_value, copy)\u001b[0m\n\u001b[1;32m   3847\u001b[0m         \u001b[0;32mif\u001b[0m \u001b[0mindex\u001b[0m \u001b[0;32mis\u001b[0m \u001b[0;32mnot\u001b[0m \u001b[0;32mNone\u001b[0m\u001b[0;34m:\u001b[0m\u001b[0;34m\u001b[0m\u001b[0;34m\u001b[0m\u001b[0m\n\u001b[1;32m   3848\u001b[0m             frame = frame._reindex_index(\n\u001b[0;32m-> 3849\u001b[0;31m                 \u001b[0mindex\u001b[0m\u001b[0;34m,\u001b[0m \u001b[0mmethod\u001b[0m\u001b[0;34m,\u001b[0m \u001b[0mcopy\u001b[0m\u001b[0;34m,\u001b[0m \u001b[0mlevel\u001b[0m\u001b[0;34m,\u001b[0m \u001b[0mfill_value\u001b[0m\u001b[0;34m,\u001b[0m \u001b[0mlimit\u001b[0m\u001b[0;34m,\u001b[0m \u001b[0mtolerance\u001b[0m\u001b[0;34m\u001b[0m\u001b[0;34m\u001b[0m\u001b[0m\n\u001b[0m\u001b[1;32m   3850\u001b[0m             )\n\u001b[1;32m   3851\u001b[0m \u001b[0;34m\u001b[0m\u001b[0m\n",
      "\u001b[0;32m~/anaconda3/envs/mlai/lib/python3.6/site-packages/pandas/core/frame.py\u001b[0m in \u001b[0;36m_reindex_index\u001b[0;34m(self, new_index, method, copy, level, fill_value, limit, tolerance)\u001b[0m\n\u001b[1;32m   3869\u001b[0m             \u001b[0mcopy\u001b[0m\u001b[0;34m=\u001b[0m\u001b[0mcopy\u001b[0m\u001b[0;34m,\u001b[0m\u001b[0;34m\u001b[0m\u001b[0;34m\u001b[0m\u001b[0m\n\u001b[1;32m   3870\u001b[0m             \u001b[0mfill_value\u001b[0m\u001b[0;34m=\u001b[0m\u001b[0mfill_value\u001b[0m\u001b[0;34m,\u001b[0m\u001b[0;34m\u001b[0m\u001b[0;34m\u001b[0m\u001b[0m\n\u001b[0;32m-> 3871\u001b[0;31m             \u001b[0mallow_dups\u001b[0m\u001b[0;34m=\u001b[0m\u001b[0;32mFalse\u001b[0m\u001b[0;34m,\u001b[0m\u001b[0;34m\u001b[0m\u001b[0;34m\u001b[0m\u001b[0m\n\u001b[0m\u001b[1;32m   3872\u001b[0m         )\n\u001b[1;32m   3873\u001b[0m \u001b[0;34m\u001b[0m\u001b[0m\n",
      "\u001b[0;32m~/anaconda3/envs/mlai/lib/python3.6/site-packages/pandas/core/generic.py\u001b[0m in \u001b[0;36m_reindex_with_indexers\u001b[0;34m(self, reindexers, fill_value, copy, allow_dups)\u001b[0m\n\u001b[1;32m   4581\u001b[0m             \u001b[0mnew_data\u001b[0m \u001b[0;34m=\u001b[0m \u001b[0mnew_data\u001b[0m\u001b[0;34m.\u001b[0m\u001b[0mcopy\u001b[0m\u001b[0;34m(\u001b[0m\u001b[0;34m)\u001b[0m\u001b[0;34m\u001b[0m\u001b[0;34m\u001b[0m\u001b[0m\n\u001b[1;32m   4582\u001b[0m \u001b[0;34m\u001b[0m\u001b[0m\n\u001b[0;32m-> 4583\u001b[0;31m         \u001b[0;32mreturn\u001b[0m \u001b[0mself\u001b[0m\u001b[0;34m.\u001b[0m\u001b[0m_constructor\u001b[0m\u001b[0;34m(\u001b[0m\u001b[0mnew_data\u001b[0m\u001b[0;34m)\u001b[0m\u001b[0;34m.\u001b[0m\u001b[0m__finalize__\u001b[0m\u001b[0;34m(\u001b[0m\u001b[0mself\u001b[0m\u001b[0;34m)\u001b[0m\u001b[0;34m\u001b[0m\u001b[0;34m\u001b[0m\u001b[0m\n\u001b[0m\u001b[1;32m   4584\u001b[0m \u001b[0;34m\u001b[0m\u001b[0m\n\u001b[1;32m   4585\u001b[0m     \u001b[0;32mdef\u001b[0m \u001b[0mfilter\u001b[0m\u001b[0;34m(\u001b[0m\u001b[0mself\u001b[0m\u001b[0;34m,\u001b[0m \u001b[0mitems\u001b[0m\u001b[0;34m=\u001b[0m\u001b[0;32mNone\u001b[0m\u001b[0;34m,\u001b[0m \u001b[0mlike\u001b[0m\u001b[0;34m=\u001b[0m\u001b[0;32mNone\u001b[0m\u001b[0;34m,\u001b[0m \u001b[0mregex\u001b[0m\u001b[0;34m=\u001b[0m\u001b[0;32mNone\u001b[0m\u001b[0;34m,\u001b[0m \u001b[0maxis\u001b[0m\u001b[0;34m=\u001b[0m\u001b[0;32mNone\u001b[0m\u001b[0;34m)\u001b[0m\u001b[0;34m:\u001b[0m\u001b[0;34m\u001b[0m\u001b[0;34m\u001b[0m\u001b[0m\n",
      "\u001b[0;32m~/anaconda3/envs/mlai/lib/python3.6/site-packages/pandas/core/frame.py\u001b[0m in \u001b[0;36m__init__\u001b[0;34m(self, data, index, columns, dtype, copy)\u001b[0m\n\u001b[1;32m    485\u001b[0m                 \u001b[0;32mraise\u001b[0m \u001b[0mValueError\u001b[0m\u001b[0;34m(\u001b[0m\u001b[0;34m\"DataFrame constructor not properly called!\"\u001b[0m\u001b[0;34m)\u001b[0m\u001b[0;34m\u001b[0m\u001b[0;34m\u001b[0m\u001b[0m\n\u001b[1;32m    486\u001b[0m \u001b[0;34m\u001b[0m\u001b[0m\n\u001b[0;32m--> 487\u001b[0;31m         \u001b[0mNDFrame\u001b[0m\u001b[0;34m.\u001b[0m\u001b[0m__init__\u001b[0m\u001b[0;34m(\u001b[0m\u001b[0mself\u001b[0m\u001b[0;34m,\u001b[0m \u001b[0mmgr\u001b[0m\u001b[0;34m,\u001b[0m \u001b[0mfastpath\u001b[0m\u001b[0;34m=\u001b[0m\u001b[0;32mTrue\u001b[0m\u001b[0;34m)\u001b[0m\u001b[0;34m\u001b[0m\u001b[0;34m\u001b[0m\u001b[0m\n\u001b[0m\u001b[1;32m    488\u001b[0m \u001b[0;34m\u001b[0m\u001b[0m\n\u001b[1;32m    489\u001b[0m     \u001b[0;31m# ----------------------------------------------------------------------\u001b[0m\u001b[0;34m\u001b[0m\u001b[0;34m\u001b[0m\u001b[0;34m\u001b[0m\u001b[0m\n",
      "\u001b[0;32m~/anaconda3/envs/mlai/lib/python3.6/site-packages/pandas/core/generic.py\u001b[0m in \u001b[0;36m__init__\u001b[0;34m(self, data, axes, copy, dtype, fastpath)\u001b[0m\n\u001b[1;32m    181\u001b[0m         \u001b[0mobject\u001b[0m\u001b[0;34m.\u001b[0m\u001b[0m__setattr__\u001b[0m\u001b[0;34m(\u001b[0m\u001b[0mself\u001b[0m\u001b[0;34m,\u001b[0m \u001b[0;34m\"_is_copy\"\u001b[0m\u001b[0;34m,\u001b[0m \u001b[0;32mNone\u001b[0m\u001b[0;34m)\u001b[0m\u001b[0;34m\u001b[0m\u001b[0;34m\u001b[0m\u001b[0m\n\u001b[1;32m    182\u001b[0m         \u001b[0mobject\u001b[0m\u001b[0;34m.\u001b[0m\u001b[0m__setattr__\u001b[0m\u001b[0;34m(\u001b[0m\u001b[0mself\u001b[0m\u001b[0;34m,\u001b[0m \u001b[0;34m\"_data\"\u001b[0m\u001b[0;34m,\u001b[0m \u001b[0mdata\u001b[0m\u001b[0;34m)\u001b[0m\u001b[0;34m\u001b[0m\u001b[0;34m\u001b[0m\u001b[0m\n\u001b[0;32m--> 183\u001b[0;31m         \u001b[0mobject\u001b[0m\u001b[0;34m.\u001b[0m\u001b[0m__setattr__\u001b[0m\u001b[0;34m(\u001b[0m\u001b[0mself\u001b[0m\u001b[0;34m,\u001b[0m \u001b[0;34m\"_item_cache\"\u001b[0m\u001b[0;34m,\u001b[0m \u001b[0;34m{\u001b[0m\u001b[0;34m}\u001b[0m\u001b[0;34m)\u001b[0m\u001b[0;34m\u001b[0m\u001b[0;34m\u001b[0m\u001b[0m\n\u001b[0m\u001b[1;32m    184\u001b[0m \u001b[0;34m\u001b[0m\u001b[0m\n\u001b[1;32m    185\u001b[0m     \u001b[0;32mdef\u001b[0m \u001b[0m_init_mgr\u001b[0m\u001b[0;34m(\u001b[0m\u001b[0mself\u001b[0m\u001b[0;34m,\u001b[0m \u001b[0mmgr\u001b[0m\u001b[0;34m,\u001b[0m \u001b[0maxes\u001b[0m\u001b[0;34m=\u001b[0m\u001b[0;32mNone\u001b[0m\u001b[0;34m,\u001b[0m \u001b[0mdtype\u001b[0m\u001b[0;34m=\u001b[0m\u001b[0;32mNone\u001b[0m\u001b[0;34m,\u001b[0m \u001b[0mcopy\u001b[0m\u001b[0;34m=\u001b[0m\u001b[0;32mFalse\u001b[0m\u001b[0;34m)\u001b[0m\u001b[0;34m:\u001b[0m\u001b[0;34m\u001b[0m\u001b[0;34m\u001b[0m\u001b[0m\n",
      "\u001b[0;31mKeyboardInterrupt\u001b[0m: "
     ]
    }
   ],
   "source": [
    "def optimize_mbgd(X, y):\n",
    "    \n",
    "    lr_range = np.logspace(-3, -2, 10)\n",
    "    alpha_range = np.logspace(-3, -1, 10)\n",
    "    batch_range = np.power(2, range(5,10))\n",
    "    \n",
    "    min_error = 1\n",
    "    for lr in lr_range:\n",
    "        for alpha in alpha_range:\n",
    "            for batch in batch_range:\n",
    "                    w, errors = MBGD(X, y, lr=lr, alpha=alpha, batch_size=batch)\n",
    "                    last_error = errors[-1]\n",
    "                    if last_error < min_error:\n",
    "                        print(f'New minimal error: {last_error:.4}. Improved by {(min_error - last_error):.4}')\n",
    "                        min_error = last_error\n",
    "                        pars = dict(lr=lr, alpha=alpha, batch_size=batch)\n",
    "                        print(f'With following parameters: {pars}')\n",
    "    return pars\n",
    "\n",
    "opt_pars = optimize_mbgd(X, y)"
   ]
  },
  {
   "cell_type": "code",
   "execution_count": 21,
   "metadata": {},
   "outputs": [
    {
     "name": "stdout",
     "output_type": "stream",
     "text": [
      "Mean squared error for the test data is 0.2189\n",
      "Mean absolute error for the test data is 0.3033\n",
      "\n",
      "Mean value for the minibatch parameters is 0.2987 and for closed form is 0.2986\n",
      "The optimal alpha parameter for the minibatch is 0.008 and for closed form is 0.029\n"
     ]
    },
    {
     "data": {
      "image/png": "[encoded data removed]",
      "text/plain": [
       "<Figure size 1080x432 with 1 Axes>"
      ]
     },
     "metadata": {
      "needs_background": "light"
     },
     "output_type": "display_data"
    }
   ],
   "source": [
    "# From the code above optimal parameters were found to be: (lr and alpha are round to 3d.p.)\n",
    "opt_pars = {'lr': 0.006, 'alpha': 0.008, 'batch_size': 512}\n",
    "\n",
    "w, _ = MBGD(X, y, train_size=1, **opt_pars)\n",
    "validate_model(test, train, w)\n",
    "\n",
    "# Comparing the weights and alpha:\n",
    "\n",
    "# Plot the bar chart for absolute values of parameters:\n",
    "labels = X.columns\n",
    "x = np.arange(len(labels)) \n",
    "width = 0.35\n",
    "\n",
    "fig, ax = plt.subplots(figsize=(15,6))\n",
    "rects1 = ax.bar(x - width/2, np.abs(w), width, label='MBGD')\n",
    "rects2 = ax.bar(x + width/2, np.abs(w_closed), width, label='Closed Form')\n",
    "\n",
    "ax.set_ylabel('Parameter Values')\n",
    "ax.set_title('Comparison of w for minibatch and closed form')\n",
    "ax.set_xticks(x)\n",
    "ax.set_xticklabels(labels)\n",
    "ax.legend()\n",
    "\n",
    "print(f'\\nMean value for the minibatch parameters is {np.mean(w):.4} and for closed form is {np.mean(w_closed):.4}')\n",
    "print(f\"The optimal alpha parameter for the minibatch is {opt_pars['alpha']:.3} and for closed form is {opt_alpha:.2}\")"
   ]
  },
  {
   "cell_type": "code",
   "execution_count": 22,
   "metadata": {},
   "outputs": [
    {
     "name": "stdout",
     "output_type": "stream",
     "text": [
      "Mean squared error for the test data is 0.2191\n",
      "Mean absolute error for the test data is 0.3032\n"
     ]
    }
   ],
   "source": [
    "# Testing the model without regularization:\n",
    "opt_pars['alpha'] = 0\n",
    "w, _ = MBGD(X, y, train_size=1, **opt_pars)\n",
    "validate_model(test, train, w)"
   ]
  },
  {
   "cell_type": "markdown",
   "metadata": {},
   "source": [
    "The performance of the minibatch gradient descent is sligtly better on the test set for both regularised and non-regularised approaches, which suggests that the model was able to generalise better just because of the minibatch. The effect of regularization is also more positive showing slight improvement in performance. Again, those difference are insignificant and could be attributed to noise. \n",
    "\n",
    "The values for $\\mathbf{w}$ are very simillar for both models with MBGD having a slightly higher value on average. The $\\alpha$ parameter on the other hand is very different between the two models. This is likely because of the difference in frequency and scale of updates, where in closed form we peform it in a single calculation but with minibatch it is done over numerous steps and thus requires less radical regularization."
   ]
  }
 ],
 "metadata": {
  "kernelspec": {
   "display_name": "Python 3",
   "language": "python",
   "name": "python3"
  },
  "language_info": {
   "codemirror_mode": {
    "name": "ipython",
    "version": 3
   },
   "file_extension": ".py",
   "mimetype": "text/x-python",
   "name": "python",
   "nbconvert_exporter": "python",
   "pygments_lexer": "ipython3",
   "version": "3.6.9"
  }
 },
 "nbformat": 4,
 "nbformat_minor": 2
}
