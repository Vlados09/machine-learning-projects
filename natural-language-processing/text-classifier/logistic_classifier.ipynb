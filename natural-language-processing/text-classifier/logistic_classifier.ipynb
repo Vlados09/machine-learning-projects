{
 "cells": [
  {
   "cell_type": "markdown",
   "metadata": {},
   "source": [
    "# [COM4513-6513] Assignment 1: Text Classification with Logistic Regression\n",
    "\n",
    "### Instructor: Nikos Aletras\n",
    "\n",
    "\n",
    "The goal of this assignment is to develop and test two text classification systems: \n",
    "\n",
    "- **Task 1:** sentiment analysis, in particular to predict the sentiment of movie review, i.e. positive or negative (binary classification).\n",
    "- **Task 2:** topic classification, to predict whether a news article is about International issues, Sports or Business (multiclass classification).\n",
    "\n",
    "\n",
    "For that purpose, you will implement:\n",
    "\n",
    "- Text processing methods for extracting Bag-Of-Word features, using (1) unigrams, bigrams and trigrams to obtain vector representations of documents. Two vector weighting schemes should be tested: (1) raw frequencies (**3 marks; 1 for each ngram type**); (2) tf.idf (**1 marks**). \n",
    "- Binary Logistic Regression classifiers that will be able to accurately classify movie reviews trained with (1) BOW-count (raw frequencies); and (2) BOW-tfidf (tf.idf weighted) for Task 1. \n",
    "- Multiclass Logistic Regression classifiers that will be able to accurately classify news articles trained with (1) BOW-count (raw frequencies); and (2) BOW-tfidf (tf.idf weighted) for Task 2. \n",
    "- The Stochastic Gradient Descent (SGD) algorithm to estimate the parameters of your Logistic Regression models. Your SGD algorithm should:\n",
    "    - Minimise the Binary Cross-entropy loss function for Task 1 (**3 marks**)\n",
    "    - Minimise the Categorical Cross-entropy loss function for Task 2 (**3 marks**)\n",
    "    - Use L2 regularisation (both tasks) (**1 mark**)\n",
    "    - Perform multiple passes (epochs) over the training data (**1 mark**)\n",
    "    - Randomise the order of training data after each pass (**1 mark**)\n",
    "    - Stop training if the difference between the current and previous validation loss is smaller than a threshold (**1 mark**)\n",
    "    - After each epoch print the training and development loss (**1 mark**)\n",
    "- Discuss how did you choose hyperparameters (e.g. learning rate and regularisation strength)?  (**2 marks; 0.5 for each model in each task**).\n",
    "- After training the LR models, plot the learning process (i.e. training and validation loss in each epoch) using a line plot (**1 mark; 0.5 for both BOW-count and BOW-tfidf LR models in each task**) and discuss if your model overfits/underfits/is about right.\n",
    "- Model interpretability by showing the most important features for each class (i.e. most positive/negative weights). Give the top 10 for each class and comment on whether they make sense (if they don't you might have a bug!).  If we were to apply the classifier we've learned into a different domain such laptop reviews or restaurant reviews, do you think these features would generalise well? Can you propose what features the classifier could pick up as important in the new domain? (**2 marks; 0.5 for BOW-count and BOW-tfidf LR models respectively in each task**)\n",
    "\n",
    "\n",
    "### Data - Task 1 \n",
    "\n",
    "The data you will use for Task 1 are taken from here: [http://www.cs.cornell.edu/people/pabo/movie-review-data/](http://www.cs.cornell.edu/people/pabo/movie-review-data/) and you can find it in the `./data_sentiment` folder in CSV format:\n",
    "\n",
    "- `data_sentiment/train.csv`: contains 1,400 reviews, 700 positive (label: 1) and 700 negative (label: 0) to be used for training.\n",
    "- `data_sentiment/dev.csv`: contains 200 reviews, 100 positive and 100 negative to be used for hyperparameter selection and monitoring the training process.\n",
    "- `data_sentiment/test.csv`: contains 400 reviews, 200 positive and 200 negative to be used for testing.\n",
    "\n",
    "### Data - Task 2\n",
    "\n",
    "The data you will use for Task 2 is a subset of the [AG News Corpus](http://groups.di.unipi.it/~gulli/AG_corpus_of_news_articles.html) and you can find it in the `./data_topic` folder in CSV format:\n",
    "\n",
    "- `data_topic/train.csv`: contains 2,400 news articles, 800 for each class to be used for training.\n",
    "- `data_topic/dev.csv`: contains 150 news articles, 50 for each class to be used for hyperparameter selection and monitoring the training process.\n",
    "- `data_topic/test.csv`: contains 900 news articles, 300 for each class to be used for testing.\n",
    "\n",
    "\n",
    "### Submission Instructions\n",
    "\n",
    "You should submit a Jupyter Notebook file (assignment1.ipynb) and an exported PDF version (you can do it from Jupyter: `File->Download as->PDF via Latex`).\n",
    "\n",
    "You are advised to follow the code structure given in this notebook by completing all given funtions. You can also write any auxilliary/helper functions (and arguments for the functions) that you might need but note that you can provide a full solution without any such functions. Similarly, you can just use only the packages imported below but you are free to use any functionality from the [Python Standard Library](https://docs.python.org/2/library/index.html), NumPy, SciPy and Pandas. You are not allowed to use any third-party library such as Scikit-learn (apart from metric functions already provided), NLTK, Spacy, Keras etc..\n",
    "\n",
    "Please make sure to comment your code. You should also mention if you've used Windows (not recommended) to write and test your code. There is no single correct answer on what your accuracy should be, but correct implementations usually achieve F1-scores around 80\\% or higher. The quality of the analysis of the results is as important as the accuracy itself. \n",
    "\n",
    "This assignment will be marked out of 20. It is worth 20\\% of your final grade in the module.\n",
    "\n",
    "The deadline for this assignment is **23:59 on Fri, 20 Mar 2020** and it needs to be submitted via MOLE. Standard departmental penalties for lateness will be applied. We use a range of strategies to detect [unfair means](https://www.sheffield.ac.uk/ssid/unfair-means/index), including Turnitin which helps detect plagiarism, so make sure you do not plagiarise.\n",
    "\n"
   ]
  },
  {
   "cell_type": "code",
   "execution_count": 1,
   "metadata": {
    "ExecuteTime": {
     "end_time": "2020-02-15T14:31:36.292691Z",
     "start_time": "2020-02-15T14:31:35.549108Z"
    }
   },
   "outputs": [],
   "source": [
    "import pandas as pd\n",
    "import numpy as np\n",
    "from collections import Counter\n",
    "import re\n",
    "import matplotlib.pyplot as plt\n",
    "from sklearn.metrics import accuracy_score, precision_score, recall_score, f1_score\n",
    "import random\n",
    "\n",
    "# fixing random seed for reproducibility\n",
    "random.seed(123)\n",
    "np.random.seed(123)"
   ]
  },
  {
   "cell_type": "markdown",
   "metadata": {},
   "source": [
    "## Load Raw texts and labels into arrays\n",
    "\n",
    "First, you need to load the training, development and test sets from their corresponding CSV files (tip: you can use Pandas dataframes)."
   ]
  },
  {
   "cell_type": "code",
   "execution_count": 2,
   "metadata": {
    "ExecuteTime": {
     "end_time": "2020-02-15T14:17:28.145788Z",
     "start_time": "2020-02-15T14:17:28.066100Z"
    }
   },
   "outputs": [],
   "source": [
    "def load_data(folder='sentiment'):\n",
    "    \"\"\"\n",
    "        Load data from the folder and stor it in the dictionary\n",
    "        \n",
    "        Parameters\n",
    "        ----------\n",
    "        \n",
    "        folder: str, optional\n",
    "            name of the folder to extract the data from. (default is to get sentiment data)\n",
    "    \n",
    "    \"\"\"\n",
    "    names = ['text', 'label']\n",
    "    if folder=='topic':\n",
    "        names = names[::-1]\n",
    "    all_data = {}\n",
    "    for file in ['train', 'dev', 'test']:\n",
    "        all_data[file] = pd.read_csv(f'data_{folder}/{file}.csv', names=names)\n",
    "    return all_data"
   ]
  },
  {
   "cell_type": "code",
   "execution_count": 3,
   "metadata": {},
   "outputs": [],
   "source": [
    "data_files = load_data()"
   ]
  },
  {
   "cell_type": "markdown",
   "metadata": {},
   "source": [
    "If you use Pandas you can see a sample of the data."
   ]
  },
  {
   "cell_type": "code",
   "execution_count": 4,
   "metadata": {
    "ExecuteTime": {
     "end_time": "2020-02-15T14:17:28.900892Z",
     "start_time": "2020-02-15T14:17:28.891221Z"
    }
   },
   "outputs": [
    {
     "data": {
      "text/html": [
       "<div>\n",
       "<style scoped>\n",
       "    .dataframe tbody tr th:only-of-type {\n",
       "        vertical-align: middle;\n",
       "    }\n",
       "\n",
       "    .dataframe tbody tr th {\n",
       "        vertical-align: top;\n",
       "    }\n",
       "\n",
       "    .dataframe thead th {\n",
       "        text-align: right;\n",
       "    }\n",
       "</style>\n",
       "<table border=\"1\" class=\"dataframe\">\n",
       "  <thead>\n",
       "    <tr style=\"text-align: right;\">\n",
       "      <th></th>\n",
       "      <th>text</th>\n",
       "      <th>label</th>\n",
       "    </tr>\n",
       "  </thead>\n",
       "  <tbody>\n",
       "    <tr>\n",
       "      <th>0</th>\n",
       "      <td>note : some may consider portions of the follo...</td>\n",
       "      <td>1</td>\n",
       "    </tr>\n",
       "    <tr>\n",
       "      <th>1</th>\n",
       "      <td>note : some may consider portions of the follo...</td>\n",
       "      <td>1</td>\n",
       "    </tr>\n",
       "    <tr>\n",
       "      <th>2</th>\n",
       "      <td>every once in a while you see a film that is s...</td>\n",
       "      <td>1</td>\n",
       "    </tr>\n",
       "    <tr>\n",
       "      <th>3</th>\n",
       "      <td>when i was growing up in 1970s , boys in my sc...</td>\n",
       "      <td>1</td>\n",
       "    </tr>\n",
       "    <tr>\n",
       "      <th>4</th>\n",
       "      <td>the muppet movie is the first , and the best m...</td>\n",
       "      <td>1</td>\n",
       "    </tr>\n",
       "  </tbody>\n",
       "</table>\n",
       "</div>"
      ],
      "text/plain": [
       "                                                text  label\n",
       "0  note : some may consider portions of the follo...      1\n",
       "1  note : some may consider portions of the follo...      1\n",
       "2  every once in a while you see a film that is s...      1\n",
       "3  when i was growing up in 1970s , boys in my sc...      1\n",
       "4  the muppet movie is the first , and the best m...      1"
      ]
     },
     "execution_count": 4,
     "metadata": {},
     "output_type": "execute_result"
    }
   ],
   "source": [
    "data_files['train'].head()"
   ]
  },
  {
   "cell_type": "markdown",
   "metadata": {},
   "source": [
    "The next step is to put the raw texts into Python lists and their corresponding labels into NumPy arrays:\n"
   ]
  },
  {
   "cell_type": "code",
   "execution_count": 5,
   "metadata": {
    "ExecuteTime": {
     "end_time": "2020-02-15T14:17:31.115577Z",
     "start_time": "2020-02-15T14:17:31.108038Z"
    }
   },
   "outputs": [],
   "source": [
    "def get_raw_data(data_files):\n",
    "    \"\"\"\n",
    "        Converts pandas data to lists\n",
    "        \n",
    "        Parameters\n",
    "        ----------\n",
    "        data_files: dict\n",
    "            Dictionary containing pandas dataframes read from the data files\n",
    "    \"\"\"\n",
    "    raw_data = {}\n",
    "    for key, value in data_files.items():\n",
    "        raw_data[f'X_{key}'] = value.text.values.tolist()\n",
    "        raw_data[f'y_{key}'] = value.label.values\n",
    "    return raw_data"
   ]
  },
  {
   "cell_type": "code",
   "execution_count": 6,
   "metadata": {},
   "outputs": [],
   "source": [
    "raw_data = get_raw_data(data_files)"
   ]
  },
  {
   "cell_type": "markdown",
   "metadata": {},
   "source": [
    "# Bag-of-Words Representation \n",
    "\n",
    "\n",
    "To train and test Logisitc Regression models, you first need to obtain vector representations for all documents given a vocabulary of features (unigrams, bigrams, trigrams).\n",
    "\n",
    "\n",
    "## Text Pre-Processing Pipeline\n",
    "\n",
    "To obtain a vocabulary of features, you should: \n",
    "- tokenise all texts into a list of unigrams (tip: using a regular expression) \n",
    "- remove stop words (using the one provided or one of your preference) \n",
    "- compute bigrams, trigrams given the remaining unigrams\n",
    "- remove ngrams appearing in less than K documents\n",
    "- use the remaining to create a vocabulary of unigrams, bigrams and trigrams (you can keep top N if you encounter memory issues).\n"
   ]
  },
  {
   "cell_type": "code",
   "execution_count": 7,
   "metadata": {
    "ExecuteTime": {
     "end_time": "2020-02-15T14:17:31.860420Z",
     "start_time": "2020-02-15T14:17:31.855439Z"
    }
   },
   "outputs": [],
   "source": [
    "stop_words = set(['a','in','on','at','and','or', \n",
    "              'to', 'the', 'of', 'an', 'by',\n",
    "              'as', 'is', 'was', 'were', 'been', 'be', \n",
    "              'are','for', 'this', 'that', 'these', 'those', 'you', 'i',\n",
    "             'it', 'he', 'she', 'we', 'they', 'will', 'have', 'has',\n",
    "              'do', 'did', 'can', 'could', 'who', 'which', 'what', \n",
    "             'his', 'her', 'they', 'them', 'from', 'with', 'its'])"
   ]
  },
  {
   "cell_type": "markdown",
   "metadata": {},
   "source": [
    "### N-gram extraction from a document\n",
    "\n",
    "You first need to implement the `extract_ngrams` function. It takes as input:\n",
    "- `x_raw`: a string corresponding to the raw text of a document\n",
    "- `ngram_range`: a tuple of two integers denoting the type of ngrams you want to extract, e.g. (1,2) denotes extracting unigrams and bigrams.\n",
    "- `token_pattern`: a string to be used within a regular expression to extract all tokens. Note that data is already tokenised so you could opt for a simple white space tokenisation.\n",
    "- `stop_words`: a list of stop words\n",
    "- `vocab`: a given vocabulary. It should be used to extract specific features.\n",
    "\n",
    "and returns:\n",
    "\n",
    "- a list of all extracted features.\n",
    "\n",
    "See the examples below to see how this function should work."
   ]
  },
  {
   "cell_type": "code",
   "execution_count": 8,
   "metadata": {
    "ExecuteTime": {
     "end_time": "2020-02-15T14:17:33.169090Z",
     "start_time": "2020-02-15T14:17:33.161268Z"
    }
   },
   "outputs": [],
   "source": [
    "def extract_ngrams(x_raw, ngram_range=(1,3), token_pattern=r'\\b[A-Za-z][A-Za-z]+\\b', stop_words=set(), vocab=set()):\n",
    "    \"\"\"\n",
    "        Extracts ngram representation of the text data from a string\n",
    "        \n",
    "        Parameters\n",
    "        ----------\n",
    "        x_raw: str\n",
    "            String representign a single text file\n",
    "            \n",
    "        ngram_range: tuple, optional\n",
    "            range for ngrams to return (default is (1, 3) means unigrams, bigrams and trigrams will be returned)\n",
    "            \n",
    "        token_pattern: str, optional\n",
    "            a partern for regex to split the string into tokens\n",
    "        \n",
    "        stop_words: set, optional\n",
    "            tokens to get rid of (default is empty meaning all tokens will be kept)\n",
    "            \n",
    "        vocab: set, optional\n",
    "            a set of ngrams that should be kept (default is empty returning all ngrams)\n",
    "    \"\"\"\n",
    "    \n",
    "    # Tokenise the text\n",
    "    tokens = re.findall(token_pattern, x_raw.lower()) # lowercase to reducde number of unique tokens\n",
    "    \n",
    "    # Remove the stop words\n",
    "    no_stop = [word for word in tokens if word not in stop_words]\n",
    "    \n",
    "    # Create ngrams\n",
    "    if ngram_range[0] == 1:\n",
    "        ngram_range = (ngram_range[0]+1, ngram_range[1])\n",
    "        ngrams = no_stop.copy()\n",
    "    else:\n",
    "        ngrams = []\n",
    "        \n",
    "    for n in range(ngram_range[0], ngram_range[1]+1):\n",
    "        ngrams += zip(*[no_stop[i:] for i in range(n)])\n",
    "    \n",
    "    # Keep only ngrams that are in vocab:\n",
    "    if vocab:\n",
    "        ngrams = [ngram for ngram in ngrams if ngram in vocab]\n",
    "        \n",
    "    return ngrams"
   ]
  },
  {
   "cell_type": "code",
   "execution_count": 9,
   "metadata": {
    "ExecuteTime": {
     "end_time": "2020-02-15T14:17:33.680114Z",
     "start_time": "2020-02-15T14:17:33.675339Z"
    }
   },
   "outputs": [
    {
     "data": {
      "text/plain": [
       "['great',\n",
       " 'movie',\n",
       " 'watch',\n",
       " ('great', 'movie'),\n",
       " ('movie', 'watch'),\n",
       " ('great', 'movie', 'watch')]"
      ]
     },
     "execution_count": 9,
     "metadata": {},
     "output_type": "execute_result"
    }
   ],
   "source": [
    "extract_ngrams(\"this is a great movie to watch\", \n",
    "               ngram_range=(1,3), \n",
    "               stop_words=stop_words)"
   ]
  },
  {
   "cell_type": "code",
   "execution_count": 10,
   "metadata": {
    "ExecuteTime": {
     "end_time": "2020-02-15T14:17:34.278189Z",
     "start_time": "2020-02-15T14:17:34.273722Z"
    },
    "scrolled": true
   },
   "outputs": [
    {
     "data": {
      "text/plain": [
       "['great', ('great', 'movie')]"
      ]
     },
     "execution_count": 10,
     "metadata": {},
     "output_type": "execute_result"
    }
   ],
   "source": [
    "extract_ngrams(\"this is a great movie to watch\", \n",
    "               ngram_range=(1,2), \n",
    "               stop_words=stop_words, \n",
    "               vocab=set(['great',  ('great','movie')]))"
   ]
  },
  {
   "cell_type": "markdown",
   "metadata": {},
   "source": [
    "Note that it is OK to represent n-grams using lists instead of tuples: e.g. `['great', ['great', 'movie']]`"
   ]
  },
  {
   "cell_type": "markdown",
   "metadata": {},
   "source": [
    "### Create a vocabulary of n-grams\n",
    "\n",
    "Then the `get_vocab` function will be used to (1) create a vocabulary of ngrams; (2) count the document frequencies of ngrams; (3) their raw frequency. It takes as input:\n",
    "- `X_raw`: a list of strings each corresponding to the raw text of a document\n",
    "- `ngram_range`: a tuple of two integers denoting the type of ngrams you want to extract, e.g. (1,2) denotes extracting unigrams and bigrams.\n",
    "- `token_pattern`: a string to be used within a regular expression to extract all tokens. Note that data is already tokenised so you could opt for a simple white space tokenisation.\n",
    "- `stop_words`: a list of stop words\n",
    "- `vocab`: a given vocabulary. It should be used to extract specific features.\n",
    "- `min_df`: keep ngrams with a minimum document frequency.\n",
    "- `keep_topN`: keep top-N more frequent ngrams.\n",
    "\n",
    "and returns:\n",
    "\n",
    "- `vocab`: a set of the n-grams that will be used as features.\n",
    "- `df`: a Counter (or dict) that contains ngrams as keys and their corresponding document frequency as values.\n",
    "- `ngram_counts`: counts of each ngram in vocab\n",
    "\n",
    "Hint: it should make use of the `extract_ngrams` function."
   ]
  },
  {
   "cell_type": "code",
   "execution_count": 11,
   "metadata": {
    "ExecuteTime": {
     "end_time": "2020-02-15T14:17:35.821240Z",
     "start_time": "2020-02-15T14:17:35.814722Z"
    }
   },
   "outputs": [],
   "source": [
    "def get_vocab(X_raw, ngram_range=(1,3), token_pattern=r'\\b[A-Za-z][A-Za-z]+\\b', \n",
    "              min_df=0, keep_topN=0, stop_words=set()):\n",
    "    \n",
    "    \"\"\"\n",
    "        Extracts the full vocabluary of ngrams from a list of strings (texts)\n",
    "        \n",
    "        Parameters\n",
    "        ----------\n",
    "        X_raw: list[dtype=str]\n",
    "            String to extrac the vocabluary from\n",
    "            \n",
    "        ngram_range: tuple, optional\n",
    "            range for ngrams to return (default is (1, 3) means unigrams, bigrams and trigrams will be returned)\n",
    "            \n",
    "        token_pattern: str, optional\n",
    "            a partern for regex to split the string into tokens\n",
    "        \n",
    "        stop_words: set, optional\n",
    "            tokens to get rid of (default is empty meaning all tokens will be kept)\n",
    "            \n",
    "        min_df: int, optional\n",
    "            minimum document frequency to keep the ngram in the vocabluary (default is 0 to keep all ngrams)\n",
    "            \n",
    "        keep_topN: int, optinal\n",
    "            keep only top number of occuring ngrams (default is 0 to keep all ngrams)\n",
    "    \"\"\"\n",
    "    \n",
    "    df = Counter() \n",
    "    ngram_counts = Counter()\n",
    "    \n",
    "    # Extract the full vocabluary:\n",
    "    for x in X_raw:\n",
    "        ngrams = extract_ngrams(x, ngram_range=ngram_range, token_pattern=token_pattern, stop_words=stop_words)\n",
    "        ngram_counts.update(ngrams)\n",
    "        df.update(set(ngrams))\n",
    "    \n",
    "    # Keep only ngrams that occur in certain number of documents\n",
    "    if min_df:\n",
    "        df = Counter({k: v for k, v in df.items() if v >= min_df})\n",
    "        ngram_counts = Counter({k: v for k, v in ngram_counts.items() if k in df.keys()})\n",
    "    \n",
    "    # Keep only ngrams that are common overall\n",
    "    if keep_topN and keep_topN < len(df.keys()):\n",
    "        ngram_counts = Counter(dict(ngram_counts.most_common()[:keep_topN]))\n",
    "        df = Counter({k: v for k, v in df.items() if k in ngram_counts.keys()})\n",
    "                \n",
    "    return list(df.keys()), df, ngram_counts"
   ]
  },
  {
   "cell_type": "markdown",
   "metadata": {},
   "source": [
    "Now you should use `get_vocab` to create your vocabulary and get document and raw frequencies of n-grams:"
   ]
  },
  {
   "cell_type": "code",
   "execution_count": 12,
   "metadata": {},
   "outputs": [
    {
     "name": "stdout",
     "output_type": "stream",
     "text": [
      "5000\n",
      "\n",
      "['big', 'degree', 'hear', ('film', 'only'), 'prince', 'wright', 'cast', 'see', 'fonda', 'disney', 'then', 'small', 'proving', 'recognition', 'only', 'course', 'pat', 'crazy', 'majority', 'legend', ('not', 'exactly'), 'spoilers', 'breathtaking', 'stuff', 'smart', 'drawn', 'mars', 'family', ('little', 'mermaid'), 'score', 'production', 'but', 'rather', 'desire', 'aware', 'human', 'voice', 'authority', 'context', 'unfortunate', 'beautiful', 'end', 'few', 'prior', 'heroine', 'real', 'screen', 'value', 'out', 'voiced', 'such', 'not', 'had', ('most', 'people'), 'full', 'beauty', 'many', 'wonderful', 'great', 'music', 'my', 'over', 'now', 'literally', ('there', 'no'), 'provides', 'direct', 'desperate', 'little', 'serious', 'meg', 'close', 'question', ('back', 'into'), 'roles', 'subsequent', 'their', 'throughout', 'say', 'started', 'major', 'kiss', 'distracting', 'perhaps', ('if', 'not'), 'tour', 'enough', 'no', 'away', 'public', ('not', 'only'), 'children', 'left', 'williams', 'storyline', 'emotional', 'horse', 'itself', 'screening', 'moment']\n",
      "\n",
      "[('but', 1334), ('one', 1247), ('film', 1231), ('not', 1170), ('all', 1117), ('movie', 1095), ('out', 1080), ('so', 1047), ('there', 1046), ('like', 1043)]\n"
     ]
    }
   ],
   "source": [
    "vocab, df, ngram_counts = get_vocab(raw_data['X_train'], ngram_range=(1,3), stop_words=stop_words, keep_topN = 5000)\n",
    "print(len(vocab))\n",
    "print()\n",
    "print(list(vocab)[:100])\n",
    "print()\n",
    "print(df.most_common()[:10])"
   ]
  },
  {
   "cell_type": "markdown",
   "metadata": {},
   "source": [
    "Then, you need to create vocabulary id -> word and id -> word dictionaries for reference:"
   ]
  },
  {
   "cell_type": "code",
   "execution_count": 13,
   "metadata": {},
   "outputs": [],
   "source": [
    "id_word = dict(zip(range(len(vocab)), vocab))\n",
    "word_id = dict(zip(vocab, range(len(vocab))))"
   ]
  },
  {
   "cell_type": "markdown",
   "metadata": {},
   "source": [
    "Now you should be able to extract n-grams for each text in the training, development and test sets:"
   ]
  },
  {
   "cell_type": "code",
   "execution_count": 14,
   "metadata": {},
   "outputs": [],
   "source": [
    "from functools import partial"
   ]
  },
  {
   "cell_type": "code",
   "execution_count": 15,
   "metadata": {},
   "outputs": [],
   "source": [
    "ngram_partial = partial(extract_ngrams, stop_words=stop_words, vocab=set(vocab))"
   ]
  },
  {
   "cell_type": "code",
   "execution_count": 16,
   "metadata": {
    "ExecuteTime": {
     "end_time": "2020-02-15T14:17:40.213253Z",
     "start_time": "2020-02-15T14:17:39.329147Z"
    }
   },
   "outputs": [],
   "source": [
    "ngram_data = {}\n",
    "for key, value in raw_data.items():\n",
    "    if key.startswith('X'):\n",
    "        ngram_data[key] = list(map(ngram_partial, value))\n",
    "    else:\n",
    "        ngram_data[key] = value"
   ]
  },
  {
   "cell_type": "markdown",
   "metadata": {},
   "source": [
    "## Vectorise documents "
   ]
  },
  {
   "cell_type": "markdown",
   "metadata": {},
   "source": [
    "Next, write a function `vectoriser` to obtain Bag-of-ngram representations for a list of documents. The function should take as input:\n",
    "- `X_ngram`: a list of texts (documents), where each text is represented as list of n-grams in the `vocab`\n",
    "- `vocab`: a set of n-grams to be used for representing the documents\n",
    "\n",
    "and return:\n",
    "- `X_vec`: an array with dimensionality Nx|vocab| where N is the number of documents and |vocab| is the size of the vocabulary. Each element of the array should represent the frequency of a given n-gram in a document.\n"
   ]
  },
  {
   "cell_type": "code",
   "execution_count": 17,
   "metadata": {
    "ExecuteTime": {
     "end_time": "2020-02-15T14:17:40.219201Z",
     "start_time": "2020-02-15T14:17:40.215129Z"
    }
   },
   "outputs": [],
   "source": [
    "def vectorise(X_ngram, vocab, word_id):\n",
    "    \"\"\"\n",
    "        Obtains Bag-of-ngram representations for a list of documents\n",
    "        \n",
    "        Parameters:\n",
    "        -----------\n",
    "        X_ngram: list\n",
    "            a list of texts (documents), where each text is represented as list of n-grams in the vocab\n",
    "        \n",
    "        vocab: set\n",
    "            a set of n-grams to be used for representing the documents\n",
    "        \n",
    "        word_id: dict\n",
    "            dictionary of coresponding word and their ids\n",
    "    \"\"\"\n",
    "    \n",
    "    X_vec = np.zeros(shape=(len(X_ngram), len(vocab)))\n",
    "    \n",
    "    for i, counts in enumerate(map(Counter, X_ngram)):\n",
    "        for key, value in counts.items():\n",
    "            X_vec[i, word_id[key]] = value\n",
    "        \n",
    "    return X_vec"
   ]
  },
  {
   "cell_type": "markdown",
   "metadata": {},
   "source": [
    "Finally, use `vectorise` to obtain document vectors for each document in the train, development and test set. You should extract both count and tf.idf vectors respectively:"
   ]
  },
  {
   "cell_type": "markdown",
   "metadata": {},
   "source": [
    "#### Count vectors"
   ]
  },
  {
   "cell_type": "code",
   "execution_count": 18,
   "metadata": {
    "ExecuteTime": {
     "end_time": "2020-02-15T14:17:41.999574Z",
     "start_time": "2020-02-15T14:17:40.376534Z"
    }
   },
   "outputs": [],
   "source": [
    "count_data = {}\n",
    "for key, value in ngram_data.items():\n",
    "    if key.startswith('X'):\n",
    "        count_data[key] = vectorise(value, vocab, word_id)\n",
    "    else:\n",
    "        count_data[key] = value"
   ]
  },
  {
   "cell_type": "code",
   "execution_count": 19,
   "metadata": {},
   "outputs": [
    {
     "data": {
      "text/plain": [
       "(1400, 5000)"
      ]
     },
     "execution_count": 19,
     "metadata": {},
     "output_type": "execute_result"
    }
   ],
   "source": [
    "count_data['X_train'].shape"
   ]
  },
  {
   "cell_type": "code",
   "execution_count": 20,
   "metadata": {
    "ExecuteTime": {
     "end_time": "2020-02-15T14:17:42.010525Z",
     "start_time": "2020-02-15T14:17:42.006309Z"
    }
   },
   "outputs": [
    {
     "data": {
      "text/plain": [
       "array([0., 0., 0., 0., 0., 0., 0., 1., 0., 0., 4., 0., 0., 0., 0., 0., 0.,\n",
       "       0., 0., 0., 0., 1., 0., 0., 0., 0., 0., 0., 0., 1., 0., 2., 0., 0.,\n",
       "       0., 0., 1., 1., 0., 0., 1., 0., 1., 0., 0., 1., 1., 0., 2., 0.])"
      ]
     },
     "execution_count": 20,
     "metadata": {},
     "output_type": "execute_result"
    }
   ],
   "source": [
    "count_data['X_train'][1,:50]"
   ]
  },
  {
   "cell_type": "markdown",
   "metadata": {},
   "source": [
    "#### TF.IDF vectors\n",
    "\n",
    "First compute `idfs` an array containing inverted document frequencies (Note: its elements should correspond to your `vocab`)"
   ]
  },
  {
   "cell_type": "markdown",
   "metadata": {},
   "source": [
    "Then transform your count vectors to tf.idf vectors:"
   ]
  },
  {
   "cell_type": "code",
   "execution_count": 21,
   "metadata": {},
   "outputs": [],
   "source": [
    "df_arr = np.array(list(df.values()))\n",
    "N = count_data['X_train'].shape[0]"
   ]
  },
  {
   "cell_type": "code",
   "execution_count": 22,
   "metadata": {},
   "outputs": [],
   "source": [
    "# Compute idf:\n",
    "df_arr = np.array(list(df.values()))\n",
    "N = count_data['X_train'].shape[0]\n",
    "idf = np.log10(N / df_arr)"
   ]
  },
  {
   "cell_type": "code",
   "execution_count": 23,
   "metadata": {},
   "outputs": [],
   "source": [
    "tfidf_data = {}\n",
    "for key, value in count_data.items():\n",
    "    if key.startswith('X'):\n",
    "        tfidf_data[key] = value * idf\n",
    "    else:\n",
    "        tfidf_data[key] = value"
   ]
  },
  {
   "cell_type": "code",
   "execution_count": 24,
   "metadata": {
    "ExecuteTime": {
     "end_time": "2020-02-15T14:17:43.211619Z",
     "start_time": "2020-02-15T14:17:43.207266Z"
    }
   },
   "outputs": [
    {
     "data": {
      "text/plain": [
       "array([0.        , 0.        , 0.        , 0.        , 0.        ,\n",
       "       0.        , 0.        , 0.30664999, 0.        , 0.        ,\n",
       "       1.43467024, 0.        , 0.        , 0.        , 0.        ,\n",
       "       0.        , 0.        , 0.        , 0.        , 0.        ,\n",
       "       0.        , 1.65476634, 0.        , 0.        , 0.        ,\n",
       "       0.        , 0.        , 0.        , 0.        , 1.03218468,\n",
       "       0.        , 0.04194441, 0.        , 0.        , 0.        ,\n",
       "       0.        , 0.98776554, 1.73115469, 0.        , 0.        ,\n",
       "       0.92341156, 0.        , 0.45240109, 0.        , 0.        ,\n",
       "       0.50070577, 0.53974667, 0.        , 0.22540856, 0.        ])"
      ]
     },
     "execution_count": 24,
     "metadata": {},
     "output_type": "execute_result"
    }
   ],
   "source": [
    "tfidf_data['X_train'][1,:50]"
   ]
  },
  {
   "cell_type": "markdown",
   "metadata": {},
   "source": [
    "#### Puting data extraction procedure together:"
   ]
  },
  {
   "cell_type": "code",
   "execution_count": 25,
   "metadata": {},
   "outputs": [],
   "source": [
    "def get_data(folder, tfidf=False, ngram_range=(1,3), token_pattern=r'\\b[A-Za-z][A-Za-z]+\\b', \n",
    "             min_df=0, keep_topN=0, stop_words=set()):\n",
    "    \"\"\"\n",
    "        Combines data extraction procedure into a single method\n",
    "        \n",
    "        Parameters\n",
    "        ----------\n",
    "        folder: str\n",
    "            name of the folder to extract the data from\n",
    "        \n",
    "        tfidf: bool, optional\n",
    "            determines tfidf should be used or not (defaults to False)\n",
    "            \n",
    "        ngram_range: tuple, optional\n",
    "            range for ngrams to return (default is (1, 3) means unigrams, bigrams and trigrams will be returned)\n",
    "            \n",
    "        token_pattern: str, optional\n",
    "            a partern for regex to split the string into tokens\n",
    "        \n",
    "        stop_words: set, optional\n",
    "            tokens to get rid of (default is empty meaning all tokens will be kept)\n",
    "            \n",
    "        min_df: int, optional\n",
    "            minimum document frequency to keep the ngram in the vocabluary (default is 0 to keep all ngrams)\n",
    "            \n",
    "        keep_topN: int, optinal\n",
    "            keep only top number of occuring ngrams (default is 0 to keep all ngrams)\n",
    "    \"\"\"\n",
    "    data_dict = {}\n",
    "    \n",
    "    data_files = load_data(folder=folder)\n",
    "    raw_data = get_raw_data(data_files)\n",
    "    \n",
    "    vocab, df, ngram_counts = get_vocab(raw_data['X_train'], ngram_range=(1,3), stop_words=stop_words,\n",
    "                                       token_pattern=token_pattern, min_df=min_df, keep_topN=keep_topN)\n",
    "    \n",
    "    df_arr = np.array(list(df.values()))\n",
    "    N = len(raw_data['X_train'])\n",
    "    idf = np.log10(N / df_arr)\n",
    "    \n",
    "    id_word = dict(zip(range(len(vocab)), vocab))\n",
    "    word_id = dict(zip(vocab, range(len(vocab))))\n",
    "    \n",
    "    ngram_partial = partial(extract_ngrams, stop_words=stop_words, vocab=set(vocab))\n",
    "    \n",
    "    for key, value in raw_data.items():\n",
    "        if key.startswith('X'):\n",
    "            ngram_data = list(map(ngram_partial, value))\n",
    "            count_data = vectorise(ngram_data, vocab, word_id)\n",
    "            if tfidf:\n",
    "                data_dict[key] = count_data * idf\n",
    "            else:\n",
    "                data_dict[key] = count_data\n",
    "        else:\n",
    "            data_dict[key] = value\n",
    "    \n",
    "    data_dict['id_word'] = id_word\n",
    "    data_dict['word_id'] = word_id\n",
    "    data_dict['vocab'] = np.array(vocab)\n",
    "    \n",
    "    return data_dict"
   ]
  },
  {
   "cell_type": "markdown",
   "metadata": {},
   "source": [
    "# Binary Logistic Regression\n",
    "\n",
    "After obtaining vector representations of the data, now you are ready to implement Binary Logistic Regression for classifying sentiment."
   ]
  },
  {
   "cell_type": "markdown",
   "metadata": {},
   "source": [
    "First, you need to implement the `sigmoid` function. It takes as input:\n",
    "\n",
    "- `z`: a real number or an array of real numbers \n",
    "\n",
    "and returns:\n",
    "\n",
    "- `sig`: the sigmoid of `z`"
   ]
  },
  {
   "cell_type": "code",
   "execution_count": 26,
   "metadata": {
    "ExecuteTime": {
     "end_time": "2020-02-15T14:17:44.160661Z",
     "start_time": "2020-02-15T14:17:44.157902Z"
    }
   },
   "outputs": [],
   "source": [
    "def sigmoid(z):\n",
    "    return 1 / (1 + np.exp(-z))"
   ]
  },
  {
   "cell_type": "code",
   "execution_count": 27,
   "metadata": {
    "ExecuteTime": {
     "end_time": "2020-02-15T14:17:44.351292Z",
     "start_time": "2020-02-15T14:17:44.346822Z"
    }
   },
   "outputs": [
    {
     "name": "stdout",
     "output_type": "stream",
     "text": [
      "0.5\n",
      "[0.00669285 0.76852478]\n"
     ]
    }
   ],
   "source": [
    "print(sigmoid(0)) \n",
    "print(sigmoid(np.array([-5., 1.2])))"
   ]
  },
  {
   "cell_type": "markdown",
   "metadata": {},
   "source": [
    "Then, implement the `predict_proba` function to obtain prediction probabilities. It takes as input:\n",
    "\n",
    "- `X`: an array of inputs, i.e. documents represented by bag-of-ngram vectors ($N \\times |vocab|$)\n",
    "- `weights`: a 1-D array of the model's weights $(1, |vocab|)$\n",
    "\n",
    "and returns:\n",
    "\n",
    "- `preds_proba`: the prediction probabilities of X given the weights"
   ]
  },
  {
   "cell_type": "code",
   "execution_count": 28,
   "metadata": {
    "ExecuteTime": {
     "end_time": "2020-02-15T14:17:44.718566Z",
     "start_time": "2020-02-15T14:17:44.715017Z"
    }
   },
   "outputs": [],
   "source": [
    "def predict_proba(X, weights):\n",
    "    return sigmoid(np.dot(X, weights))"
   ]
  },
  {
   "cell_type": "markdown",
   "metadata": {},
   "source": [
    "Then, implement the `predict_class` function to obtain the most probable class for each vector in an array of input vectors. It takes as input:\n",
    "\n",
    "- `X`: an array of documents represented by bag-of-ngram vectors ($N \\times |vocab|$)\n",
    "- `weights`: a 1-D array of the model's weights $(1, |vocab|)$\n",
    "\n",
    "and returns:\n",
    "\n",
    "- `preds_class`: the predicted class for each x in X given the weights"
   ]
  },
  {
   "cell_type": "code",
   "execution_count": 29,
   "metadata": {
    "ExecuteTime": {
     "end_time": "2020-02-15T14:17:45.002125Z",
     "start_time": "2020-02-15T14:17:44.998668Z"
    }
   },
   "outputs": [],
   "source": [
    "def predict_class(X, weights):\n",
    "    prob = predict_proba(X, weights)\n",
    "    return np.where(prob>0.5, 1, 0)"
   ]
  },
  {
   "cell_type": "markdown",
   "metadata": {},
   "source": [
    "To learn the weights from data, we need to minimise the binary cross-entropy loss. Implement `binary_loss` that takes as input:\n",
    "\n",
    "- `X`: input vectors\n",
    "- `Y`: labels\n",
    "- `weights`: model weights\n",
    "- `alpha`: regularisation strength\n",
    "\n",
    "and return:\n",
    "\n",
    "- `l`: the loss score"
   ]
  },
  {
   "cell_type": "code",
   "execution_count": 30,
   "metadata": {
    "ExecuteTime": {
     "end_time": "2020-02-15T14:17:45.455533Z",
     "start_time": "2020-02-15T14:17:45.451475Z"
    }
   },
   "outputs": [],
   "source": [
    "def binary_loss(X, Y, weights, alpha=0.00001):\n",
    "    prob = predict_proba(X, weights)\n",
    "    l = -Y * np.log(prob) - ((1 - Y) * np.log(1 - prob))\n",
    "    reg = 0.5 * alpha * np.sum(np.square(weights))\n",
    "    return np.mean(l) + reg"
   ]
  },
  {
   "cell_type": "markdown",
   "metadata": {},
   "source": [
    "Now, you can implement Stochastic Gradient Descent to learn the weights of your sentiment classifier. The `SGD` function takes as input:\n",
    "\n",
    "- `X_tr`: array of training data (vectors)\n",
    "- `Y_tr`: labels of `X_tr`\n",
    "- `X_dev`: array of development (i.e. validation) data (vectors)\n",
    "- `Y_dev`: labels of `X_dev`\n",
    "- `lr`: learning rate\n",
    "- `alpha`: regularisation strength\n",
    "- `epochs`: number of full passes over the training data\n",
    "- `tolerance`: stop training if the difference between the current and previous validation loss is smaller than a threshold\n",
    "- `print_progress`: flag for printing the training progress (train/validation loss)\n",
    "\n",
    "\n",
    "and returns:\n",
    "\n",
    "- `weights`: the weights learned\n",
    "- `training_loss_history`: an array with the average losses of the whole training set after each epoch\n",
    "- `validation_loss_history`: an array with the average losses of the whole development set after each epoch"
   ]
  },
  {
   "cell_type": "code",
   "execution_count": 31,
   "metadata": {},
   "outputs": [],
   "source": [
    "def binary_grad(X, Y, weights, alpha=0.00001):\n",
    "    grad = X.T * (predict_proba(X, weights) - Y)\n",
    "    grad += (alpha * weights)\n",
    "    return grad"
   ]
  },
  {
   "cell_type": "code",
   "execution_count": 32,
   "metadata": {
    "ExecuteTime": {
     "end_time": "2020-02-15T14:17:45.968510Z",
     "start_time": "2020-02-15T14:17:45.958185Z"
    }
   },
   "outputs": [],
   "source": [
    "def SGD(X_tr, Y_tr, X_dev=[], Y_dev=[], loss=\"binary\", num_classes=5, lr=0.1, \n",
    "        alpha=0.00001, epochs=5, tolerance=0.0001, print_progress=True):\n",
    "    \"\"\"\n",
    "        Performs Stochastic Gradient Descent optimization for classification task\n",
    "\n",
    "        Parameters\n",
    "        ----------\n",
    "        X_tr: np.array\n",
    "            training input data\n",
    "\n",
    "        Y_tr: np.array\n",
    "            training labels (first dimension should be equivalent to X_tr)\n",
    "\n",
    "        X_dev: np.array, optional\n",
    "            development input data for calculation of validation loss \n",
    "\n",
    "        Y_dev: np.array, optional\n",
    "            development labels (only used if X_dev is suplied)\n",
    "\n",
    "        loss: {'binary', 'categorical'}\n",
    "            type of loss function to use (defaults to binary)\n",
    "\n",
    "        num_classes: int, optional\n",
    "            number of classes used in multiclass clasification (only used if loss is categorical)\n",
    "\n",
    "        lr: float, optional\n",
    "            learning rate to use durning training (default to optimal parameter determined durning hyperparameter optimization)\n",
    "\n",
    "        alpha: float, optional\n",
    "            regularization strenght (default to optimal)\n",
    "\n",
    "        epochs: int, optional\n",
    "            number of times to go over full dataset (defaults to optimal)\n",
    "\n",
    "        tolerance: float, optional\n",
    "            difference between concurent development losses at which to stop the training (default to 0.0001)\n",
    "\n",
    "        print_progress: bool, optional\n",
    "            where as to print the updates for each epoch (default to True)\n",
    "    \"\"\"\n",
    "    \n",
    "    training_loss_history = []\n",
    "    validation_loss_history = []\n",
    "    \n",
    "    n_points, n_features = X_tr.shape\n",
    "    \n",
    "    # Assing the loss function\n",
    "    if loss == 'binary':\n",
    "        calc_loss = partial(binary_loss, alpha=alpha)\n",
    "        grad = partial(binary_grad, alpha=alpha)\n",
    "        weights = np.zeros(n_features)\n",
    "    elif loss == 'categorical':\n",
    "        calc_loss = partial(categorical_loss, num_classes=num_classes, alpha=alpha)\n",
    "        grad = partial(categorical_grad, alpha=alpha)\n",
    "        weights = np.zeros((n_features, num_classes))\n",
    "    \n",
    "    for epoch in range(epochs):\n",
    "        \n",
    "        tr_loss = 0\n",
    "        rand_idx = np.random.permutation(n_points)\n",
    "        \n",
    "        # Peform the update\n",
    "        for i in range(n_points):\n",
    "            weights -= lr * grad(X_tr[i], Y_tr[i], weights)\n",
    "        \n",
    "        # Calculate training loss for epoch\n",
    "        tr_loss = calc_loss(X_tr, Y_tr, weights)\n",
    "        training_loss_history.append(tr_loss)\n",
    "        \n",
    "        # Calcualte validation loss for epoch\n",
    "        if len(X_dev):\n",
    "            val_loss = calc_loss(X_dev, Y_dev, weights)\n",
    "            validation_loss_history.append(val_loss)\n",
    "        \n",
    "        if print_progress:\n",
    "            print(f'Epoch: {epoch}| Training Loss: {tr_loss:.3f}| Validation loss: {val_loss:.3f}')\n",
    "        \n",
    "        if epoch and len(X_dev) and tolerance:\n",
    "            if (validation_loss_history[-2] - val_loss) < tolerance:\n",
    "                break\n",
    "            \n",
    "    return weights, training_loss_history, validation_loss_history"
   ]
  },
  {
   "cell_type": "markdown",
   "metadata": {},
   "source": [
    "## Train and Evaluate Logistic Regression with Count vectors\n",
    "\n",
    "First train the model using SGD:"
   ]
  },
  {
   "cell_type": "code",
   "execution_count": 33,
   "metadata": {},
   "outputs": [],
   "source": [
    "count_data = get_data('sentiment', stop_words=stop_words, keep_topN=10000)"
   ]
  },
  {
   "cell_type": "code",
   "execution_count": 34,
   "metadata": {
    "ExecuteTime": {
     "end_time": "2020-02-15T14:17:51.480197Z",
     "start_time": "2020-02-15T14:17:46.362729Z"
    },
    "scrolled": true
   },
   "outputs": [
    {
     "name": "stdout",
     "output_type": "stream",
     "text": [
      "Epoch: 0| Training Loss: 1.196| Validation loss: 1.191\n",
      "Epoch: 1| Training Loss: 1.136| Validation loss: 1.143\n",
      "Epoch: 2| Training Loss: 1.075| Validation loss: 1.094\n",
      "Epoch: 3| Training Loss: 1.021| Validation loss: 1.051\n",
      "Epoch: 4| Training Loss: 0.974| Validation loss: 1.014\n",
      "Epoch: 5| Training Loss: 0.930| Validation loss: 0.980\n",
      "Epoch: 6| Training Loss: 0.891| Validation loss: 0.949\n",
      "Epoch: 7| Training Loss: 0.855| Validation loss: 0.922\n",
      "Epoch: 8| Training Loss: 0.822| Validation loss: 0.896\n",
      "Epoch: 9| Training Loss: 0.791| Validation loss: 0.873\n",
      "Epoch: 10| Training Loss: 0.763| Validation loss: 0.851\n",
      "Epoch: 11| Training Loss: 0.737| Validation loss: 0.831\n",
      "Epoch: 12| Training Loss: 0.712| Validation loss: 0.813\n",
      "Epoch: 13| Training Loss: 0.689| Validation loss: 0.795\n",
      "Epoch: 14| Training Loss: 0.667| Validation loss: 0.779\n",
      "Epoch: 15| Training Loss: 0.647| Validation loss: 0.763\n",
      "Epoch: 16| Training Loss: 0.627| Validation loss: 0.749\n",
      "Epoch: 17| Training Loss: 0.609| Validation loss: 0.735\n",
      "Epoch: 18| Training Loss: 0.592| Validation loss: 0.722\n",
      "Epoch: 19| Training Loss: 0.576| Validation loss: 0.710\n",
      "Epoch: 20| Training Loss: 0.560| Validation loss: 0.698\n",
      "Epoch: 21| Training Loss: 0.546| Validation loss: 0.687\n",
      "Epoch: 22| Training Loss: 0.532| Validation loss: 0.677\n",
      "Epoch: 23| Training Loss: 0.519| Validation loss: 0.667\n",
      "Epoch: 24| Training Loss: 0.506| Validation loss: 0.657\n",
      "Epoch: 25| Training Loss: 0.494| Validation loss: 0.648\n",
      "Epoch: 26| Training Loss: 0.483| Validation loss: 0.640\n",
      "Epoch: 27| Training Loss: 0.472| Validation loss: 0.632\n",
      "Epoch: 28| Training Loss: 0.461| Validation loss: 0.624\n",
      "Epoch: 29| Training Loss: 0.451| Validation loss: 0.616\n",
      "Epoch: 30| Training Loss: 0.442| Validation loss: 0.609\n",
      "Epoch: 31| Training Loss: 0.432| Validation loss: 0.602\n",
      "Epoch: 32| Training Loss: 0.423| Validation loss: 0.596\n",
      "Epoch: 33| Training Loss: 0.415| Validation loss: 0.589\n",
      "Epoch: 34| Training Loss: 0.407| Validation loss: 0.583\n",
      "Epoch: 35| Training Loss: 0.399| Validation loss: 0.577\n",
      "Epoch: 36| Training Loss: 0.391| Validation loss: 0.572\n",
      "Epoch: 37| Training Loss: 0.384| Validation loss: 0.566\n",
      "Epoch: 38| Training Loss: 0.377| Validation loss: 0.561\n",
      "Epoch: 39| Training Loss: 0.370| Validation loss: 0.556\n",
      "Epoch: 40| Training Loss: 0.364| Validation loss: 0.551\n",
      "Epoch: 41| Training Loss: 0.357| Validation loss: 0.547\n",
      "Epoch: 42| Training Loss: 0.351| Validation loss: 0.542\n",
      "Epoch: 43| Training Loss: 0.345| Validation loss: 0.538\n",
      "Epoch: 44| Training Loss: 0.339| Validation loss: 0.534\n",
      "Epoch: 45| Training Loss: 0.334| Validation loss: 0.530\n",
      "Epoch: 46| Training Loss: 0.328| Validation loss: 0.526\n",
      "Epoch: 47| Training Loss: 0.323| Validation loss: 0.522\n",
      "Epoch: 48| Training Loss: 0.318| Validation loss: 0.518\n",
      "Epoch: 49| Training Loss: 0.313| Validation loss: 0.515\n",
      "Epoch: 50| Training Loss: 0.309| Validation loss: 0.512\n",
      "Epoch: 51| Training Loss: 0.304| Validation loss: 0.508\n",
      "Epoch: 52| Training Loss: 0.299| Validation loss: 0.505\n",
      "Epoch: 53| Training Loss: 0.295| Validation loss: 0.502\n",
      "Epoch: 54| Training Loss: 0.291| Validation loss: 0.499\n",
      "Epoch: 55| Training Loss: 0.287| Validation loss: 0.496\n",
      "Epoch: 56| Training Loss: 0.283| Validation loss: 0.493\n",
      "Epoch: 57| Training Loss: 0.279| Validation loss: 0.491\n",
      "Epoch: 58| Training Loss: 0.275| Validation loss: 0.488\n",
      "Epoch: 59| Training Loss: 0.271| Validation loss: 0.486\n",
      "Epoch: 60| Training Loss: 0.268| Validation loss: 0.483\n",
      "Epoch: 61| Training Loss: 0.264| Validation loss: 0.481\n",
      "Epoch: 62| Training Loss: 0.261| Validation loss: 0.478\n",
      "Epoch: 63| Training Loss: 0.258| Validation loss: 0.476\n",
      "Epoch: 64| Training Loss: 0.254| Validation loss: 0.474\n",
      "Epoch: 65| Training Loss: 0.251| Validation loss: 0.472\n",
      "Epoch: 66| Training Loss: 0.248| Validation loss: 0.470\n",
      "Epoch: 67| Training Loss: 0.245| Validation loss: 0.468\n",
      "Epoch: 68| Training Loss: 0.242| Validation loss: 0.466\n",
      "Epoch: 69| Training Loss: 0.239| Validation loss: 0.464\n",
      "Epoch: 70| Training Loss: 0.237| Validation loss: 0.462\n",
      "Epoch: 71| Training Loss: 0.234| Validation loss: 0.460\n",
      "Epoch: 72| Training Loss: 0.231| Validation loss: 0.459\n",
      "Epoch: 73| Training Loss: 0.229| Validation loss: 0.457\n",
      "Epoch: 74| Training Loss: 0.226| Validation loss: 0.455\n",
      "Epoch: 75| Training Loss: 0.223| Validation loss: 0.454\n",
      "Epoch: 76| Training Loss: 0.221| Validation loss: 0.452\n",
      "Epoch: 77| Training Loss: 0.219| Validation loss: 0.451\n",
      "Epoch: 78| Training Loss: 0.216| Validation loss: 0.449\n",
      "Epoch: 79| Training Loss: 0.214| Validation loss: 0.448\n",
      "Epoch: 80| Training Loss: 0.212| Validation loss: 0.446\n",
      "Epoch: 81| Training Loss: 0.210| Validation loss: 0.445\n",
      "Epoch: 82| Training Loss: 0.207| Validation loss: 0.444\n",
      "Epoch: 83| Training Loss: 0.205| Validation loss: 0.442\n",
      "Epoch: 84| Training Loss: 0.203| Validation loss: 0.441\n",
      "Epoch: 85| Training Loss: 0.201| Validation loss: 0.440\n",
      "Epoch: 86| Training Loss: 0.199| Validation loss: 0.439\n",
      "Epoch: 87| Training Loss: 0.197| Validation loss: 0.438\n",
      "Epoch: 88| Training Loss: 0.195| Validation loss: 0.436\n",
      "Epoch: 89| Training Loss: 0.194| Validation loss: 0.435\n",
      "Epoch: 90| Training Loss: 0.192| Validation loss: 0.434\n",
      "Epoch: 91| Training Loss: 0.190| Validation loss: 0.433\n",
      "Epoch: 92| Training Loss: 0.188| Validation loss: 0.432\n",
      "Epoch: 93| Training Loss: 0.186| Validation loss: 0.431\n",
      "Epoch: 94| Training Loss: 0.185| Validation loss: 0.430\n",
      "Epoch: 95| Training Loss: 0.183| Validation loss: 0.429\n",
      "Epoch: 96| Training Loss: 0.181| Validation loss: 0.428\n",
      "Epoch: 97| Training Loss: 0.180| Validation loss: 0.427\n",
      "Epoch: 98| Training Loss: 0.178| Validation loss: 0.426\n",
      "Epoch: 99| Training Loss: 0.177| Validation loss: 0.426\n",
      "Epoch: 100| Training Loss: 0.175| Validation loss: 0.425\n",
      "Epoch: 101| Training Loss: 0.174| Validation loss: 0.424\n",
      "Epoch: 102| Training Loss: 0.172| Validation loss: 0.423\n",
      "Epoch: 103| Training Loss: 0.171| Validation loss: 0.422\n",
      "Epoch: 104| Training Loss: 0.169| Validation loss: 0.421\n",
      "Epoch: 105| Training Loss: 0.168| Validation loss: 0.421\n",
      "Epoch: 106| Training Loss: 0.167| Validation loss: 0.420\n",
      "Epoch: 107| Training Loss: 0.165| Validation loss: 0.419\n",
      "Epoch: 108| Training Loss: 0.164| Validation loss: 0.419\n",
      "Epoch: 109| Training Loss: 0.163| Validation loss: 0.418\n",
      "Epoch: 110| Training Loss: 0.161| Validation loss: 0.417\n",
      "Epoch: 111| Training Loss: 0.160| Validation loss: 0.416\n",
      "Epoch: 112| Training Loss: 0.159| Validation loss: 0.416\n",
      "Epoch: 113| Training Loss: 0.158| Validation loss: 0.415\n",
      "Epoch: 114| Training Loss: 0.157| Validation loss: 0.415\n",
      "Epoch: 115| Training Loss: 0.155| Validation loss: 0.414\n",
      "Epoch: 116| Training Loss: 0.154| Validation loss: 0.413\n",
      "Epoch: 117| Training Loss: 0.153| Validation loss: 0.413\n",
      "Epoch: 118| Training Loss: 0.152| Validation loss: 0.412\n",
      "Epoch: 119| Training Loss: 0.151| Validation loss: 0.412\n",
      "Epoch: 120| Training Loss: 0.150| Validation loss: 0.411\n",
      "Epoch: 121| Training Loss: 0.149| Validation loss: 0.410\n",
      "Epoch: 122| Training Loss: 0.148| Validation loss: 0.410\n",
      "Epoch: 123| Training Loss: 0.147| Validation loss: 0.409\n",
      "Epoch: 124| Training Loss: 0.145| Validation loss: 0.409\n",
      "Epoch: 125| Training Loss: 0.144| Validation loss: 0.408\n",
      "Epoch: 126| Training Loss: 0.143| Validation loss: 0.408\n",
      "Epoch: 127| Training Loss: 0.142| Validation loss: 0.407\n",
      "Epoch: 128| Training Loss: 0.142| Validation loss: 0.407\n",
      "Epoch: 129| Training Loss: 0.141| Validation loss: 0.407\n",
      "Epoch: 130| Training Loss: 0.140| Validation loss: 0.406\n",
      "Epoch: 131| Training Loss: 0.139| Validation loss: 0.406\n",
      "Epoch: 132| Training Loss: 0.138| Validation loss: 0.405\n",
      "Epoch: 133| Training Loss: 0.137| Validation loss: 0.405\n",
      "Epoch: 134| Training Loss: 0.136| Validation loss: 0.404\n",
      "Epoch: 135| Training Loss: 0.135| Validation loss: 0.404\n",
      "Epoch: 136| Training Loss: 0.134| Validation loss: 0.404\n",
      "Epoch: 137| Training Loss: 0.133| Validation loss: 0.403\n",
      "Epoch: 138| Training Loss: 0.133| Validation loss: 0.403\n",
      "Epoch: 139| Training Loss: 0.132| Validation loss: 0.402\n",
      "Epoch: 140| Training Loss: 0.131| Validation loss: 0.402\n",
      "Epoch: 141| Training Loss: 0.130| Validation loss: 0.402\n",
      "Epoch: 142| Training Loss: 0.129| Validation loss: 0.401\n",
      "Epoch: 143| Training Loss: 0.128| Validation loss: 0.401\n",
      "Epoch: 144| Training Loss: 0.128| Validation loss: 0.401\n",
      "Epoch: 145| Training Loss: 0.127| Validation loss: 0.400\n"
     ]
    },
    {
     "name": "stdout",
     "output_type": "stream",
     "text": [
      "Epoch: 146| Training Loss: 0.126| Validation loss: 0.400\n",
      "Epoch: 147| Training Loss: 0.125| Validation loss: 0.400\n",
      "Epoch: 148| Training Loss: 0.125| Validation loss: 0.399\n",
      "Epoch: 149| Training Loss: 0.124| Validation loss: 0.399\n",
      "Epoch: 150| Training Loss: 0.123| Validation loss: 0.399\n",
      "Epoch: 151| Training Loss: 0.122| Validation loss: 0.398\n",
      "Epoch: 152| Training Loss: 0.122| Validation loss: 0.398\n",
      "Epoch: 153| Training Loss: 0.121| Validation loss: 0.398\n",
      "Epoch: 154| Training Loss: 0.120| Validation loss: 0.397\n",
      "Epoch: 155| Training Loss: 0.120| Validation loss: 0.397\n",
      "Epoch: 156| Training Loss: 0.119| Validation loss: 0.397\n",
      "Epoch: 157| Training Loss: 0.118| Validation loss: 0.397\n",
      "Epoch: 158| Training Loss: 0.118| Validation loss: 0.396\n",
      "Epoch: 159| Training Loss: 0.117| Validation loss: 0.396\n",
      "Epoch: 160| Training Loss: 0.116| Validation loss: 0.396\n",
      "Epoch: 161| Training Loss: 0.116| Validation loss: 0.396\n",
      "Epoch: 162| Training Loss: 0.115| Validation loss: 0.395\n",
      "Epoch: 163| Training Loss: 0.115| Validation loss: 0.395\n",
      "Epoch: 164| Training Loss: 0.114| Validation loss: 0.395\n",
      "Epoch: 165| Training Loss: 0.113| Validation loss: 0.395\n",
      "Epoch: 166| Training Loss: 0.113| Validation loss: 0.394\n",
      "Epoch: 167| Training Loss: 0.112| Validation loss: 0.394\n",
      "Epoch: 168| Training Loss: 0.112| Validation loss: 0.394\n",
      "Epoch: 169| Training Loss: 0.111| Validation loss: 0.394\n",
      "Epoch: 170| Training Loss: 0.110| Validation loss: 0.394\n",
      "Epoch: 171| Training Loss: 0.110| Validation loss: 0.393\n",
      "Epoch: 172| Training Loss: 0.109| Validation loss: 0.393\n",
      "Epoch: 173| Training Loss: 0.109| Validation loss: 0.393\n",
      "Epoch: 174| Training Loss: 0.108| Validation loss: 0.393\n",
      "Epoch: 175| Training Loss: 0.108| Validation loss: 0.393\n",
      "Epoch: 176| Training Loss: 0.107| Validation loss: 0.392\n",
      "Epoch: 177| Training Loss: 0.107| Validation loss: 0.392\n",
      "Epoch: 178| Training Loss: 0.106| Validation loss: 0.392\n",
      "Epoch: 179| Training Loss: 0.106| Validation loss: 0.392\n",
      "Epoch: 180| Training Loss: 0.105| Validation loss: 0.392\n",
      "Epoch: 181| Training Loss: 0.105| Validation loss: 0.391\n",
      "Epoch: 182| Training Loss: 0.104| Validation loss: 0.391\n",
      "Epoch: 183| Training Loss: 0.104| Validation loss: 0.391\n",
      "Epoch: 184| Training Loss: 0.103| Validation loss: 0.391\n",
      "Epoch: 185| Training Loss: 0.103| Validation loss: 0.391\n",
      "Epoch: 186| Training Loss: 0.102| Validation loss: 0.391\n",
      "Epoch: 187| Training Loss: 0.102| Validation loss: 0.390\n",
      "Epoch: 188| Training Loss: 0.101| Validation loss: 0.390\n",
      "Epoch: 189| Training Loss: 0.101| Validation loss: 0.390\n",
      "Epoch: 190| Training Loss: 0.100| Validation loss: 0.390\n",
      "Epoch: 191| Training Loss: 0.100| Validation loss: 0.390\n",
      "Epoch: 192| Training Loss: 0.099| Validation loss: 0.390\n",
      "Epoch: 193| Training Loss: 0.099| Validation loss: 0.390\n",
      "Epoch: 194| Training Loss: 0.098| Validation loss: 0.389\n",
      "Epoch: 195| Training Loss: 0.098| Validation loss: 0.389\n",
      "Epoch: 196| Training Loss: 0.098| Validation loss: 0.389\n",
      "Epoch: 197| Training Loss: 0.097| Validation loss: 0.389\n",
      "Epoch: 198| Training Loss: 0.097| Validation loss: 0.389\n",
      "Epoch: 199| Training Loss: 0.096| Validation loss: 0.389\n",
      "Epoch: 200| Training Loss: 0.096| Validation loss: 0.389\n",
      "Epoch: 201| Training Loss: 0.095| Validation loss: 0.389\n",
      "Epoch: 202| Training Loss: 0.095| Validation loss: 0.388\n",
      "Epoch: 203| Training Loss: 0.095| Validation loss: 0.388\n",
      "Epoch: 204| Training Loss: 0.094| Validation loss: 0.388\n",
      "Epoch: 205| Training Loss: 0.094| Validation loss: 0.388\n",
      "Epoch: 206| Training Loss: 0.093| Validation loss: 0.388\n",
      "Epoch: 207| Training Loss: 0.093| Validation loss: 0.388\n",
      "Epoch: 208| Training Loss: 0.093| Validation loss: 0.388\n",
      "Epoch: 209| Training Loss: 0.092| Validation loss: 0.388\n",
      "Epoch: 210| Training Loss: 0.092| Validation loss: 0.388\n",
      "Epoch: 211| Training Loss: 0.091| Validation loss: 0.387\n",
      "Epoch: 212| Training Loss: 0.091| Validation loss: 0.387\n",
      "Epoch: 213| Training Loss: 0.091| Validation loss: 0.387\n"
     ]
    }
   ],
   "source": [
    "w_count, loss_tr_count, dev_loss_count = SGD(count_data['X_train'], count_data['y_train'], \n",
    "                                             X_dev=count_data['X_dev'], Y_dev=count_data['y_dev'], \n",
    "                                             lr=0.0001, epochs=250, alpha=0.0006)"
   ]
  },
  {
   "cell_type": "markdown",
   "metadata": {},
   "source": [
    "Now plot the training and validation history per epoch. Does your model underfit, overfit or is it about right? Explain why."
   ]
  },
  {
   "cell_type": "code",
   "execution_count": 35,
   "metadata": {
    "ExecuteTime": {
     "end_time": "2020-02-15T14:17:51.598911Z",
     "start_time": "2020-02-15T14:17:51.482307Z"
    }
   },
   "outputs": [],
   "source": [
    "def plot_results(losses, labels):\n",
    "    for i, loss in enumerate(losses):\n",
    "        plt.plot(loss, label=labels[i])\n",
    "    plt.xlabel('Epoch')\n",
    "    plt.ylabel('Binary Loss')\n",
    "    plt.title('Loss trough Training')\n",
    "    plt.legend()\n",
    "    plt.draw()"
   ]
  },
  {
   "cell_type": "code",
   "execution_count": 36,
   "metadata": {},
   "outputs": [
    {
     "data": {
      "image/png": "[encoded data removed]",
      "text/plain": [
       "<Figure size 432x288 with 1 Axes>"
      ]
     },
     "metadata": {
      "needs_background": "light"
     },
     "output_type": "display_data"
    }
   ],
   "source": [
    "plot_results([loss_tr_count, dev_loss_count], ['count train', 'count dev'])"
   ]
  },
  {
   "cell_type": "code",
   "execution_count": 37,
   "metadata": {},
   "outputs": [
    {
     "name": "stdout",
     "output_type": "stream",
     "text": [
      "Difference between final development and training loss for count data is 0.2964904986176096\n"
     ]
    }
   ],
   "source": [
    "print(f'Difference between final development and training loss for count data is {dev_loss_count[-1] - loss_tr_count[-1]}')"
   ]
  },
  {
   "cell_type": "markdown",
   "metadata": {
    "ExecuteTime": {
     "end_time": "2020-01-21T16:52:26.583150Z",
     "start_time": "2020-01-21T16:52:26.578754Z"
    }
   },
   "source": [
    "**The model clearly overfits because the training loss is much smaller than development loss which means it is performing better on the training set**"
   ]
  },
  {
   "cell_type": "markdown",
   "metadata": {},
   "source": [
    "Compute accuracy, precision, recall and F1-scores:"
   ]
  },
  {
   "cell_type": "code",
   "execution_count": 38,
   "metadata": {},
   "outputs": [],
   "source": [
    "def evaluation_metrics(actual, predicted, average='binary'):\n",
    "    acc = accuracy_score(actual, predicted)\n",
    "    prec = precision_score(actual, predicted, average=average)\n",
    "    rec = recall_score(actual, predicted, average=average)\n",
    "    f1 = f1_score(actual, predicted, average=average)\n",
    "    \n",
    "    return [acc, prec, rec, f1]"
   ]
  },
  {
   "cell_type": "code",
   "execution_count": 39,
   "metadata": {
    "ExecuteTime": {
     "end_time": "2020-02-15T14:37:40.569499Z",
     "start_time": "2020-02-15T14:37:40.566796Z"
    }
   },
   "outputs": [
    {
     "data": {
      "text/html": [
       "<div>\n",
       "<style scoped>\n",
       "    .dataframe tbody tr th:only-of-type {\n",
       "        vertical-align: middle;\n",
       "    }\n",
       "\n",
       "    .dataframe tbody tr th {\n",
       "        vertical-align: top;\n",
       "    }\n",
       "\n",
       "    .dataframe thead th {\n",
       "        text-align: right;\n",
       "    }\n",
       "</style>\n",
       "<table border=\"1\" class=\"dataframe\">\n",
       "  <thead>\n",
       "    <tr style=\"text-align: right;\">\n",
       "      <th></th>\n",
       "      <th>count</th>\n",
       "    </tr>\n",
       "  </thead>\n",
       "  <tbody>\n",
       "    <tr>\n",
       "      <th>Accuracy</th>\n",
       "      <td>0.86</td>\n",
       "    </tr>\n",
       "    <tr>\n",
       "      <th>Precision</th>\n",
       "      <td>0.89</td>\n",
       "    </tr>\n",
       "    <tr>\n",
       "      <th>Recall</th>\n",
       "      <td>0.82</td>\n",
       "    </tr>\n",
       "    <tr>\n",
       "      <th>F1-Score</th>\n",
       "      <td>0.85</td>\n",
       "    </tr>\n",
       "  </tbody>\n",
       "</table>\n",
       "</div>"
      ],
      "text/plain": [
       "           count\n",
       "Accuracy    0.86\n",
       "Precision   0.89\n",
       "Recall      0.82\n",
       "F1-Score    0.85"
      ]
     },
     "execution_count": 39,
     "metadata": {},
     "output_type": "execute_result"
    }
   ],
   "source": [
    "count_pred = predict_class(count_data['X_test'], w_count)\n",
    "count_metrics = evaluation_metrics(count_data['y_test'], count_pred)\n",
    "\n",
    "results = pd.DataFrame(data=count_metrics, index=['Accuracy', 'Precision', 'Recall', 'F1-Score'],\n",
    "                       columns=['count'])\n",
    "results.round(2)"
   ]
  },
  {
   "cell_type": "markdown",
   "metadata": {},
   "source": [
    "Finally, print the top-10 words for the negative and positive class respectively."
   ]
  },
  {
   "cell_type": "code",
   "execution_count": 40,
   "metadata": {
    "ExecuteTime": {
     "end_time": "2020-02-15T14:37:07.638179Z",
     "start_time": "2020-02-15T14:37:07.635838Z"
    }
   },
   "outputs": [],
   "source": [
    "def top_words(weights, vocab, n_classes=2):\n",
    "    sorted_w = np.argsort(weights)\n",
    "    top_positive = sorted_w[-10:][::-1]\n",
    "    top_negative = sorted_w[:10]\n",
    "    \n",
    "    return vocab[top_positive], vocab[top_negative]"
   ]
  },
  {
   "cell_type": "code",
   "execution_count": 41,
   "metadata": {},
   "outputs": [],
   "source": [
    "top_words_df = pd.DataFrame(index=['Top ' + str(i) for i in range(1, 11)],\n",
    "                            columns=pd.MultiIndex.from_product([['count'], ['positive', 'negative']]))\n",
    "\n",
    "pos, neg = top_words(w_count, count_data['vocab'])\n",
    "top_words_df['count', 'positive'] = pos\n",
    "top_words_df['count', 'negative'] = neg"
   ]
  },
  {
   "cell_type": "code",
   "execution_count": 42,
   "metadata": {},
   "outputs": [
    {
     "data": {
      "text/html": [
       "<div>\n",
       "<style scoped>\n",
       "    .dataframe tbody tr th:only-of-type {\n",
       "        vertical-align: middle;\n",
       "    }\n",
       "\n",
       "    .dataframe tbody tr th {\n",
       "        vertical-align: top;\n",
       "    }\n",
       "\n",
       "    .dataframe thead tr th {\n",
       "        text-align: left;\n",
       "    }\n",
       "</style>\n",
       "<table border=\"1\" class=\"dataframe\">\n",
       "  <thead>\n",
       "    <tr>\n",
       "      <th></th>\n",
       "      <th colspan=\"2\" halign=\"left\">count</th>\n",
       "    </tr>\n",
       "    <tr>\n",
       "      <th></th>\n",
       "      <th>positive</th>\n",
       "      <th>negative</th>\n",
       "    </tr>\n",
       "  </thead>\n",
       "  <tbody>\n",
       "    <tr>\n",
       "      <th>Top 1</th>\n",
       "      <td>great</td>\n",
       "      <td>bad</td>\n",
       "    </tr>\n",
       "    <tr>\n",
       "      <th>Top 2</th>\n",
       "      <td>well</td>\n",
       "      <td>unfortunately</td>\n",
       "    </tr>\n",
       "    <tr>\n",
       "      <th>Top 3</th>\n",
       "      <td>fun</td>\n",
       "      <td>worst</td>\n",
       "    </tr>\n",
       "    <tr>\n",
       "      <th>Top 4</th>\n",
       "      <td>seen</td>\n",
       "      <td>script</td>\n",
       "    </tr>\n",
       "    <tr>\n",
       "      <th>Top 5</th>\n",
       "      <td>also</td>\n",
       "      <td>only</td>\n",
       "    </tr>\n",
       "    <tr>\n",
       "      <th>Top 6</th>\n",
       "      <td>many</td>\n",
       "      <td>boring</td>\n",
       "    </tr>\n",
       "    <tr>\n",
       "      <th>Top 7</th>\n",
       "      <td>perfectly</td>\n",
       "      <td>why</td>\n",
       "    </tr>\n",
       "    <tr>\n",
       "      <th>Top 8</th>\n",
       "      <td>both</td>\n",
       "      <td>looks</td>\n",
       "    </tr>\n",
       "    <tr>\n",
       "      <th>Top 9</th>\n",
       "      <td>life</td>\n",
       "      <td>nothing</td>\n",
       "    </tr>\n",
       "    <tr>\n",
       "      <th>Top 10</th>\n",
       "      <td>see</td>\n",
       "      <td>plot</td>\n",
       "    </tr>\n",
       "  </tbody>\n",
       "</table>\n",
       "</div>"
      ],
      "text/plain": [
       "            count               \n",
       "         positive       negative\n",
       "Top 1       great            bad\n",
       "Top 2        well  unfortunately\n",
       "Top 3         fun          worst\n",
       "Top 4        seen         script\n",
       "Top 5        also           only\n",
       "Top 6        many         boring\n",
       "Top 7   perfectly            why\n",
       "Top 8        both          looks\n",
       "Top 9        life        nothing\n",
       "Top 10        see           plot"
      ]
     },
     "execution_count": 42,
     "metadata": {},
     "output_type": "execute_result"
    }
   ],
   "source": [
    "top_words_df"
   ]
  },
  {
   "cell_type": "markdown",
   "metadata": {},
   "source": [
    "If we were to apply the classifier we've learned into a different domain such laptop reviews or restaurant reviews, do you think these features would generalise well? Can you propose what features the classifier could pick up as important in the new domain?"
   ]
  },
  {
   "cell_type": "markdown",
   "metadata": {},
   "source": [
    "**Some of the features would generalise as they represent a generally positive or negative sentiment. For example, *great* and *well* for the positive, and *bad* or *worst* for the negative. However, there are a few film-specific features such as *plot* or *script* that would not contribute anything to the new domain. This could be replaced by something like *design* for the laptop domain or *service* for the restaurant.**"
   ]
  },
  {
   "cell_type": "markdown",
   "metadata": {},
   "source": [
    "## Train and Evaluate Logistic Regression with TF.IDF vectors\n",
    "\n",
    "Follow the same steps as above (i.e. evaluating count n-gram representations).\n"
   ]
  },
  {
   "cell_type": "code",
   "execution_count": 43,
   "metadata": {},
   "outputs": [],
   "source": [
    "tfidf_data = get_data('sentiment', tfidf=True, stop_words=stop_words, keep_topN=10000)"
   ]
  },
  {
   "cell_type": "code",
   "execution_count": 44,
   "metadata": {
    "ExecuteTime": {
     "end_time": "2020-02-15T14:17:54.414637Z",
     "start_time": "2020-02-15T14:17:51.625934Z"
    },
    "scrolled": true
   },
   "outputs": [
    {
     "name": "stdout",
     "output_type": "stream",
     "text": [
      "Epoch: 0| Training Loss: 0.726| Validation loss: 0.775\n",
      "Epoch: 1| Training Loss: 0.629| Validation loss: 0.721\n",
      "Epoch: 2| Training Loss: 0.547| Validation loss: 0.670\n",
      "Epoch: 3| Training Loss: 0.485| Validation loss: 0.630\n",
      "Epoch: 4| Training Loss: 0.436| Validation loss: 0.600\n",
      "Epoch: 5| Training Loss: 0.398| Validation loss: 0.575\n",
      "Epoch: 6| Training Loss: 0.366| Validation loss: 0.556\n",
      "Epoch: 7| Training Loss: 0.340| Validation loss: 0.539\n",
      "Epoch: 8| Training Loss: 0.317| Validation loss: 0.526\n",
      "Epoch: 9| Training Loss: 0.298| Validation loss: 0.514\n",
      "Epoch: 10| Training Loss: 0.281| Validation loss: 0.504\n",
      "Epoch: 11| Training Loss: 0.266| Validation loss: 0.495\n",
      "Epoch: 12| Training Loss: 0.253| Validation loss: 0.487\n",
      "Epoch: 13| Training Loss: 0.241| Validation loss: 0.480\n",
      "Epoch: 14| Training Loss: 0.230| Validation loss: 0.474\n",
      "Epoch: 15| Training Loss: 0.221| Validation loss: 0.468\n",
      "Epoch: 16| Training Loss: 0.212| Validation loss: 0.463\n",
      "Epoch: 17| Training Loss: 0.204| Validation loss: 0.458\n",
      "Epoch: 18| Training Loss: 0.196| Validation loss: 0.454\n",
      "Epoch: 19| Training Loss: 0.189| Validation loss: 0.450\n",
      "Epoch: 20| Training Loss: 0.183| Validation loss: 0.447\n",
      "Epoch: 21| Training Loss: 0.177| Validation loss: 0.443\n",
      "Epoch: 22| Training Loss: 0.171| Validation loss: 0.440\n",
      "Epoch: 23| Training Loss: 0.166| Validation loss: 0.437\n",
      "Epoch: 24| Training Loss: 0.161| Validation loss: 0.435\n",
      "Epoch: 25| Training Loss: 0.157| Validation loss: 0.432\n",
      "Epoch: 26| Training Loss: 0.153| Validation loss: 0.430\n",
      "Epoch: 27| Training Loss: 0.149| Validation loss: 0.428\n",
      "Epoch: 28| Training Loss: 0.145| Validation loss: 0.426\n",
      "Epoch: 29| Training Loss: 0.141| Validation loss: 0.424\n",
      "Epoch: 30| Training Loss: 0.138| Validation loss: 0.422\n",
      "Epoch: 31| Training Loss: 0.135| Validation loss: 0.420\n",
      "Epoch: 32| Training Loss: 0.132| Validation loss: 0.419\n",
      "Epoch: 33| Training Loss: 0.129| Validation loss: 0.417\n",
      "Epoch: 34| Training Loss: 0.126| Validation loss: 0.416\n",
      "Epoch: 35| Training Loss: 0.123| Validation loss: 0.414\n",
      "Epoch: 36| Training Loss: 0.121| Validation loss: 0.413\n",
      "Epoch: 37| Training Loss: 0.119| Validation loss: 0.412\n",
      "Epoch: 38| Training Loss: 0.116| Validation loss: 0.411\n",
      "Epoch: 39| Training Loss: 0.114| Validation loss: 0.409\n",
      "Epoch: 40| Training Loss: 0.112| Validation loss: 0.408\n",
      "Epoch: 41| Training Loss: 0.110| Validation loss: 0.407\n",
      "Epoch: 42| Training Loss: 0.108| Validation loss: 0.406\n",
      "Epoch: 43| Training Loss: 0.106| Validation loss: 0.405\n",
      "Epoch: 44| Training Loss: 0.104| Validation loss: 0.404\n",
      "Epoch: 45| Training Loss: 0.103| Validation loss: 0.404\n",
      "Epoch: 46| Training Loss: 0.101| Validation loss: 0.403\n",
      "Epoch: 47| Training Loss: 0.100| Validation loss: 0.402\n",
      "Epoch: 48| Training Loss: 0.098| Validation loss: 0.401\n",
      "Epoch: 49| Training Loss: 0.097| Validation loss: 0.401\n",
      "Epoch: 50| Training Loss: 0.095| Validation loss: 0.400\n",
      "Epoch: 51| Training Loss: 0.094| Validation loss: 0.399\n",
      "Epoch: 52| Training Loss: 0.092| Validation loss: 0.398\n",
      "Epoch: 53| Training Loss: 0.091| Validation loss: 0.398\n",
      "Epoch: 54| Training Loss: 0.090| Validation loss: 0.397\n",
      "Epoch: 55| Training Loss: 0.089| Validation loss: 0.397\n",
      "Epoch: 56| Training Loss: 0.088| Validation loss: 0.396\n",
      "Epoch: 57| Training Loss: 0.086| Validation loss: 0.396\n",
      "Epoch: 58| Training Loss: 0.085| Validation loss: 0.395\n",
      "Epoch: 59| Training Loss: 0.084| Validation loss: 0.395\n",
      "Epoch: 60| Training Loss: 0.083| Validation loss: 0.394\n",
      "Epoch: 61| Training Loss: 0.082| Validation loss: 0.394\n",
      "Epoch: 62| Training Loss: 0.081| Validation loss: 0.393\n",
      "Epoch: 63| Training Loss: 0.080| Validation loss: 0.393\n",
      "Epoch: 64| Training Loss: 0.080| Validation loss: 0.392\n",
      "Epoch: 65| Training Loss: 0.079| Validation loss: 0.392\n",
      "Epoch: 66| Training Loss: 0.078| Validation loss: 0.392\n",
      "Epoch: 67| Training Loss: 0.077| Validation loss: 0.391\n",
      "Epoch: 68| Training Loss: 0.076| Validation loss: 0.391\n",
      "Epoch: 69| Training Loss: 0.075| Validation loss: 0.390\n",
      "Epoch: 70| Training Loss: 0.075| Validation loss: 0.390\n",
      "Epoch: 71| Training Loss: 0.074| Validation loss: 0.390\n",
      "Epoch: 72| Training Loss: 0.073| Validation loss: 0.389\n",
      "Epoch: 73| Training Loss: 0.073| Validation loss: 0.389\n",
      "Epoch: 74| Training Loss: 0.072| Validation loss: 0.389\n",
      "Epoch: 75| Training Loss: 0.071| Validation loss: 0.388\n",
      "Epoch: 76| Training Loss: 0.071| Validation loss: 0.388\n",
      "Epoch: 77| Training Loss: 0.070| Validation loss: 0.388\n",
      "Epoch: 78| Training Loss: 0.069| Validation loss: 0.388\n",
      "Epoch: 79| Training Loss: 0.069| Validation loss: 0.387\n",
      "Epoch: 80| Training Loss: 0.068| Validation loss: 0.387\n",
      "Epoch: 81| Training Loss: 0.068| Validation loss: 0.387\n",
      "Epoch: 82| Training Loss: 0.067| Validation loss: 0.387\n",
      "Epoch: 83| Training Loss: 0.066| Validation loss: 0.386\n",
      "Epoch: 84| Training Loss: 0.066| Validation loss: 0.386\n",
      "Epoch: 85| Training Loss: 0.065| Validation loss: 0.386\n",
      "Epoch: 86| Training Loss: 0.065| Validation loss: 0.386\n",
      "Epoch: 87| Training Loss: 0.064| Validation loss: 0.386\n",
      "Epoch: 88| Training Loss: 0.064| Validation loss: 0.385\n",
      "Epoch: 89| Training Loss: 0.063| Validation loss: 0.385\n",
      "Epoch: 90| Training Loss: 0.063| Validation loss: 0.385\n",
      "Epoch: 91| Training Loss: 0.063| Validation loss: 0.385\n",
      "Epoch: 92| Training Loss: 0.062| Validation loss: 0.385\n",
      "Epoch: 93| Training Loss: 0.062| Validation loss: 0.384\n",
      "Epoch: 94| Training Loss: 0.061| Validation loss: 0.384\n",
      "Epoch: 95| Training Loss: 0.061| Validation loss: 0.384\n",
      "Epoch: 96| Training Loss: 0.060| Validation loss: 0.384\n",
      "Epoch: 97| Training Loss: 0.060| Validation loss: 0.384\n",
      "Epoch: 98| Training Loss: 0.060| Validation loss: 0.384\n",
      "Epoch: 99| Training Loss: 0.059| Validation loss: 0.383\n",
      "Epoch: 100| Training Loss: 0.059| Validation loss: 0.383\n",
      "Epoch: 101| Training Loss: 0.059| Validation loss: 0.383\n",
      "Epoch: 102| Training Loss: 0.058| Validation loss: 0.383\n",
      "Epoch: 103| Training Loss: 0.058| Validation loss: 0.383\n",
      "Epoch: 104| Training Loss: 0.057| Validation loss: 0.383\n",
      "Epoch: 105| Training Loss: 0.057| Validation loss: 0.383\n",
      "Epoch: 106| Training Loss: 0.057| Validation loss: 0.383\n",
      "Epoch: 107| Training Loss: 0.056| Validation loss: 0.382\n",
      "Epoch: 108| Training Loss: 0.056| Validation loss: 0.382\n",
      "Epoch: 109| Training Loss: 0.056| Validation loss: 0.382\n",
      "Epoch: 110| Training Loss: 0.056| Validation loss: 0.382\n",
      "Epoch: 111| Training Loss: 0.055| Validation loss: 0.382\n",
      "Epoch: 112| Training Loss: 0.055| Validation loss: 0.382\n",
      "Epoch: 113| Training Loss: 0.055| Validation loss: 0.382\n",
      "Epoch: 114| Training Loss: 0.054| Validation loss: 0.382\n"
     ]
    }
   ],
   "source": [
    "w_tfidf, trl, devl = SGD(tfidf_data['X_train'], tfidf_data['y_train'], \n",
    "                         X_dev=tfidf_data['X_dev'], Y_dev=tfidf_data['y_dev'], \n",
    "                         lr=0.0002, epochs=250, alpha=0.002)"
   ]
  },
  {
   "cell_type": "markdown",
   "metadata": {},
   "source": [
    "Now plot the training and validation history per epoch. Does your model underfit, overfit or is it about right? Explain why."
   ]
  },
  {
   "cell_type": "code",
   "execution_count": 45,
   "metadata": {
    "ExecuteTime": {
     "end_time": "2020-02-15T14:17:54.517668Z",
     "start_time": "2020-02-15T14:17:54.417118Z"
    }
   },
   "outputs": [
    {
     "data": {
      "image/png": "[encoded data removed]",
      "text/plain": [
       "<Figure size 432x288 with 1 Axes>"
      ]
     },
     "metadata": {
      "needs_background": "light"
     },
     "output_type": "display_data"
    }
   ],
   "source": [
    "plot_results([loss_tr_count, dev_loss_count, trl, devl], \n",
    "             ['count train', 'count_dev', 'tfidf train', 'tfidf dev'])"
   ]
  },
  {
   "cell_type": "code",
   "execution_count": 46,
   "metadata": {},
   "outputs": [
    {
     "name": "stdout",
     "output_type": "stream",
     "text": [
      "Difference between final development and training loss for tfidf data is 0.3273070960965789\n"
     ]
    }
   ],
   "source": [
    "print(f'Difference between final development and training loss for tfidf data is {devl[-1] - trl[-1]}')"
   ]
  },
  {
   "cell_type": "markdown",
   "metadata": {},
   "source": [
    "**We can see again that the model still overfits, even more than the count model. However, it is much faster to train and has better initial results than if using count data**"
   ]
  },
  {
   "cell_type": "markdown",
   "metadata": {},
   "source": [
    "Compute accuracy, precision, recall and F1-scores:"
   ]
  },
  {
   "cell_type": "code",
   "execution_count": 47,
   "metadata": {
    "ExecuteTime": {
     "end_time": "2020-02-15T14:37:56.489814Z",
     "start_time": "2020-02-15T14:37:56.487014Z"
    }
   },
   "outputs": [
    {
     "data": {
      "text/html": [
       "<div>\n",
       "<style scoped>\n",
       "    .dataframe tbody tr th:only-of-type {\n",
       "        vertical-align: middle;\n",
       "    }\n",
       "\n",
       "    .dataframe tbody tr th {\n",
       "        vertical-align: top;\n",
       "    }\n",
       "\n",
       "    .dataframe thead th {\n",
       "        text-align: right;\n",
       "    }\n",
       "</style>\n",
       "<table border=\"1\" class=\"dataframe\">\n",
       "  <thead>\n",
       "    <tr style=\"text-align: right;\">\n",
       "      <th></th>\n",
       "      <th>count</th>\n",
       "      <th>tfidf</th>\n",
       "    </tr>\n",
       "  </thead>\n",
       "  <tbody>\n",
       "    <tr>\n",
       "      <th>Accuracy</th>\n",
       "      <td>0.858</td>\n",
       "      <td>0.852</td>\n",
       "    </tr>\n",
       "    <tr>\n",
       "      <th>Precision</th>\n",
       "      <td>0.886</td>\n",
       "      <td>0.862</td>\n",
       "    </tr>\n",
       "    <tr>\n",
       "      <th>Recall</th>\n",
       "      <td>0.820</td>\n",
       "      <td>0.840</td>\n",
       "    </tr>\n",
       "    <tr>\n",
       "      <th>F1-Score</th>\n",
       "      <td>0.852</td>\n",
       "      <td>0.851</td>\n",
       "    </tr>\n",
       "  </tbody>\n",
       "</table>\n",
       "</div>"
      ],
      "text/plain": [
       "           count  tfidf\n",
       "Accuracy   0.858  0.852\n",
       "Precision  0.886  0.862\n",
       "Recall     0.820  0.840\n",
       "F1-Score   0.852  0.851"
      ]
     },
     "execution_count": 47,
     "metadata": {},
     "output_type": "execute_result"
    }
   ],
   "source": [
    "tfidf_pred = predict_class(tfidf_data['X_test'], w_tfidf)\n",
    "tfidf_metrics = evaluation_metrics(tfidf_data['y_test'], tfidf_pred)\n",
    "\n",
    "results['tfidf'] = tfidf_metrics\n",
    "results.round(3)"
   ]
  },
  {
   "cell_type": "markdown",
   "metadata": {},
   "source": [
    "Print top-10 most positive and negative words:"
   ]
  },
  {
   "cell_type": "code",
   "execution_count": 48,
   "metadata": {
    "ExecuteTime": {
     "end_time": "2020-02-15T14:38:17.845485Z",
     "start_time": "2020-02-15T14:38:17.842557Z"
    }
   },
   "outputs": [],
   "source": [
    "pos, neg = top_words(w_tfidf, tfidf_data['vocab'])\n",
    "top_words_df['tfidf', 'positive'] = pos\n",
    "top_words_df['tfidf', 'negative'] = neg"
   ]
  },
  {
   "cell_type": "code",
   "execution_count": 49,
   "metadata": {},
   "outputs": [
    {
     "data": {
      "text/html": [
       "<div>\n",
       "<style scoped>\n",
       "    .dataframe tbody tr th:only-of-type {\n",
       "        vertical-align: middle;\n",
       "    }\n",
       "\n",
       "    .dataframe tbody tr th {\n",
       "        vertical-align: top;\n",
       "    }\n",
       "\n",
       "    .dataframe thead tr th {\n",
       "        text-align: left;\n",
       "    }\n",
       "</style>\n",
       "<table border=\"1\" class=\"dataframe\">\n",
       "  <thead>\n",
       "    <tr>\n",
       "      <th></th>\n",
       "      <th colspan=\"2\" halign=\"left\">count</th>\n",
       "      <th colspan=\"2\" halign=\"left\">tfidf</th>\n",
       "    </tr>\n",
       "    <tr>\n",
       "      <th></th>\n",
       "      <th>positive</th>\n",
       "      <th>negative</th>\n",
       "      <th>positive</th>\n",
       "      <th>negative</th>\n",
       "    </tr>\n",
       "  </thead>\n",
       "  <tbody>\n",
       "    <tr>\n",
       "      <th>Top 1</th>\n",
       "      <td>great</td>\n",
       "      <td>bad</td>\n",
       "      <td>great</td>\n",
       "      <td>bad</td>\n",
       "    </tr>\n",
       "    <tr>\n",
       "      <th>Top 2</th>\n",
       "      <td>well</td>\n",
       "      <td>unfortunately</td>\n",
       "      <td>hilarious</td>\n",
       "      <td>worst</td>\n",
       "    </tr>\n",
       "    <tr>\n",
       "      <th>Top 3</th>\n",
       "      <td>fun</td>\n",
       "      <td>worst</td>\n",
       "      <td>perfectly</td>\n",
       "      <td>boring</td>\n",
       "    </tr>\n",
       "    <tr>\n",
       "      <th>Top 4</th>\n",
       "      <td>seen</td>\n",
       "      <td>script</td>\n",
       "      <td>terrific</td>\n",
       "      <td>supposed</td>\n",
       "    </tr>\n",
       "    <tr>\n",
       "      <th>Top 5</th>\n",
       "      <td>also</td>\n",
       "      <td>only</td>\n",
       "      <td>truman</td>\n",
       "      <td>unfortunately</td>\n",
       "    </tr>\n",
       "    <tr>\n",
       "      <th>Top 6</th>\n",
       "      <td>many</td>\n",
       "      <td>boring</td>\n",
       "      <td>fun</td>\n",
       "      <td>nothing</td>\n",
       "    </tr>\n",
       "    <tr>\n",
       "      <th>Top 7</th>\n",
       "      <td>perfectly</td>\n",
       "      <td>why</td>\n",
       "      <td>memorable</td>\n",
       "      <td>harry</td>\n",
       "    </tr>\n",
       "    <tr>\n",
       "      <th>Top 8</th>\n",
       "      <td>both</td>\n",
       "      <td>looks</td>\n",
       "      <td>overall</td>\n",
       "      <td>stupid</td>\n",
       "    </tr>\n",
       "    <tr>\n",
       "      <th>Top 9</th>\n",
       "      <td>life</td>\n",
       "      <td>nothing</td>\n",
       "      <td>definitely</td>\n",
       "      <td>why</td>\n",
       "    </tr>\n",
       "    <tr>\n",
       "      <th>Top 10</th>\n",
       "      <td>see</td>\n",
       "      <td>plot</td>\n",
       "      <td>pulp</td>\n",
       "      <td>script</td>\n",
       "    </tr>\n",
       "  </tbody>\n",
       "</table>\n",
       "</div>"
      ],
      "text/plain": [
       "            count                      tfidf               \n",
       "         positive       negative    positive       negative\n",
       "Top 1       great            bad       great            bad\n",
       "Top 2        well  unfortunately   hilarious          worst\n",
       "Top 3         fun          worst   perfectly         boring\n",
       "Top 4        seen         script    terrific       supposed\n",
       "Top 5        also           only      truman  unfortunately\n",
       "Top 6        many         boring         fun        nothing\n",
       "Top 7   perfectly            why   memorable          harry\n",
       "Top 8        both          looks     overall         stupid\n",
       "Top 9        life        nothing  definitely            why\n",
       "Top 10        see           plot        pulp         script"
      ]
     },
     "execution_count": 49,
     "metadata": {},
     "output_type": "execute_result"
    }
   ],
   "source": [
    "top_words_df"
   ]
  },
  {
   "cell_type": "markdown",
   "metadata": {},
   "source": [
    "**With tfidf it becomes clear that some of the features that end up in the top 10 for the count are there just because they often occur in the text. For example: *many*, *also*, *only*. Those not necessarily contribute to making an accurate decision about sentiment and are replaced by more appropriate features when using tfidf.**\n",
    "\n",
    "**It is also interesting to note that tfidf picks up more film-specific terms such as *pulp*, *Truman*, *hilarious*, which could potentially reduce the generalisation to other domains.**"
   ]
  },
  {
   "cell_type": "markdown",
   "metadata": {},
   "source": [
    "### Discuss how did you choose model hyperparameters (e.g. learning rate and regularisation strength)? What is the relation between training epochs and learning rate? How the regularisation strength affects performance?"
   ]
  },
  {
   "cell_type": "code",
   "execution_count": 50,
   "metadata": {},
   "outputs": [],
   "source": [
    "from mpl_toolkits.mplot3d import Axes3D"
   ]
  },
  {
   "cell_type": "code",
   "execution_count": 51,
   "metadata": {},
   "outputs": [],
   "source": [
    "def optimize(data, lr_range, epoch_range, alpha_range, loss='binary', num_classes=5, metric_average='binary', seed=333):\n",
    "    \n",
    "    if loss == 'binary':\n",
    "        calc_loss = partial(binary_loss)\n",
    "    elif loss == 'categorical':\n",
    "        calc_loss = partial(categorical_loss, num_classes=num_classes)\n",
    "    \n",
    "    # Initialise the variables:\n",
    "    lr3d, epoch3d = np.meshgrid(lr_range, epoch_range)\n",
    "    lr_epoch_loss = np.empty_like(lr3d)\n",
    "    dim = lr3d.shape\n",
    "    metric_names = ['dev_loss', 'accuracy', 'precision', 'recall', 'F1']\n",
    "    metrics = np.empty(shape=(dim[0], dim[1], len(metric_names)))\n",
    "    \n",
    "    print('Finding optimal epoch and learning rate')\n",
    "    \n",
    "    for i in range(dim[0]):\n",
    "        for j in range(dim[1]):\n",
    "            np.random.seed(seed)  # Ensure same random state is used for each run\n",
    "            weights, _, _ = SGD(data['X_train'], data['y_train'],\n",
    "                                lr=lr3d[i, j], epochs=epoch3d[i, j], alpha=0,\n",
    "                                print_progress=False, loss=loss, num_classes=num_classes)\n",
    "            metrics[i, j, 0] = calc_loss(data['X_dev'], data['y_dev'], weights, alpha=0)\n",
    "            pred = predict_class(data['X_dev'], weights)\n",
    "            metrics[i, j, 1:] = evaluation_metrics(data['y_dev'], pred, average=metric_average)\n",
    "    \n",
    "    results = np.hstack([lr3d.reshape(-1, 1), epoch3d.reshape(-1, 1), metrics.reshape(dim[0]*dim[1], -1)])\n",
    "    lr_epoch_res = pd.DataFrame(data=results, columns=['lr', 'epochs']+metric_names)\n",
    "    lr_epoch_res.sort_values(['dev_loss'], ascending=True, inplace=True)\n",
    "    top_lr_epoch = lr_epoch_res.head(1)\n",
    "    print(f'Best lr and epoch results, according to dev loss, for the development set:')\n",
    "    print(top_lr_epoch)\n",
    "    print('\\n')\n",
    "    \n",
    "    print(f'Finding optimal alpha with best epochs and learning rate')\n",
    "    a_metrics = np.empty(shape=(alpha_range.shape[0], len(metric_names)))\n",
    "    for i, alpha in enumerate(alpha_range):\n",
    "        np.random.seed(seed)\n",
    "        weights, _, _ = SGD(data['X_train'], data['y_train'],\n",
    "                            lr=top_lr_epoch['lr'].iloc[0], epochs=int(top_lr_epoch['epochs'].iloc[0]), alpha=alpha, \n",
    "                            print_progress=False, loss=loss, num_classes=num_classes)\n",
    "        a_metrics[i, 0] = calc_loss(data['X_dev'], data['y_dev'], weights, alpha=0)\n",
    "        pred = predict_class(data['X_dev'], weights)\n",
    "        a_metrics[i, 1:] = evaluation_metrics(data['y_dev'], pred, average=metric_average)\n",
    "    \n",
    "    results = np.hstack([alpha_range.reshape(-1, 1), a_metrics])\n",
    "    alpha_res = pd.DataFrame(data=results, columns=['alpha']+metric_names)\n",
    "    alpha_res.sort_values(['dev_loss'], ascending=True, inplace=True)\n",
    "    print(f'Best alpha results, according to F1 score and dev loss for the development set:')\n",
    "    print(alpha_res.head(1))\n",
    "    \n",
    "    plot_opt_results(lr3d, epoch3d, metrics, alpha_range, a_metrics)\n",
    "    \n",
    "    return lr_epoch_res, alpha_res\n",
    "\n",
    "\n",
    "def plot_opt_results(lr, epochs, lr_epoch_metric, alpha, alpha_metric):\n",
    "    \n",
    "   # Plot Epoch vs Learning Rate vs Loss graph\n",
    "    fig = plt.figure(figsize=(16, 6))\n",
    "\n",
    "    if epochs.shape[0] > 1:\n",
    "        ax = fig.add_subplot(121, projection='3d')\n",
    "        ax.set_xlabel('Learning Rate (x100)')\n",
    "        ax.set_ylabel('Epochs')\n",
    "        ax.set_zlabel('Negated Dev Loss')\n",
    "        ax.plot_surface(lr*100, epochs, -lr_epoch_metric[:, :, 0], antialiased=True, cmap='summer')\n",
    "    else:\n",
    "        ax = fig.add_subplot(121)\n",
    "        ax.set_xlabel('Learning Rate (x100)')\n",
    "        ax.set_ylabel('Dev Loss')\n",
    "        ax.set_title(f'Learning Rate vs Dev Loss for {epochs[0, 0]} epochs')\n",
    "        ax.plot(lr.flatten()*100, lr_epoch_metric[:, :, 0].flatten())\n",
    "    \n",
    "    # Plot Alpha vs Loss graph for best epoch and lr combination.\n",
    "    ax = fig.add_subplot(122)\n",
    "    ax.set_xlabel('Alpha')\n",
    "    ax.set_ylabel('Metrics')\n",
    "    ax.set_title(f'Alpha for Different Metrics for best epoch and lr')\n",
    "    ax.plot(alpha, alpha_metric[:, 0], label='dev_loss')\n",
    "    # ax.plot(alpha, alpha_metric[:, 0], label='dev_loss')\n",
    "    ax.legend()\n",
    "    \n",
    "    plt.show()"
   ]
  },
  {
   "cell_type": "markdown",
   "metadata": {},
   "source": [
    "**To reduce computational overhead of hyperparameter search, I first examine the relation between epochs and learning rate picking the most optimal combination with regards to development loss. Then using those lr and epoch values I search for the optimal alpha again choosing value which minimises the development loss.**"
   ]
  },
  {
   "cell_type": "markdown",
   "metadata": {},
   "source": [
    "### Define search space:"
   ]
  },
  {
   "cell_type": "markdown",
   "metadata": {},
   "source": [
    "**Note: for the marking puprouses a single epoch value is evaluated which produces a 2D graph of lr vs devevelopment loss just for that epoch. As can be seen in the report, selecting a range of epochs will produce a 3D graph comparing all the different values. As well as that, a smaller range of learning rates is kept to reduce time for running the code**"
   ]
  },
  {
   "cell_type": "code",
   "execution_count": 52,
   "metadata": {},
   "outputs": [],
   "source": [
    "# Values used in the report:\n",
    "\"\"\"\n",
    "lr_range = np.logspace(-5, -2, 10)\n",
    "epoch_range = np.arange(100, 251, 50)\n",
    "alpha_range = np.logspace(-4.5, -2, 10)\n",
    "\"\"\"\n",
    "\n",
    "# Values used for marking:\n",
    "lr_range = np.array([0.00001, 0.0001, 0.001])\n",
    "epoch_range = np.array([250])\n",
    "alpha_range = np.array([0.00005, 0.001, 0.005])"
   ]
  },
  {
   "cell_type": "markdown",
   "metadata": {},
   "source": [
    "### Optimising for the count data:"
   ]
  },
  {
   "cell_type": "code",
   "execution_count": 53,
   "metadata": {},
   "outputs": [
    {
     "name": "stdout",
     "output_type": "stream",
     "text": [
      "Finding optimal epoch and learning rate\n",
      "Best lr and epoch results, according to dev loss, for the development set:\n",
      "       lr  epochs  dev_loss  accuracy  precision  recall        F1\n",
      "1  0.0001   250.0  0.381365     0.835   0.838384    0.83  0.834171\n",
      "\n",
      "\n",
      "Finding optimal alpha with best epochs and learning rate\n",
      "Best alpha results, according to F1 score and dev loss for the development set:\n",
      "   alpha  dev_loss  accuracy  precision  recall        F1\n",
      "1  0.001  0.381348     0.835   0.838384    0.83  0.834171\n"
     ]
    },
    {
     "data": {
      "image/png": "[encoded data removed]",
      "text/plain": [
       "<Figure size 1152x432 with 2 Axes>"
      ]
     },
     "metadata": {
      "needs_background": "light"
     },
     "output_type": "display_data"
    }
   ],
   "source": [
    "lr_epoch_count, alpha_count = optimize(count_data, lr_range, epoch_range, alpha_range)"
   ]
  },
  {
   "cell_type": "code",
   "execution_count": 54,
   "metadata": {},
   "outputs": [
    {
     "data": {
      "text/html": [
       "<div>\n",
       "<style scoped>\n",
       "    .dataframe tbody tr th:only-of-type {\n",
       "        vertical-align: middle;\n",
       "    }\n",
       "\n",
       "    .dataframe tbody tr th {\n",
       "        vertical-align: top;\n",
       "    }\n",
       "\n",
       "    .dataframe thead th {\n",
       "        text-align: right;\n",
       "    }\n",
       "</style>\n",
       "<table border=\"1\" class=\"dataframe\">\n",
       "  <thead>\n",
       "    <tr style=\"text-align: right;\">\n",
       "      <th></th>\n",
       "      <th>lr</th>\n",
       "      <th>epochs</th>\n",
       "      <th>dev_loss</th>\n",
       "      <th>accuracy</th>\n",
       "      <th>precision</th>\n",
       "      <th>recall</th>\n",
       "      <th>F1</th>\n",
       "    </tr>\n",
       "  </thead>\n",
       "  <tbody>\n",
       "    <tr>\n",
       "      <th>1</th>\n",
       "      <td>0.00010</td>\n",
       "      <td>250.0</td>\n",
       "      <td>0.381365</td>\n",
       "      <td>0.835</td>\n",
       "      <td>0.838384</td>\n",
       "      <td>0.83</td>\n",
       "      <td>0.834171</td>\n",
       "    </tr>\n",
       "    <tr>\n",
       "      <th>0</th>\n",
       "      <td>0.00001</td>\n",
       "      <td>250.0</td>\n",
       "      <td>0.447723</td>\n",
       "      <td>0.830</td>\n",
       "      <td>0.830000</td>\n",
       "      <td>0.83</td>\n",
       "      <td>0.830000</td>\n",
       "    </tr>\n",
       "    <tr>\n",
       "      <th>2</th>\n",
       "      <td>0.00100</td>\n",
       "      <td>250.0</td>\n",
       "      <td>0.453803</td>\n",
       "      <td>0.845</td>\n",
       "      <td>0.841584</td>\n",
       "      <td>0.85</td>\n",
       "      <td>0.845771</td>\n",
       "    </tr>\n",
       "  </tbody>\n",
       "</table>\n",
       "</div>"
      ],
      "text/plain": [
       "        lr  epochs  dev_loss  accuracy  precision  recall        F1\n",
       "1  0.00010   250.0  0.381365     0.835   0.838384    0.83  0.834171\n",
       "0  0.00001   250.0  0.447723     0.830   0.830000    0.83  0.830000\n",
       "2  0.00100   250.0  0.453803     0.845   0.841584    0.85  0.845771"
      ]
     },
     "execution_count": 54,
     "metadata": {},
     "output_type": "execute_result"
    }
   ],
   "source": [
    "lr_epoch_count.head()"
   ]
  },
  {
   "cell_type": "code",
   "execution_count": 55,
   "metadata": {},
   "outputs": [
    {
     "data": {
      "text/html": [
       "<div>\n",
       "<style scoped>\n",
       "    .dataframe tbody tr th:only-of-type {\n",
       "        vertical-align: middle;\n",
       "    }\n",
       "\n",
       "    .dataframe tbody tr th {\n",
       "        vertical-align: top;\n",
       "    }\n",
       "\n",
       "    .dataframe thead th {\n",
       "        text-align: right;\n",
       "    }\n",
       "</style>\n",
       "<table border=\"1\" class=\"dataframe\">\n",
       "  <thead>\n",
       "    <tr style=\"text-align: right;\">\n",
       "      <th></th>\n",
       "      <th>alpha</th>\n",
       "      <th>dev_loss</th>\n",
       "      <th>accuracy</th>\n",
       "      <th>precision</th>\n",
       "      <th>recall</th>\n",
       "      <th>F1</th>\n",
       "    </tr>\n",
       "  </thead>\n",
       "  <tbody>\n",
       "    <tr>\n",
       "      <th>1</th>\n",
       "      <td>0.00100</td>\n",
       "      <td>0.381348</td>\n",
       "      <td>0.835</td>\n",
       "      <td>0.838384</td>\n",
       "      <td>0.83</td>\n",
       "      <td>0.834171</td>\n",
       "    </tr>\n",
       "    <tr>\n",
       "      <th>0</th>\n",
       "      <td>0.00005</td>\n",
       "      <td>0.381362</td>\n",
       "      <td>0.835</td>\n",
       "      <td>0.838384</td>\n",
       "      <td>0.83</td>\n",
       "      <td>0.834171</td>\n",
       "    </tr>\n",
       "    <tr>\n",
       "      <th>2</th>\n",
       "      <td>0.00500</td>\n",
       "      <td>0.382152</td>\n",
       "      <td>0.830</td>\n",
       "      <td>0.836735</td>\n",
       "      <td>0.82</td>\n",
       "      <td>0.828283</td>\n",
       "    </tr>\n",
       "  </tbody>\n",
       "</table>\n",
       "</div>"
      ],
      "text/plain": [
       "     alpha  dev_loss  accuracy  precision  recall        F1\n",
       "1  0.00100  0.381348     0.835   0.838384    0.83  0.834171\n",
       "0  0.00005  0.381362     0.835   0.838384    0.83  0.834171\n",
       "2  0.00500  0.382152     0.830   0.836735    0.82  0.828283"
      ]
     },
     "execution_count": 55,
     "metadata": {},
     "output_type": "execute_result"
    }
   ],
   "source": [
    "alpha_count.head()"
   ]
  },
  {
   "cell_type": "markdown",
   "metadata": {},
   "source": [
    "### Optimising for the tfidf data:"
   ]
  },
  {
   "cell_type": "code",
   "execution_count": 56,
   "metadata": {},
   "outputs": [
    {
     "name": "stdout",
     "output_type": "stream",
     "text": [
      "Finding optimal epoch and learning rate\n",
      "Best lr and epoch results, according to dev loss, for the development set:\n",
      "       lr  epochs  dev_loss  accuracy  precision  recall        F1\n",
      "1  0.0001   250.0  0.369122      0.84   0.826923    0.86  0.843137\n",
      "\n",
      "\n",
      "Finding optimal alpha with best epochs and learning rate\n",
      "Best alpha results, according to F1 score and dev loss for the development set:\n",
      "     alpha  dev_loss  accuracy  precision  recall        F1\n",
      "0  0.00005   0.36914      0.84   0.826923    0.86  0.843137\n"
     ]
    },
    {
     "data": {
      "image/png": "[encoded data removed]",
      "text/plain": [
       "<Figure size 1152x432 with 2 Axes>"
      ]
     },
     "metadata": {
      "needs_background": "light"
     },
     "output_type": "display_data"
    }
   ],
   "source": [
    "lr_epoch_tfidf, alpha_tfidf = optimize(tfidf_data, lr_range, epoch_range, alpha_range)"
   ]
  },
  {
   "cell_type": "code",
   "execution_count": 57,
   "metadata": {},
   "outputs": [
    {
     "data": {
      "text/html": [
       "<div>\n",
       "<style scoped>\n",
       "    .dataframe tbody tr th:only-of-type {\n",
       "        vertical-align: middle;\n",
       "    }\n",
       "\n",
       "    .dataframe tbody tr th {\n",
       "        vertical-align: top;\n",
       "    }\n",
       "\n",
       "    .dataframe thead th {\n",
       "        text-align: right;\n",
       "    }\n",
       "</style>\n",
       "<table border=\"1\" class=\"dataframe\">\n",
       "  <thead>\n",
       "    <tr style=\"text-align: right;\">\n",
       "      <th></th>\n",
       "      <th>lr</th>\n",
       "      <th>epochs</th>\n",
       "      <th>dev_loss</th>\n",
       "      <th>accuracy</th>\n",
       "      <th>precision</th>\n",
       "      <th>recall</th>\n",
       "      <th>F1</th>\n",
       "    </tr>\n",
       "  </thead>\n",
       "  <tbody>\n",
       "    <tr>\n",
       "      <th>1</th>\n",
       "      <td>0.00010</td>\n",
       "      <td>250.0</td>\n",
       "      <td>0.369122</td>\n",
       "      <td>0.840</td>\n",
       "      <td>0.826923</td>\n",
       "      <td>0.86</td>\n",
       "      <td>0.843137</td>\n",
       "    </tr>\n",
       "    <tr>\n",
       "      <th>2</th>\n",
       "      <td>0.00100</td>\n",
       "      <td>250.0</td>\n",
       "      <td>0.386326</td>\n",
       "      <td>0.855</td>\n",
       "      <td>0.838095</td>\n",
       "      <td>0.88</td>\n",
       "      <td>0.858537</td>\n",
       "    </tr>\n",
       "    <tr>\n",
       "      <th>0</th>\n",
       "      <td>0.00001</td>\n",
       "      <td>250.0</td>\n",
       "      <td>0.469708</td>\n",
       "      <td>0.825</td>\n",
       "      <td>0.803738</td>\n",
       "      <td>0.86</td>\n",
       "      <td>0.830918</td>\n",
       "    </tr>\n",
       "  </tbody>\n",
       "</table>\n",
       "</div>"
      ],
      "text/plain": [
       "        lr  epochs  dev_loss  accuracy  precision  recall        F1\n",
       "1  0.00010   250.0  0.369122     0.840   0.826923    0.86  0.843137\n",
       "2  0.00100   250.0  0.386326     0.855   0.838095    0.88  0.858537\n",
       "0  0.00001   250.0  0.469708     0.825   0.803738    0.86  0.830918"
      ]
     },
     "execution_count": 57,
     "metadata": {},
     "output_type": "execute_result"
    }
   ],
   "source": [
    "lr_epoch_tfidf.head()"
   ]
  },
  {
   "cell_type": "code",
   "execution_count": 58,
   "metadata": {},
   "outputs": [
    {
     "data": {
      "text/html": [
       "<div>\n",
       "<style scoped>\n",
       "    .dataframe tbody tr th:only-of-type {\n",
       "        vertical-align: middle;\n",
       "    }\n",
       "\n",
       "    .dataframe tbody tr th {\n",
       "        vertical-align: top;\n",
       "    }\n",
       "\n",
       "    .dataframe thead th {\n",
       "        text-align: right;\n",
       "    }\n",
       "</style>\n",
       "<table border=\"1\" class=\"dataframe\">\n",
       "  <thead>\n",
       "    <tr style=\"text-align: right;\">\n",
       "      <th></th>\n",
       "      <th>alpha</th>\n",
       "      <th>dev_loss</th>\n",
       "      <th>accuracy</th>\n",
       "      <th>precision</th>\n",
       "      <th>recall</th>\n",
       "      <th>F1</th>\n",
       "    </tr>\n",
       "  </thead>\n",
       "  <tbody>\n",
       "    <tr>\n",
       "      <th>0</th>\n",
       "      <td>0.00005</td>\n",
       "      <td>0.369140</td>\n",
       "      <td>0.84</td>\n",
       "      <td>0.826923</td>\n",
       "      <td>0.86</td>\n",
       "      <td>0.843137</td>\n",
       "    </tr>\n",
       "    <tr>\n",
       "      <th>1</th>\n",
       "      <td>0.00100</td>\n",
       "      <td>0.369501</td>\n",
       "      <td>0.84</td>\n",
       "      <td>0.826923</td>\n",
       "      <td>0.86</td>\n",
       "      <td>0.843137</td>\n",
       "    </tr>\n",
       "    <tr>\n",
       "      <th>2</th>\n",
       "      <td>0.00500</td>\n",
       "      <td>0.371436</td>\n",
       "      <td>0.84</td>\n",
       "      <td>0.826923</td>\n",
       "      <td>0.86</td>\n",
       "      <td>0.843137</td>\n",
       "    </tr>\n",
       "  </tbody>\n",
       "</table>\n",
       "</div>"
      ],
      "text/plain": [
       "     alpha  dev_loss  accuracy  precision  recall        F1\n",
       "0  0.00005  0.369140      0.84   0.826923    0.86  0.843137\n",
       "1  0.00100  0.369501      0.84   0.826923    0.86  0.843137\n",
       "2  0.00500  0.371436      0.84   0.826923    0.86  0.843137"
      ]
     },
     "execution_count": 58,
     "metadata": {},
     "output_type": "execute_result"
    }
   ],
   "source": [
    "alpha_tfidf.head()"
   ]
  },
  {
   "cell_type": "markdown",
   "metadata": {},
   "source": [
    "### Relation between learning rate and epochs:"
   ]
  },
  {
   "cell_type": "markdown",
   "metadata": {},
   "source": [
    "**From the graphs above, there is no clear relationship between epoch and learning rate. However, in general, for higher epochs, a lower learning rate would be prefered up to an extent. It is clear from the graph that choosing too small of a learning rate drops of in loss achieved as SGD does not have time to reach the minimum. With larger learning rate, the minimum may be reached faster, but it will not necessarily be absolute minima as the loss will bounce around. The best solution for this would be to use an adjustable learning rate that reduces the number of epochs increases.**"
   ]
  },
  {
   "cell_type": "markdown",
   "metadata": {},
   "source": [
    "### Effectiveness of regularization:"
   ]
  },
  {
   "cell_type": "markdown",
   "metadata": {},
   "source": [
    "**Regularization improves the performance very slightly when a small value in the appropriate range is used. In theroy, it prevents overfitting, i.e., reduces the difference between loss for the training and development set. This is highlighted by the fact that tfidf was overfitting more and above parameter optimization procedure determined that a higher alpha is needed to reduce that effect.**"
   ]
  },
  {
   "cell_type": "markdown",
   "metadata": {},
   "source": [
    "# Multi-class Logistic Regression \n",
    "\n",
    "Now you need to train a Multiclass Logistic Regression (MLR) Classifier by extending the Binary model you developed above. You will use the MLR model to perform topic classification on the AG news dataset consisting of three classes:"
   ]
  },
  {
   "cell_type": "markdown",
   "metadata": {},
   "source": [
    "- Class 1: World\n",
    "- Class 2: Sports\n",
    "- Class 3: Business"
   ]
  },
  {
   "cell_type": "code",
   "execution_count": 59,
   "metadata": {},
   "outputs": [],
   "source": [
    "classes = ['World', 'Sports', 'Business']"
   ]
  },
  {
   "cell_type": "markdown",
   "metadata": {},
   "source": [
    "You need to follow the same process as in Task 1 for data processing and feature extraction by reusing the functions you wrote."
   ]
  },
  {
   "cell_type": "code",
   "execution_count": 60,
   "metadata": {
    "ExecuteTime": {
     "end_time": "2020-02-15T14:18:03.212229Z",
     "start_time": "2020-02-15T14:18:03.185261Z"
    }
   },
   "outputs": [],
   "source": [
    "data_topic = load_data('topic')"
   ]
  },
  {
   "cell_type": "code",
   "execution_count": 61,
   "metadata": {
    "ExecuteTime": {
     "end_time": "2020-02-15T14:18:03.515585Z",
     "start_time": "2020-02-15T14:18:03.508299Z"
    }
   },
   "outputs": [
    {
     "data": {
      "text/html": [
       "<div>\n",
       "<style scoped>\n",
       "    .dataframe tbody tr th:only-of-type {\n",
       "        vertical-align: middle;\n",
       "    }\n",
       "\n",
       "    .dataframe tbody tr th {\n",
       "        vertical-align: top;\n",
       "    }\n",
       "\n",
       "    .dataframe thead th {\n",
       "        text-align: right;\n",
       "    }\n",
       "</style>\n",
       "<table border=\"1\" class=\"dataframe\">\n",
       "  <thead>\n",
       "    <tr style=\"text-align: right;\">\n",
       "      <th></th>\n",
       "      <th>label</th>\n",
       "      <th>text</th>\n",
       "    </tr>\n",
       "  </thead>\n",
       "  <tbody>\n",
       "    <tr>\n",
       "      <th>0</th>\n",
       "      <td>1</td>\n",
       "      <td>Reuters - Venezuelans turned out early\\and in ...</td>\n",
       "    </tr>\n",
       "    <tr>\n",
       "      <th>1</th>\n",
       "      <td>1</td>\n",
       "      <td>Reuters - South Korean police used water canno...</td>\n",
       "    </tr>\n",
       "    <tr>\n",
       "      <th>2</th>\n",
       "      <td>1</td>\n",
       "      <td>Reuters - Thousands of Palestinian\\prisoners i...</td>\n",
       "    </tr>\n",
       "    <tr>\n",
       "      <th>3</th>\n",
       "      <td>1</td>\n",
       "      <td>AFP - Sporadic gunfire and shelling took place...</td>\n",
       "    </tr>\n",
       "    <tr>\n",
       "      <th>4</th>\n",
       "      <td>1</td>\n",
       "      <td>AP - Dozens of Rwandan soldiers flew into Suda...</td>\n",
       "    </tr>\n",
       "  </tbody>\n",
       "</table>\n",
       "</div>"
      ],
      "text/plain": [
       "   label                                               text\n",
       "0      1  Reuters - Venezuelans turned out early\\and in ...\n",
       "1      1  Reuters - South Korean police used water canno...\n",
       "2      1  Reuters - Thousands of Palestinian\\prisoners i...\n",
       "3      1  AFP - Sporadic gunfire and shelling took place...\n",
       "4      1  AP - Dozens of Rwandan soldiers flew into Suda..."
      ]
     },
     "execution_count": 61,
     "metadata": {},
     "output_type": "execute_result"
    }
   ],
   "source": [
    "data_topic['train'].head()"
   ]
  },
  {
   "cell_type": "code",
   "execution_count": 62,
   "metadata": {
    "ExecuteTime": {
     "end_time": "2020-02-15T14:18:03.806523Z",
     "start_time": "2020-02-15T14:18:03.798279Z"
    }
   },
   "outputs": [],
   "source": [
    "topic_raw = get_raw_data(data_topic)"
   ]
  },
  {
   "cell_type": "code",
   "execution_count": 63,
   "metadata": {
    "ExecuteTime": {
     "end_time": "2020-02-15T14:18:04.508938Z",
     "start_time": "2020-02-15T14:18:04.171071Z"
    }
   },
   "outputs": [
    {
     "name": "stdout",
     "output_type": "stream",
     "text": [
      "10000\n",
      "\n",
      "['chavez', ('wing', 'president', 'hugo'), 'either', ('hugo', 'chavez', 'office'), 'numbers', ('president', 'hugo', 'chavez'), ('mandate', 'govern'), 'remove', 'new', ('chavez', 'office'), ('numbers', 'sunday', 'vote'), 'next', ('venezuelans', 'turned', 'out'), ('turned', 'out'), 'mandate', ('reuters', 'venezuelans'), 'president', ('numbers', 'sunday'), 'referendum', 'out', ('venezuelans', 'turned'), ('next', 'two', 'years'), 'sunday', 'historic', ('left', 'wing', 'president'), ('two', 'years'), 'turned', 'venezuelans', ('president', 'hugo'), 'him', 'govern', ('hugo', 'chavez'), ('give', 'him'), 'reuters', ('wing', 'president'), 'wing', ('next', 'two'), 'hugo', 'vote', 'left', 'office', ('sunday', 'vote'), 'years', 'give', 'early', ('left', 'wing'), 'two', 'large', 'least', 'reverse', 'troops', ('reuters', 'south'), 'protesters', 'more', 'central', 'police', 'controversial', 'decision', 'cannon', ('troops', 'iraq'), 'government', 'send', 'used', 'seoul', 'urging', 'korean', ('south', 'korean'), 'water', 'iraq', 'south', ('israeli', 'jails', 'began'), 'israeli', ('prisoners', 'israeli', 'jails'), 'didn', 'began', ('didn', 'care'), 'said', ('reuters', 'thousands'), 'if', ('strike', 'better'), ('care', 'if'), ('better', 'conditions', 'sunday'), ('if', 'starved', 'death'), ('hunger', 'strike', 'better'), 'better', ('minister', 'said', 'didn'), ('conditions', 'sunday'), ('israel', 'security', 'minister'), 'strike', ('security', 'minister'), ('reuters', 'thousands', 'palestinian'), ('israeli', 'jails'), 'israel', ('thousands', 'palestinian'), 'jails', ('prisoners', 'israeli'), ('starved', 'death'), ('sunday', 'but'), ('thousands', 'palestinian', 'prisoners'), 'prisoners']\n",
      "\n",
      "[('reuters', 631), ('said', 432), ('tuesday', 413), ('wednesday', 344), ('new', 325), ('after', 295), ('ap', 275), ('athens', 245), ('monday', 221), ('first', 210)]\n"
     ]
    }
   ],
   "source": [
    "vocab, df, ngram_counts = get_vocab(topic_raw['X_train'], ngram_range=(1,3), keep_topN=10000, stop_words=stop_words)\n",
    "print(len(vocab))\n",
    "print()\n",
    "print(list(vocab)[:100])\n",
    "print()\n",
    "print(df.most_common()[:10])"
   ]
  },
  {
   "cell_type": "markdown",
   "metadata": {},
   "source": [
    "Now you need to change `SGD` to support multiclass datasets. First you need to develop a `softmax` function. It takes as input:\n",
    "\n",
    "- `z`: array of real numbers \n",
    "\n",
    "and returns:\n",
    "\n",
    "- `smax`: the softmax of `z`"
   ]
  },
  {
   "cell_type": "code",
   "execution_count": 64,
   "metadata": {
    "ExecuteTime": {
     "end_time": "2020-02-15T14:18:07.440998Z",
     "start_time": "2020-02-15T14:18:07.437915Z"
    }
   },
   "outputs": [],
   "source": [
    "def softmax(z):\n",
    "    numerator = np.exp(z)\n",
    "    if np.ndim(z) == 2:\n",
    "        denominator = np.sum(np.exp(z), axis=1).reshape(-1, 1)\n",
    "    else:\n",
    "        denominator = np.sum(np.exp(z))\n",
    "    return numerator/denominator"
   ]
  },
  {
   "cell_type": "markdown",
   "metadata": {},
   "source": [
    "Then modify `predict_proba` and `predict_class` functions for the multiclass case:"
   ]
  },
  {
   "cell_type": "code",
   "execution_count": 65,
   "metadata": {
    "ExecuteTime": {
     "end_time": "2020-02-15T14:18:07.445451Z",
     "start_time": "2020-02-15T14:18:07.442851Z"
    }
   },
   "outputs": [],
   "source": [
    "def predict_proba(X, weights):\n",
    "    return softmax(np.dot(X, weights))"
   ]
  },
  {
   "cell_type": "code",
   "execution_count": 66,
   "metadata": {
    "ExecuteTime": {
     "end_time": "2020-02-15T14:18:07.449814Z",
     "start_time": "2020-02-15T14:18:07.447145Z"
    }
   },
   "outputs": [],
   "source": [
    "def predict_class(X, weights):\n",
    "    prob = predict_proba(X, weights)\n",
    "    return np.argmax(prob, axis=1) + 1"
   ]
  },
  {
   "cell_type": "markdown",
   "metadata": {},
   "source": [
    "Toy example and expected functionality of the functions above:"
   ]
  },
  {
   "cell_type": "code",
   "execution_count": 67,
   "metadata": {
    "ExecuteTime": {
     "end_time": "2020-02-15T14:18:08.059902Z",
     "start_time": "2020-02-15T14:18:08.056774Z"
    }
   },
   "outputs": [],
   "source": [
    "X = np.array([[0.1,0.2],[0.2,0.1],[0.1,-0.2]])\n",
    "w = np.array([[2,-5],[-5,2]])"
   ]
  },
  {
   "cell_type": "code",
   "execution_count": 68,
   "metadata": {
    "ExecuteTime": {
     "end_time": "2020-02-15T14:18:08.495464Z",
     "start_time": "2020-02-15T14:18:08.491074Z"
    }
   },
   "outputs": [
    {
     "data": {
      "text/plain": [
       "array([[0.33181223, 0.66818777],\n",
       "       [0.66818777, 0.33181223],\n",
       "       [0.89090318, 0.10909682]])"
      ]
     },
     "execution_count": 68,
     "metadata": {},
     "output_type": "execute_result"
    }
   ],
   "source": [
    "predict_proba(X, w)"
   ]
  },
  {
   "cell_type": "code",
   "execution_count": 69,
   "metadata": {
    "ExecuteTime": {
     "end_time": "2020-02-15T14:18:08.714215Z",
     "start_time": "2020-02-15T14:18:08.710098Z"
    }
   },
   "outputs": [
    {
     "data": {
      "text/plain": [
       "array([2, 1, 1], dtype=int64)"
      ]
     },
     "execution_count": 69,
     "metadata": {},
     "output_type": "execute_result"
    }
   ],
   "source": [
    "predict_class(X, w)"
   ]
  },
  {
   "cell_type": "markdown",
   "metadata": {},
   "source": [
    "Now you need to compute the categorical cross entropy loss (extending the binary loss to support multiple classes)."
   ]
  },
  {
   "cell_type": "code",
   "execution_count": 70,
   "metadata": {},
   "outputs": [],
   "source": [
    "def to_categorical(arr, num_classes):\n",
    "    one_hot = np.zeros((arr.size, num_classes))\n",
    "    one_hot[np.arange(arr.size), arr-1] = 1\n",
    "    return one_hot"
   ]
  },
  {
   "cell_type": "code",
   "execution_count": 71,
   "metadata": {
    "ExecuteTime": {
     "end_time": "2020-02-15T14:30:48.047338Z",
     "start_time": "2020-02-15T14:30:48.044395Z"
    }
   },
   "outputs": [],
   "source": [
    "def categorical_loss(X, Y, weights, num_classes=5, alpha=0.00001):\n",
    "    prob = predict_proba(X, weights)\n",
    "    Y_cat = to_categorical(Y, num_classes)\n",
    "    l = -Y_cat * np.log(prob)\n",
    "    reg = 0.5 * alpha * np.sum(np.square(weights))\n",
    "    return np.mean(np.sum(l, axis=1)) + reg "
   ]
  },
  {
   "cell_type": "code",
   "execution_count": 80,
   "metadata": {},
   "outputs": [
    {
     "data": {
      "text/plain": [
       "array([-0.03318122, -0.06636245])"
      ]
     },
     "execution_count": 80,
     "metadata": {},
     "output_type": "execute_result"
    }
   ],
   "source": [
    "X = np.array([0.1, 0.2])\n",
    "Y = 2\n",
    "\n",
    "prob = predict_proba(X, w)[Y-1]\n",
    "X * (prob - 1)"
   ]
  },
  {
   "cell_type": "code",
   "execution_count": 73,
   "metadata": {},
   "outputs": [],
   "source": [
    "def categorical_grad(X, Y, weights, alpha=0.00001):\n",
    "    prob = predict_proba(X, weights)[Y-1]\n",
    "    grad = np.zeros_like(weights)\n",
    "    grad[:, Y-1] = (prob - 1) * X\n",
    "    grad[:, Y-1] += (alpha * weights[:, Y-1])\n",
    "    return grad"
   ]
  },
  {
   "cell_type": "markdown",
   "metadata": {
    "ExecuteTime": {
     "end_time": "2020-02-15T14:08:59.937442Z",
     "start_time": "2020-02-15T14:08:59.932221Z"
    }
   },
   "source": [
    "Finally you need to modify SGD to support the categorical cross entropy loss:"
   ]
  },
  {
   "cell_type": "markdown",
   "metadata": {},
   "source": [
    "**SGD function from previous section was adjusted to cope with both multiclass and binary task.**\n",
    "\n",
    "**NOTE: the code should run sequentialy from top to bottom as there are repeatative function names**"
   ]
  },
  {
   "cell_type": "markdown",
   "metadata": {
    "ExecuteTime": {
     "end_time": "2020-02-15T14:10:15.772383Z",
     "start_time": "2020-02-15T14:10:15.767855Z"
    }
   },
   "source": [
    "Now you are ready to train and evaluate you MLR following the same steps as in Task 1 for both Count and tfidf features:"
   ]
  },
  {
   "cell_type": "code",
   "execution_count": 74,
   "metadata": {},
   "outputs": [],
   "source": [
    "topic_count = get_data('topic', stop_words=stop_words, keep_topN=10000)"
   ]
  },
  {
   "cell_type": "code",
   "execution_count": 75,
   "metadata": {
    "ExecuteTime": {
     "end_time": "2020-02-15T14:18:55.324956Z",
     "start_time": "2020-02-15T14:18:11.720952Z"
    }
   },
   "outputs": [
    {
     "name": "stdout",
     "output_type": "stream",
     "text": [
      "Epoch: 0| Training Loss: 0.842| Validation loss: 0.949\n",
      "Epoch: 1| Training Loss: 0.715| Validation loss: 0.851\n",
      "Epoch: 2| Training Loss: 0.633| Validation loss: 0.780\n",
      "Epoch: 3| Training Loss: 0.574| Validation loss: 0.726\n",
      "Epoch: 4| Training Loss: 0.530| Validation loss: 0.684\n",
      "Epoch: 5| Training Loss: 0.494| Validation loss: 0.651\n",
      "Epoch: 6| Training Loss: 0.466| Validation loss: 0.623\n",
      "Epoch: 7| Training Loss: 0.441| Validation loss: 0.599\n",
      "Epoch: 8| Training Loss: 0.421| Validation loss: 0.579\n",
      "Epoch: 9| Training Loss: 0.403| Validation loss: 0.562\n",
      "Epoch: 10| Training Loss: 0.387| Validation loss: 0.547\n",
      "Epoch: 11| Training Loss: 0.373| Validation loss: 0.533\n",
      "Epoch: 12| Training Loss: 0.360| Validation loss: 0.521\n",
      "Epoch: 13| Training Loss: 0.348| Validation loss: 0.511\n",
      "Epoch: 14| Training Loss: 0.338| Validation loss: 0.501\n",
      "Epoch: 15| Training Loss: 0.328| Validation loss: 0.492\n",
      "Epoch: 16| Training Loss: 0.319| Validation loss: 0.484\n",
      "Epoch: 17| Training Loss: 0.311| Validation loss: 0.476\n",
      "Epoch: 18| Training Loss: 0.303| Validation loss: 0.469\n",
      "Epoch: 19| Training Loss: 0.296| Validation loss: 0.463\n",
      "Epoch: 20| Training Loss: 0.290| Validation loss: 0.457\n",
      "Epoch: 21| Training Loss: 0.283| Validation loss: 0.452\n",
      "Epoch: 22| Training Loss: 0.277| Validation loss: 0.446\n",
      "Epoch: 23| Training Loss: 0.272| Validation loss: 0.442\n",
      "Epoch: 24| Training Loss: 0.267| Validation loss: 0.437\n",
      "Epoch: 25| Training Loss: 0.261| Validation loss: 0.433\n",
      "Epoch: 26| Training Loss: 0.257| Validation loss: 0.429\n",
      "Epoch: 27| Training Loss: 0.252| Validation loss: 0.425\n",
      "Epoch: 28| Training Loss: 0.248| Validation loss: 0.421\n",
      "Epoch: 29| Training Loss: 0.244| Validation loss: 0.418\n",
      "Epoch: 30| Training Loss: 0.240| Validation loss: 0.415\n",
      "Epoch: 31| Training Loss: 0.236| Validation loss: 0.412\n",
      "Epoch: 32| Training Loss: 0.232| Validation loss: 0.409\n",
      "Epoch: 33| Training Loss: 0.229| Validation loss: 0.406\n",
      "Epoch: 34| Training Loss: 0.225| Validation loss: 0.403\n",
      "Epoch: 35| Training Loss: 0.222| Validation loss: 0.401\n",
      "Epoch: 36| Training Loss: 0.219| Validation loss: 0.399\n",
      "Epoch: 37| Training Loss: 0.216| Validation loss: 0.396\n",
      "Epoch: 38| Training Loss: 0.213| Validation loss: 0.394\n",
      "Epoch: 39| Training Loss: 0.210| Validation loss: 0.392\n",
      "Epoch: 40| Training Loss: 0.208| Validation loss: 0.390\n",
      "Epoch: 41| Training Loss: 0.205| Validation loss: 0.388\n",
      "Epoch: 42| Training Loss: 0.202| Validation loss: 0.386\n",
      "Epoch: 43| Training Loss: 0.200| Validation loss: 0.384\n",
      "Epoch: 44| Training Loss: 0.197| Validation loss: 0.383\n",
      "Epoch: 45| Training Loss: 0.195| Validation loss: 0.381\n",
      "Epoch: 46| Training Loss: 0.193| Validation loss: 0.379\n",
      "Epoch: 47| Training Loss: 0.191| Validation loss: 0.378\n",
      "Epoch: 48| Training Loss: 0.189| Validation loss: 0.376\n",
      "Epoch: 49| Training Loss: 0.186| Validation loss: 0.375\n",
      "Epoch: 50| Training Loss: 0.184| Validation loss: 0.374\n",
      "Epoch: 51| Training Loss: 0.182| Validation loss: 0.372\n",
      "Epoch: 52| Training Loss: 0.181| Validation loss: 0.371\n",
      "Epoch: 53| Training Loss: 0.179| Validation loss: 0.370\n",
      "Epoch: 54| Training Loss: 0.177| Validation loss: 0.369\n",
      "Epoch: 55| Training Loss: 0.175| Validation loss: 0.367\n",
      "Epoch: 56| Training Loss: 0.173| Validation loss: 0.366\n",
      "Epoch: 57| Training Loss: 0.172| Validation loss: 0.365\n",
      "Epoch: 58| Training Loss: 0.170| Validation loss: 0.364\n",
      "Epoch: 59| Training Loss: 0.168| Validation loss: 0.363\n",
      "Epoch: 60| Training Loss: 0.167| Validation loss: 0.362\n",
      "Epoch: 61| Training Loss: 0.165| Validation loss: 0.361\n",
      "Epoch: 62| Training Loss: 0.164| Validation loss: 0.360\n",
      "Epoch: 63| Training Loss: 0.162| Validation loss: 0.359\n",
      "Epoch: 64| Training Loss: 0.161| Validation loss: 0.359\n",
      "Epoch: 65| Training Loss: 0.159| Validation loss: 0.358\n",
      "Epoch: 66| Training Loss: 0.158| Validation loss: 0.357\n",
      "Epoch: 67| Training Loss: 0.157| Validation loss: 0.356\n",
      "Epoch: 68| Training Loss: 0.155| Validation loss: 0.355\n",
      "Epoch: 69| Training Loss: 0.154| Validation loss: 0.355\n",
      "Epoch: 70| Training Loss: 0.153| Validation loss: 0.354\n",
      "Epoch: 71| Training Loss: 0.151| Validation loss: 0.353\n",
      "Epoch: 72| Training Loss: 0.150| Validation loss: 0.352\n",
      "Epoch: 73| Training Loss: 0.149| Validation loss: 0.352\n",
      "Epoch: 74| Training Loss: 0.148| Validation loss: 0.351\n",
      "Epoch: 75| Training Loss: 0.147| Validation loss: 0.350\n",
      "Epoch: 76| Training Loss: 0.145| Validation loss: 0.350\n",
      "Epoch: 77| Training Loss: 0.144| Validation loss: 0.349\n",
      "Epoch: 78| Training Loss: 0.143| Validation loss: 0.349\n",
      "Epoch: 79| Training Loss: 0.142| Validation loss: 0.348\n",
      "Epoch: 80| Training Loss: 0.141| Validation loss: 0.348\n",
      "Epoch: 81| Training Loss: 0.140| Validation loss: 0.347\n",
      "Epoch: 82| Training Loss: 0.139| Validation loss: 0.346\n",
      "Epoch: 83| Training Loss: 0.138| Validation loss: 0.346\n",
      "Epoch: 84| Training Loss: 0.137| Validation loss: 0.345\n",
      "Epoch: 85| Training Loss: 0.136| Validation loss: 0.345\n",
      "Epoch: 86| Training Loss: 0.135| Validation loss: 0.345\n",
      "Epoch: 87| Training Loss: 0.134| Validation loss: 0.344\n",
      "Epoch: 88| Training Loss: 0.133| Validation loss: 0.344\n",
      "Epoch: 89| Training Loss: 0.132| Validation loss: 0.343\n",
      "Epoch: 90| Training Loss: 0.131| Validation loss: 0.343\n",
      "Epoch: 91| Training Loss: 0.130| Validation loss: 0.342\n",
      "Epoch: 92| Training Loss: 0.130| Validation loss: 0.342\n",
      "Epoch: 93| Training Loss: 0.129| Validation loss: 0.342\n",
      "Epoch: 94| Training Loss: 0.128| Validation loss: 0.341\n",
      "Epoch: 95| Training Loss: 0.127| Validation loss: 0.341\n",
      "Epoch: 96| Training Loss: 0.126| Validation loss: 0.340\n",
      "Epoch: 97| Training Loss: 0.125| Validation loss: 0.340\n",
      "Epoch: 98| Training Loss: 0.125| Validation loss: 0.340\n",
      "Epoch: 99| Training Loss: 0.124| Validation loss: 0.339\n",
      "Epoch: 100| Training Loss: 0.123| Validation loss: 0.339\n",
      "Epoch: 101| Training Loss: 0.122| Validation loss: 0.339\n",
      "Epoch: 102| Training Loss: 0.121| Validation loss: 0.338\n",
      "Epoch: 103| Training Loss: 0.121| Validation loss: 0.338\n",
      "Epoch: 104| Training Loss: 0.120| Validation loss: 0.338\n",
      "Epoch: 105| Training Loss: 0.119| Validation loss: 0.337\n",
      "Epoch: 106| Training Loss: 0.119| Validation loss: 0.337\n",
      "Epoch: 107| Training Loss: 0.118| Validation loss: 0.337\n",
      "Epoch: 108| Training Loss: 0.117| Validation loss: 0.337\n",
      "Epoch: 109| Training Loss: 0.116| Validation loss: 0.336\n",
      "Epoch: 110| Training Loss: 0.116| Validation loss: 0.336\n",
      "Epoch: 111| Training Loss: 0.115| Validation loss: 0.336\n",
      "Epoch: 112| Training Loss: 0.114| Validation loss: 0.336\n",
      "Epoch: 113| Training Loss: 0.114| Validation loss: 0.335\n",
      "Epoch: 114| Training Loss: 0.113| Validation loss: 0.335\n",
      "Epoch: 115| Training Loss: 0.112| Validation loss: 0.335\n",
      "Epoch: 116| Training Loss: 0.112| Validation loss: 0.335\n",
      "Epoch: 117| Training Loss: 0.111| Validation loss: 0.334\n",
      "Epoch: 118| Training Loss: 0.111| Validation loss: 0.334\n",
      "Epoch: 119| Training Loss: 0.110| Validation loss: 0.334\n",
      "Epoch: 120| Training Loss: 0.109| Validation loss: 0.334\n",
      "Epoch: 121| Training Loss: 0.109| Validation loss: 0.334\n",
      "Epoch: 122| Training Loss: 0.108| Validation loss: 0.333\n",
      "Epoch: 123| Training Loss: 0.108| Validation loss: 0.333\n",
      "Epoch: 124| Training Loss: 0.107| Validation loss: 0.333\n",
      "Epoch: 125| Training Loss: 0.106| Validation loss: 0.333\n",
      "Epoch: 126| Training Loss: 0.106| Validation loss: 0.333\n",
      "Epoch: 127| Training Loss: 0.105| Validation loss: 0.333\n",
      "Epoch: 128| Training Loss: 0.105| Validation loss: 0.332\n",
      "Epoch: 129| Training Loss: 0.104| Validation loss: 0.332\n",
      "Epoch: 130| Training Loss: 0.104| Validation loss: 0.332\n",
      "Epoch: 131| Training Loss: 0.103| Validation loss: 0.332\n",
      "Epoch: 132| Training Loss: 0.103| Validation loss: 0.332\n",
      "Epoch: 133| Training Loss: 0.102| Validation loss: 0.332\n",
      "Epoch: 134| Training Loss: 0.102| Validation loss: 0.332\n",
      "Epoch: 135| Training Loss: 0.101| Validation loss: 0.331\n",
      "Epoch: 136| Training Loss: 0.101| Validation loss: 0.331\n",
      "Epoch: 137| Training Loss: 0.100| Validation loss: 0.331\n",
      "Epoch: 138| Training Loss: 0.100| Validation loss: 0.331\n",
      "Epoch: 139| Training Loss: 0.099| Validation loss: 0.331\n",
      "Epoch: 140| Training Loss: 0.099| Validation loss: 0.331\n",
      "Epoch: 141| Training Loss: 0.098| Validation loss: 0.331\n",
      "Epoch: 142| Training Loss: 0.098| Validation loss: 0.331\n",
      "Epoch: 143| Training Loss: 0.097| Validation loss: 0.330\n",
      "Epoch: 144| Training Loss: 0.097| Validation loss: 0.330\n",
      "Epoch: 145| Training Loss: 0.096| Validation loss: 0.330\n"
     ]
    }
   ],
   "source": [
    "w_count, loss_tr_count, dev_loss_count = SGD(topic_count['X_train'], topic_count['y_train'], \n",
    "                                             X_dev=topic_count['X_dev'], Y_dev=topic_count['y_dev'],\n",
    "                                             lr=0.002, alpha=0, epochs=150,\n",
    "                                             num_classes=3, loss='categorical')"
   ]
  },
  {
   "cell_type": "markdown",
   "metadata": {},
   "source": [
    "Plot training and validation process and explain if your model overfit, underfit or is about right:"
   ]
  },
  {
   "cell_type": "code",
   "execution_count": 76,
   "metadata": {
    "ExecuteTime": {
     "end_time": "2020-02-15T14:31:09.903453Z",
     "start_time": "2020-02-15T14:31:09.901360Z"
    }
   },
   "outputs": [
    {
     "data": {
      "image/png": "[encoded data removed]",
      "text/plain": [
       "<Figure size 432x288 with 1 Axes>"
      ]
     },
     "metadata": {
      "needs_background": "light"
     },
     "output_type": "display_data"
    }
   ],
   "source": [
    "plot_results([loss_tr_count, dev_loss_count], \n",
    "             ['count train', 'count_dev'])"
   ]
  },
  {
   "cell_type": "code",
   "execution_count": 77,
   "metadata": {},
   "outputs": [
    {
     "name": "stdout",
     "output_type": "stream",
     "text": [
      "Difference between final development and training loss for count data is 0.23391316912069576\n"
     ]
    }
   ],
   "source": [
    "print(f'Difference between final development and training loss for count data is {dev_loss_count[-1] - loss_tr_count[-1]}')"
   ]
  },
  {
   "cell_type": "markdown",
   "metadata": {},
   "source": [
    "**The model is overfitting again with continiuous improvement in the training loss and clear convergence of the development loss.**"
   ]
  },
  {
   "cell_type": "markdown",
   "metadata": {},
   "source": [
    "Compute accuracy, precision, recall and F1-scores:"
   ]
  },
  {
   "cell_type": "code",
   "execution_count": 78,
   "metadata": {
    "ExecuteTime": {
     "end_time": "2020-02-15T14:32:12.606498Z",
     "start_time": "2020-02-15T14:32:12.604164Z"
    }
   },
   "outputs": [
    {
     "data": {
      "text/html": [
       "<div>\n",
       "<style scoped>\n",
       "    .dataframe tbody tr th:only-of-type {\n",
       "        vertical-align: middle;\n",
       "    }\n",
       "\n",
       "    .dataframe tbody tr th {\n",
       "        vertical-align: top;\n",
       "    }\n",
       "\n",
       "    .dataframe thead th {\n",
       "        text-align: right;\n",
       "    }\n",
       "</style>\n",
       "<table border=\"1\" class=\"dataframe\">\n",
       "  <thead>\n",
       "    <tr style=\"text-align: right;\">\n",
       "      <th></th>\n",
       "      <th>count</th>\n",
       "    </tr>\n",
       "  </thead>\n",
       "  <tbody>\n",
       "    <tr>\n",
       "      <th>Accuracy</th>\n",
       "      <td>0.844</td>\n",
       "    </tr>\n",
       "    <tr>\n",
       "      <th>Precision</th>\n",
       "      <td>0.849</td>\n",
       "    </tr>\n",
       "    <tr>\n",
       "      <th>Recall</th>\n",
       "      <td>0.844</td>\n",
       "    </tr>\n",
       "    <tr>\n",
       "      <th>F1-Score</th>\n",
       "      <td>0.845</td>\n",
       "    </tr>\n",
       "  </tbody>\n",
       "</table>\n",
       "</div>"
      ],
      "text/plain": [
       "           count\n",
       "Accuracy   0.844\n",
       "Precision  0.849\n",
       "Recall     0.844\n",
       "F1-Score   0.845"
      ]
     },
     "execution_count": 78,
     "metadata": {},
     "output_type": "execute_result"
    }
   ],
   "source": [
    "count_pred = predict_class(topic_count['X_test'], w_count)\n",
    "count_metrics = evaluation_metrics(topic_count['y_test'], count_pred, average='macro')\n",
    "\n",
    "results = pd.DataFrame(data=count_metrics, index=['Accuracy', 'Precision', 'Recall', 'F1-Score'],\n",
    "                       columns=['count'])\n",
    "results.round(3)"
   ]
  },
  {
   "cell_type": "markdown",
   "metadata": {},
   "source": [
    "Print the top-10 words for each class respectively."
   ]
  },
  {
   "cell_type": "code",
   "execution_count": 79,
   "metadata": {},
   "outputs": [],
   "source": [
    "def top_words(weights, vocab):\n",
    "    top_10 = np.empty((10, weights.shape[1]), np.int32)\n",
    "    for i, w in enumerate(weights.T):\n",
    "        sorted_w = np.argsort(w)\n",
    "        top_10[:, i] = sorted_w[-10:][::-1]\n",
    "    return np.array(vocab)[top_10]"
   ]
  },
  {
   "cell_type": "code",
   "execution_count": 80,
   "metadata": {},
   "outputs": [
    {
     "data": {
      "text/html": [
       "<div>\n",
       "<style scoped>\n",
       "    .dataframe tbody tr th:only-of-type {\n",
       "        vertical-align: middle;\n",
       "    }\n",
       "\n",
       "    .dataframe tbody tr th {\n",
       "        vertical-align: top;\n",
       "    }\n",
       "\n",
       "    .dataframe thead tr th {\n",
       "        text-align: left;\n",
       "    }\n",
       "</style>\n",
       "<table border=\"1\" class=\"dataframe\">\n",
       "  <thead>\n",
       "    <tr>\n",
       "      <th></th>\n",
       "      <th colspan=\"3\" halign=\"left\">count</th>\n",
       "    </tr>\n",
       "    <tr>\n",
       "      <th></th>\n",
       "      <th>World</th>\n",
       "      <th>Sports</th>\n",
       "      <th>Business</th>\n",
       "    </tr>\n",
       "  </thead>\n",
       "  <tbody>\n",
       "    <tr>\n",
       "      <th>Top 1</th>\n",
       "      <td>tuesday</td>\n",
       "      <td>athens</td>\n",
       "      <td>reuters</td>\n",
       "    </tr>\n",
       "    <tr>\n",
       "      <th>Top 2</th>\n",
       "      <td>said</td>\n",
       "      <td>tuesday</td>\n",
       "      <td>said</td>\n",
       "    </tr>\n",
       "    <tr>\n",
       "      <th>Top 3</th>\n",
       "      <td>reuters</td>\n",
       "      <td>ap</td>\n",
       "      <td>tuesday</td>\n",
       "    </tr>\n",
       "    <tr>\n",
       "      <th>Top 4</th>\n",
       "      <td>new</td>\n",
       "      <td>after</td>\n",
       "      <td>new</td>\n",
       "    </tr>\n",
       "    <tr>\n",
       "      <th>Top 5</th>\n",
       "      <td>athens</td>\n",
       "      <td>reuters</td>\n",
       "      <td>oil</td>\n",
       "    </tr>\n",
       "    <tr>\n",
       "      <th>Top 6</th>\n",
       "      <td>after</td>\n",
       "      <td>olympic</td>\n",
       "      <td>after</td>\n",
       "    </tr>\n",
       "    <tr>\n",
       "      <th>Top 7</th>\n",
       "      <td>ap</td>\n",
       "      <td>new</td>\n",
       "      <td>prices</td>\n",
       "    </tr>\n",
       "    <tr>\n",
       "      <th>Top 8</th>\n",
       "      <td>oil</td>\n",
       "      <td>team</td>\n",
       "      <td>us</td>\n",
       "    </tr>\n",
       "    <tr>\n",
       "      <th>Top 9</th>\n",
       "      <td>greece</td>\n",
       "      <td>first</td>\n",
       "      <td>but</td>\n",
       "    </tr>\n",
       "    <tr>\n",
       "      <th>Top 10</th>\n",
       "      <td>monday</td>\n",
       "      <td>wednesday</td>\n",
       "      <td>wednesday</td>\n",
       "    </tr>\n",
       "  </tbody>\n",
       "</table>\n",
       "</div>"
      ],
      "text/plain": [
       "          count                      \n",
       "          World     Sports   Business\n",
       "Top 1   tuesday     athens    reuters\n",
       "Top 2      said    tuesday       said\n",
       "Top 3   reuters         ap    tuesday\n",
       "Top 4       new      after        new\n",
       "Top 5    athens    reuters        oil\n",
       "Top 6     after    olympic      after\n",
       "Top 7        ap        new     prices\n",
       "Top 8       oil       team         us\n",
       "Top 9    greece      first        but\n",
       "Top 10   monday  wednesday  wednesday"
      ]
     },
     "execution_count": 80,
     "metadata": {},
     "output_type": "execute_result"
    }
   ],
   "source": [
    "top10_count = top_words(w_count, topic_count['vocab'])\n",
    "top_words_df = pd.DataFrame(data=top10_count, index=['Top ' + str(i) for i in range(1, 11)],\n",
    "                            columns=pd.MultiIndex.from_product([['count'], classes]))\n",
    "top_words_df"
   ]
  },
  {
   "cell_type": "markdown",
   "metadata": {},
   "source": [
    "**Each category mostly consists of domain-specific terms which makes sense in the context of multiclass classification. Thus this model would not generalize well at all to other topics unless appropriate changes were made to add support for additional classes. There are a few terms which occur at the top in all 3 categories such as *reuters* and *tuesday*. Those are likely to cause a problem for distinguishing between classes. This is likely occurring because those words are common in the document and should be brought further down the list when using tfidf.**"
   ]
  },
  {
   "cell_type": "code",
   "execution_count": 81,
   "metadata": {},
   "outputs": [],
   "source": [
    "topic_tfidf = get_data('topic', tfidf=True, stop_words=stop_words, keep_topN=10000)"
   ]
  },
  {
   "cell_type": "code",
   "execution_count": 82,
   "metadata": {},
   "outputs": [
    {
     "name": "stdout",
     "output_type": "stream",
     "text": [
      "Epoch: 0| Training Loss: 0.600| Validation loss: 0.778\n",
      "Epoch: 1| Training Loss: 0.450| Validation loss: 0.644\n",
      "Epoch: 2| Training Loss: 0.369| Validation loss: 0.567\n",
      "Epoch: 3| Training Loss: 0.318| Validation loss: 0.516\n",
      "Epoch: 4| Training Loss: 0.282| Validation loss: 0.480\n",
      "Epoch: 5| Training Loss: 0.254| Validation loss: 0.453\n",
      "Epoch: 6| Training Loss: 0.232| Validation loss: 0.431\n",
      "Epoch: 7| Training Loss: 0.214| Validation loss: 0.413\n",
      "Epoch: 8| Training Loss: 0.199| Validation loss: 0.399\n",
      "Epoch: 9| Training Loss: 0.187| Validation loss: 0.386\n",
      "Epoch: 10| Training Loss: 0.176| Validation loss: 0.375\n",
      "Epoch: 11| Training Loss: 0.166| Validation loss: 0.366\n",
      "Epoch: 12| Training Loss: 0.157| Validation loss: 0.358\n",
      "Epoch: 13| Training Loss: 0.150| Validation loss: 0.351\n",
      "Epoch: 14| Training Loss: 0.143| Validation loss: 0.344\n",
      "Epoch: 15| Training Loss: 0.137| Validation loss: 0.338\n",
      "Epoch: 16| Training Loss: 0.131| Validation loss: 0.333\n",
      "Epoch: 17| Training Loss: 0.126| Validation loss: 0.328\n",
      "Epoch: 18| Training Loss: 0.121| Validation loss: 0.324\n",
      "Epoch: 19| Training Loss: 0.117| Validation loss: 0.320\n",
      "Epoch: 20| Training Loss: 0.113| Validation loss: 0.316\n",
      "Epoch: 21| Training Loss: 0.109| Validation loss: 0.313\n",
      "Epoch: 22| Training Loss: 0.106| Validation loss: 0.310\n",
      "Epoch: 23| Training Loss: 0.103| Validation loss: 0.307\n",
      "Epoch: 24| Training Loss: 0.100| Validation loss: 0.304\n",
      "Epoch: 25| Training Loss: 0.097| Validation loss: 0.302\n",
      "Epoch: 26| Training Loss: 0.094| Validation loss: 0.299\n",
      "Epoch: 27| Training Loss: 0.092| Validation loss: 0.297\n",
      "Epoch: 28| Training Loss: 0.089| Validation loss: 0.295\n",
      "Epoch: 29| Training Loss: 0.087| Validation loss: 0.293\n",
      "Epoch: 30| Training Loss: 0.085| Validation loss: 0.291\n",
      "Epoch: 31| Training Loss: 0.083| Validation loss: 0.290\n",
      "Epoch: 32| Training Loss: 0.081| Validation loss: 0.288\n",
      "Epoch: 33| Training Loss: 0.079| Validation loss: 0.287\n",
      "Epoch: 34| Training Loss: 0.077| Validation loss: 0.285\n",
      "Epoch: 35| Training Loss: 0.076| Validation loss: 0.284\n",
      "Epoch: 36| Training Loss: 0.074| Validation loss: 0.283\n",
      "Epoch: 37| Training Loss: 0.073| Validation loss: 0.281\n",
      "Epoch: 38| Training Loss: 0.071| Validation loss: 0.280\n",
      "Epoch: 39| Training Loss: 0.070| Validation loss: 0.279\n",
      "Epoch: 40| Training Loss: 0.068| Validation loss: 0.278\n",
      "Epoch: 41| Training Loss: 0.067| Validation loss: 0.277\n",
      "Epoch: 42| Training Loss: 0.066| Validation loss: 0.276\n",
      "Epoch: 43| Training Loss: 0.065| Validation loss: 0.276\n",
      "Epoch: 44| Training Loss: 0.063| Validation loss: 0.275\n",
      "Epoch: 45| Training Loss: 0.062| Validation loss: 0.274\n",
      "Epoch: 46| Training Loss: 0.061| Validation loss: 0.273\n",
      "Epoch: 47| Training Loss: 0.060| Validation loss: 0.272\n",
      "Epoch: 48| Training Loss: 0.059| Validation loss: 0.272\n",
      "Epoch: 49| Training Loss: 0.058| Validation loss: 0.271\n",
      "Epoch: 50| Training Loss: 0.057| Validation loss: 0.271\n",
      "Epoch: 51| Training Loss: 0.056| Validation loss: 0.270\n",
      "Epoch: 52| Training Loss: 0.056| Validation loss: 0.269\n",
      "Epoch: 53| Training Loss: 0.055| Validation loss: 0.269\n",
      "Epoch: 54| Training Loss: 0.054| Validation loss: 0.268\n",
      "Epoch: 55| Training Loss: 0.053| Validation loss: 0.268\n",
      "Epoch: 56| Training Loss: 0.052| Validation loss: 0.267\n",
      "Epoch: 57| Training Loss: 0.052| Validation loss: 0.267\n",
      "Epoch: 58| Training Loss: 0.051| Validation loss: 0.267\n",
      "Epoch: 59| Training Loss: 0.050| Validation loss: 0.266\n",
      "Epoch: 60| Training Loss: 0.050| Validation loss: 0.266\n",
      "Epoch: 61| Training Loss: 0.049| Validation loss: 0.265\n",
      "Epoch: 62| Training Loss: 0.048| Validation loss: 0.265\n",
      "Epoch: 63| Training Loss: 0.048| Validation loss: 0.265\n",
      "Epoch: 64| Training Loss: 0.047| Validation loss: 0.264\n",
      "Epoch: 65| Training Loss: 0.046| Validation loss: 0.264\n",
      "Epoch: 66| Training Loss: 0.046| Validation loss: 0.264\n",
      "Epoch: 67| Training Loss: 0.045| Validation loss: 0.263\n",
      "Epoch: 68| Training Loss: 0.045| Validation loss: 0.263\n",
      "Epoch: 69| Training Loss: 0.044| Validation loss: 0.263\n",
      "Epoch: 70| Training Loss: 0.044| Validation loss: 0.263\n",
      "Epoch: 71| Training Loss: 0.043| Validation loss: 0.262\n",
      "Epoch: 72| Training Loss: 0.043| Validation loss: 0.262\n",
      "Epoch: 73| Training Loss: 0.042| Validation loss: 0.262\n",
      "Epoch: 74| Training Loss: 0.042| Validation loss: 0.262\n",
      "Epoch: 75| Training Loss: 0.041| Validation loss: 0.262\n",
      "Epoch: 76| Training Loss: 0.041| Validation loss: 0.261\n",
      "Epoch: 77| Training Loss: 0.040| Validation loss: 0.261\n",
      "Epoch: 78| Training Loss: 0.040| Validation loss: 0.261\n",
      "Epoch: 79| Training Loss: 0.039| Validation loss: 0.261\n",
      "Epoch: 80| Training Loss: 0.039| Validation loss: 0.261\n",
      "Epoch: 81| Training Loss: 0.039| Validation loss: 0.261\n",
      "Epoch: 82| Training Loss: 0.038| Validation loss: 0.260\n",
      "Epoch: 83| Training Loss: 0.038| Validation loss: 0.260\n",
      "Epoch: 84| Training Loss: 0.037| Validation loss: 0.260\n",
      "Epoch: 85| Training Loss: 0.037| Validation loss: 0.260\n",
      "Epoch: 86| Training Loss: 0.037| Validation loss: 0.260\n",
      "Epoch: 87| Training Loss: 0.036| Validation loss: 0.260\n",
      "Epoch: 88| Training Loss: 0.036| Validation loss: 0.260\n",
      "Epoch: 89| Training Loss: 0.036| Validation loss: 0.260\n",
      "Epoch: 90| Training Loss: 0.035| Validation loss: 0.259\n"
     ]
    }
   ],
   "source": [
    "w_tfidf, loss_tr_tfidf, dev_loss_tfidf = SGD(topic_tfidf['X_train'], topic_tfidf['y_train'], \n",
    "                                             X_dev=topic_tfidf['X_dev'], Y_dev=topic_tfidf['y_dev'],\n",
    "                                             lr=0.002, alpha=0, epochs=100,\n",
    "                                             num_classes=3, loss='categorical')"
   ]
  },
  {
   "cell_type": "code",
   "execution_count": 83,
   "metadata": {},
   "outputs": [
    {
     "data": {
      "image/png": "[encoded data removed]",
      "text/plain": [
       "<Figure size 432x288 with 1 Axes>"
      ]
     },
     "metadata": {
      "needs_background": "light"
     },
     "output_type": "display_data"
    }
   ],
   "source": [
    "plot_results([loss_tr_count, dev_loss_count, loss_tr_tfidf, dev_loss_tfidf], \n",
    "             ['count train', 'count dev', 'tfidf train', 'tfidf dev'])"
   ]
  },
  {
   "cell_type": "code",
   "execution_count": 84,
   "metadata": {},
   "outputs": [
    {
     "name": "stdout",
     "output_type": "stream",
     "text": [
      "Difference between final development and training loss for tfidf data is 0.22410186819653413\n"
     ]
    }
   ],
   "source": [
    "print(f'Difference between final development and training loss for tfidf data is {dev_loss_tfidf[-1] - loss_tr_tfidf[-1]}')"
   ]
  },
  {
   "cell_type": "markdown",
   "metadata": {},
   "source": [
    "**There is still a clear sign of overfitting for tfidf model, but it is slightly less significant than when using count data. Overall the performance of the tfidf model is superior, showing the importance of reduction in the contribution of standard terms when attempting to distinguish between multiple complex classes.**"
   ]
  },
  {
   "cell_type": "code",
   "execution_count": 85,
   "metadata": {},
   "outputs": [
    {
     "data": {
      "text/html": [
       "<div>\n",
       "<style scoped>\n",
       "    .dataframe tbody tr th:only-of-type {\n",
       "        vertical-align: middle;\n",
       "    }\n",
       "\n",
       "    .dataframe tbody tr th {\n",
       "        vertical-align: top;\n",
       "    }\n",
       "\n",
       "    .dataframe thead th {\n",
       "        text-align: right;\n",
       "    }\n",
       "</style>\n",
       "<table border=\"1\" class=\"dataframe\">\n",
       "  <thead>\n",
       "    <tr style=\"text-align: right;\">\n",
       "      <th></th>\n",
       "      <th>count</th>\n",
       "      <th>tfidf</th>\n",
       "    </tr>\n",
       "  </thead>\n",
       "  <tbody>\n",
       "    <tr>\n",
       "      <th>Accuracy</th>\n",
       "      <td>0.844</td>\n",
       "      <td>0.864</td>\n",
       "    </tr>\n",
       "    <tr>\n",
       "      <th>Precision</th>\n",
       "      <td>0.849</td>\n",
       "      <td>0.867</td>\n",
       "    </tr>\n",
       "    <tr>\n",
       "      <th>Recall</th>\n",
       "      <td>0.844</td>\n",
       "      <td>0.864</td>\n",
       "    </tr>\n",
       "    <tr>\n",
       "      <th>F1-Score</th>\n",
       "      <td>0.845</td>\n",
       "      <td>0.864</td>\n",
       "    </tr>\n",
       "  </tbody>\n",
       "</table>\n",
       "</div>"
      ],
      "text/plain": [
       "           count  tfidf\n",
       "Accuracy   0.844  0.864\n",
       "Precision  0.849  0.867\n",
       "Recall     0.844  0.864\n",
       "F1-Score   0.845  0.864"
      ]
     },
     "execution_count": 85,
     "metadata": {},
     "output_type": "execute_result"
    }
   ],
   "source": [
    "tfidf_pred = predict_class(topic_tfidf['X_test'], w_tfidf)\n",
    "tfidf_metrics = evaluation_metrics(topic_tfidf['y_test'], tfidf_pred, average='macro')\n",
    "\n",
    "results['tfidf'] = tfidf_metrics\n",
    "results.round(3)"
   ]
  },
  {
   "cell_type": "code",
   "execution_count": 86,
   "metadata": {},
   "outputs": [
    {
     "data": {
      "text/html": [
       "<div>\n",
       "<style scoped>\n",
       "    .dataframe tbody tr th:only-of-type {\n",
       "        vertical-align: middle;\n",
       "    }\n",
       "\n",
       "    .dataframe tbody tr th {\n",
       "        vertical-align: top;\n",
       "    }\n",
       "\n",
       "    .dataframe thead tr th {\n",
       "        text-align: left;\n",
       "    }\n",
       "</style>\n",
       "<table border=\"1\" class=\"dataframe\">\n",
       "  <thead>\n",
       "    <tr>\n",
       "      <th></th>\n",
       "      <th colspan=\"3\" halign=\"left\">count</th>\n",
       "      <th colspan=\"3\" halign=\"left\">tfidf</th>\n",
       "    </tr>\n",
       "    <tr>\n",
       "      <th></th>\n",
       "      <th>World</th>\n",
       "      <th>Sports</th>\n",
       "      <th>Business</th>\n",
       "      <th>World</th>\n",
       "      <th>Sports</th>\n",
       "      <th>Business</th>\n",
       "    </tr>\n",
       "  </thead>\n",
       "  <tbody>\n",
       "    <tr>\n",
       "      <th>Top 1</th>\n",
       "      <td>tuesday</td>\n",
       "      <td>athens</td>\n",
       "      <td>reuters</td>\n",
       "      <td>tuesday</td>\n",
       "      <td>athens</td>\n",
       "      <td>oil</td>\n",
       "    </tr>\n",
       "    <tr>\n",
       "      <th>Top 2</th>\n",
       "      <td>said</td>\n",
       "      <td>tuesday</td>\n",
       "      <td>said</td>\n",
       "      <td>greece</td>\n",
       "      <td>ap</td>\n",
       "      <td>prices</td>\n",
       "    </tr>\n",
       "    <tr>\n",
       "      <th>Top 3</th>\n",
       "      <td>reuters</td>\n",
       "      <td>ap</td>\n",
       "      <td>tuesday</td>\n",
       "      <td>said</td>\n",
       "      <td>olympic</td>\n",
       "      <td>new</td>\n",
       "    </tr>\n",
       "    <tr>\n",
       "      <th>Top 4</th>\n",
       "      <td>new</td>\n",
       "      <td>after</td>\n",
       "      <td>new</td>\n",
       "      <td>(athens, greece)</td>\n",
       "      <td>team</td>\n",
       "      <td>company</td>\n",
       "    </tr>\n",
       "    <tr>\n",
       "      <th>Top 5</th>\n",
       "      <td>athens</td>\n",
       "      <td>reuters</td>\n",
       "      <td>oil</td>\n",
       "      <td>oil</td>\n",
       "      <td>greece</td>\n",
       "      <td>said</td>\n",
       "    </tr>\n",
       "    <tr>\n",
       "      <th>Top 6</th>\n",
       "      <td>after</td>\n",
       "      <td>olympic</td>\n",
       "      <td>after</td>\n",
       "      <td>afp</td>\n",
       "      <td>olympics</td>\n",
       "      <td>reuters</td>\n",
       "    </tr>\n",
       "    <tr>\n",
       "      <th>Top 7</th>\n",
       "      <td>ap</td>\n",
       "      <td>new</td>\n",
       "      <td>prices</td>\n",
       "      <td>athens</td>\n",
       "      <td>after</td>\n",
       "      <td>us</td>\n",
       "    </tr>\n",
       "    <tr>\n",
       "      <th>Top 8</th>\n",
       "      <td>oil</td>\n",
       "      <td>team</td>\n",
       "      <td>us</td>\n",
       "      <td>ap</td>\n",
       "      <td>two</td>\n",
       "      <td>but</td>\n",
       "    </tr>\n",
       "    <tr>\n",
       "      <th>Top 9</th>\n",
       "      <td>greece</td>\n",
       "      <td>first</td>\n",
       "      <td>but</td>\n",
       "      <td>olympic</td>\n",
       "      <td>night</td>\n",
       "      <td>google</td>\n",
       "    </tr>\n",
       "    <tr>\n",
       "      <th>Top 10</th>\n",
       "      <td>monday</td>\n",
       "      <td>wednesday</td>\n",
       "      <td>wednesday</td>\n",
       "      <td>after</td>\n",
       "      <td>first</td>\n",
       "      <td>(oil, prices)</td>\n",
       "    </tr>\n",
       "  </tbody>\n",
       "</table>\n",
       "</div>"
      ],
      "text/plain": [
       "          count                                   tfidf            \\\n",
       "          World     Sports   Business             World    Sports   \n",
       "Top 1   tuesday     athens    reuters           tuesday    athens   \n",
       "Top 2      said    tuesday       said            greece        ap   \n",
       "Top 3   reuters         ap    tuesday              said   olympic   \n",
       "Top 4       new      after        new  (athens, greece)      team   \n",
       "Top 5    athens    reuters        oil               oil    greece   \n",
       "Top 6     after    olympic      after               afp  olympics   \n",
       "Top 7        ap        new     prices            athens     after   \n",
       "Top 8       oil       team         us                ap       two   \n",
       "Top 9    greece      first        but           olympic     night   \n",
       "Top 10   monday  wednesday  wednesday             after     first   \n",
       "\n",
       "                       \n",
       "             Business  \n",
       "Top 1             oil  \n",
       "Top 2          prices  \n",
       "Top 3             new  \n",
       "Top 4         company  \n",
       "Top 5            said  \n",
       "Top 6         reuters  \n",
       "Top 7              us  \n",
       "Top 8             but  \n",
       "Top 9          google  \n",
       "Top 10  (oil, prices)  "
      ]
     },
     "execution_count": 86,
     "metadata": {},
     "output_type": "execute_result"
    }
   ],
   "source": [
    "top10_tfidf = top_words(w_tfidf, topic_tfidf['vocab'])\n",
    "top_words_df = top_words_df.join(pd.DataFrame(data=top10_tfidf, index=['Top ' + str(i) for i in range(1, 11)],\n",
    "                                 columns=pd.MultiIndex.from_product([['tfidf'], classes])))\n",
    "top_words_df"
   ]
  },
  {
   "cell_type": "markdown",
   "metadata": {},
   "source": [
    "**Although *Tuesday* stayed on the top of world category, it has been entirely removed from top 10 of other categories showing that it might still be a vital sign that the topic is related to the world new but not so relevant for other classes. *Reuters* also entirely went out of the picture thanks to tfidf. Nevertheless, again, tfidf has even more domain-specific terms in top 10 and so would not generalize well to other topics at all. If as an example we would add a scientific news class more appropriate terms could be *discovery*, *publication*, *launch*, etc.**"
   ]
  },
  {
   "cell_type": "markdown",
   "metadata": {},
   "source": [
    "### Discuss how did you choose model hyperparameters (e.g. learning rate and regularisation strength)? What is the relation between training epochs and learning rate? How the regularisation strength affects performance?"
   ]
  },
  {
   "cell_type": "markdown",
   "metadata": {},
   "source": [
    "**Same optimization approach was used as for the previous task with similar parameter range for consistency**"
   ]
  },
  {
   "cell_type": "code",
   "execution_count": 87,
   "metadata": {},
   "outputs": [],
   "source": [
    "# Values used in the report:\n",
    "\"\"\"\n",
    "lr_range = np.logspace(-4, -1.5, 10)\n",
    "epoch_range = np.arange(100, 251, 50)\n",
    "alpha_range = np.logspace(-4, -2, 10)\n",
    "\"\"\"\n",
    "\n",
    "# Values used for marking:\n",
    "lr_range = np.array([0.0001, 0.01, 0.02])\n",
    "epoch_range = np.array([100])\n",
    "alpha_range = np.array([0.0001, 0.001, 0.01])"
   ]
  },
  {
   "cell_type": "markdown",
   "metadata": {},
   "source": [
    "### Optimizing for count data:"
   ]
  },
  {
   "cell_type": "code",
   "execution_count": 88,
   "metadata": {},
   "outputs": [
    {
     "name": "stdout",
     "output_type": "stream",
     "text": [
      "Finding optimal epoch and learning rate\n",
      "Best lr and epoch results, according to dev loss, for the development set:\n",
      "     lr  epochs  dev_loss  accuracy  precision  recall       F1\n",
      "1  0.01   100.0  0.350542       0.9   0.908373     0.9  0.90121\n",
      "\n",
      "\n",
      "Finding optimal alpha with best epochs and learning rate\n",
      "Best alpha results, according to F1 score and dev loss for the development set:\n",
      "   alpha  dev_loss  accuracy  precision  recall       F1\n",
      "1  0.001  0.341097       0.9   0.908373     0.9  0.90121\n"
     ]
    },
    {
     "data": {
      "image/png": "[encoded data removed]",
      "text/plain": [
       "<Figure size 1152x432 with 2 Axes>"
      ]
     },
     "metadata": {
      "needs_background": "light"
     },
     "output_type": "display_data"
    }
   ],
   "source": [
    "lr_epoch_count, alpha_count = optimize(topic_count, lr_range, epoch_range, alpha_range, loss='categorical', num_classes=3, metric_average='macro')"
   ]
  },
  {
   "cell_type": "code",
   "execution_count": 89,
   "metadata": {},
   "outputs": [
    {
     "data": {
      "text/html": [
       "<div>\n",
       "<style scoped>\n",
       "    .dataframe tbody tr th:only-of-type {\n",
       "        vertical-align: middle;\n",
       "    }\n",
       "\n",
       "    .dataframe tbody tr th {\n",
       "        vertical-align: top;\n",
       "    }\n",
       "\n",
       "    .dataframe thead th {\n",
       "        text-align: right;\n",
       "    }\n",
       "</style>\n",
       "<table border=\"1\" class=\"dataframe\">\n",
       "  <thead>\n",
       "    <tr style=\"text-align: right;\">\n",
       "      <th></th>\n",
       "      <th>lr</th>\n",
       "      <th>epochs</th>\n",
       "      <th>dev_loss</th>\n",
       "      <th>accuracy</th>\n",
       "      <th>precision</th>\n",
       "      <th>recall</th>\n",
       "      <th>F1</th>\n",
       "    </tr>\n",
       "  </thead>\n",
       "  <tbody>\n",
       "    <tr>\n",
       "      <th>1</th>\n",
       "      <td>0.0100</td>\n",
       "      <td>100.0</td>\n",
       "      <td>0.350542</td>\n",
       "      <td>0.900000</td>\n",
       "      <td>0.908373</td>\n",
       "      <td>0.900000</td>\n",
       "      <td>0.901210</td>\n",
       "    </tr>\n",
       "    <tr>\n",
       "      <th>2</th>\n",
       "      <td>0.0200</td>\n",
       "      <td>100.0</td>\n",
       "      <td>0.396481</td>\n",
       "      <td>0.893333</td>\n",
       "      <td>0.906717</td>\n",
       "      <td>0.893333</td>\n",
       "      <td>0.894919</td>\n",
       "    </tr>\n",
       "    <tr>\n",
       "      <th>0</th>\n",
       "      <td>0.0001</td>\n",
       "      <td>100.0</td>\n",
       "      <td>0.684220</td>\n",
       "      <td>0.866667</td>\n",
       "      <td>0.877756</td>\n",
       "      <td>0.866667</td>\n",
       "      <td>0.868179</td>\n",
       "    </tr>\n",
       "  </tbody>\n",
       "</table>\n",
       "</div>"
      ],
      "text/plain": [
       "       lr  epochs  dev_loss  accuracy  precision    recall        F1\n",
       "1  0.0100   100.0  0.350542  0.900000   0.908373  0.900000  0.901210\n",
       "2  0.0200   100.0  0.396481  0.893333   0.906717  0.893333  0.894919\n",
       "0  0.0001   100.0  0.684220  0.866667   0.877756  0.866667  0.868179"
      ]
     },
     "execution_count": 89,
     "metadata": {},
     "output_type": "execute_result"
    }
   ],
   "source": [
    "lr_epoch_count.head()"
   ]
  },
  {
   "cell_type": "code",
   "execution_count": 90,
   "metadata": {},
   "outputs": [
    {
     "data": {
      "text/html": [
       "<div>\n",
       "<style scoped>\n",
       "    .dataframe tbody tr th:only-of-type {\n",
       "        vertical-align: middle;\n",
       "    }\n",
       "\n",
       "    .dataframe tbody tr th {\n",
       "        vertical-align: top;\n",
       "    }\n",
       "\n",
       "    .dataframe thead th {\n",
       "        text-align: right;\n",
       "    }\n",
       "</style>\n",
       "<table border=\"1\" class=\"dataframe\">\n",
       "  <thead>\n",
       "    <tr style=\"text-align: right;\">\n",
       "      <th></th>\n",
       "      <th>alpha</th>\n",
       "      <th>dev_loss</th>\n",
       "      <th>accuracy</th>\n",
       "      <th>precision</th>\n",
       "      <th>recall</th>\n",
       "      <th>F1</th>\n",
       "    </tr>\n",
       "  </thead>\n",
       "  <tbody>\n",
       "    <tr>\n",
       "      <th>1</th>\n",
       "      <td>0.0010</td>\n",
       "      <td>0.341097</td>\n",
       "      <td>0.9</td>\n",
       "      <td>0.908373</td>\n",
       "      <td>0.9</td>\n",
       "      <td>0.901210</td>\n",
       "    </tr>\n",
       "    <tr>\n",
       "      <th>0</th>\n",
       "      <td>0.0001</td>\n",
       "      <td>0.348110</td>\n",
       "      <td>0.9</td>\n",
       "      <td>0.908373</td>\n",
       "      <td>0.9</td>\n",
       "      <td>0.901210</td>\n",
       "    </tr>\n",
       "    <tr>\n",
       "      <th>2</th>\n",
       "      <td>0.0100</td>\n",
       "      <td>0.416761</td>\n",
       "      <td>0.9</td>\n",
       "      <td>0.907689</td>\n",
       "      <td>0.9</td>\n",
       "      <td>0.901333</td>\n",
       "    </tr>\n",
       "  </tbody>\n",
       "</table>\n",
       "</div>"
      ],
      "text/plain": [
       "    alpha  dev_loss  accuracy  precision  recall        F1\n",
       "1  0.0010  0.341097       0.9   0.908373     0.9  0.901210\n",
       "0  0.0001  0.348110       0.9   0.908373     0.9  0.901210\n",
       "2  0.0100  0.416761       0.9   0.907689     0.9  0.901333"
      ]
     },
     "execution_count": 90,
     "metadata": {},
     "output_type": "execute_result"
    }
   ],
   "source": [
    "alpha_count.head()"
   ]
  },
  {
   "cell_type": "markdown",
   "metadata": {},
   "source": [
    "### Optimizing for tfidf data:"
   ]
  },
  {
   "cell_type": "code",
   "execution_count": 91,
   "metadata": {},
   "outputs": [
    {
     "name": "stdout",
     "output_type": "stream",
     "text": [
      "Finding optimal epoch and learning rate\n",
      "Best lr and epoch results, according to dev loss, for the development set:\n",
      "     lr  epochs  dev_loss  accuracy  precision    recall        F1\n",
      "1  0.01   100.0  0.298644  0.906667   0.916114  0.906667  0.907979\n",
      "\n",
      "\n",
      "Finding optimal alpha with best epochs and learning rate\n",
      "Best alpha results, according to F1 score and dev loss for the development set:\n",
      "   alpha  dev_loss  accuracy  precision    recall        F1\n",
      "1  0.001  0.294572  0.906667   0.916114  0.906667  0.907979\n"
     ]
    },
    {
     "data": {
      "image/png": "[encoded data removed]",
      "text/plain": [
       "<Figure size 1152x432 with 2 Axes>"
      ]
     },
     "metadata": {
      "needs_background": "light"
     },
     "output_type": "display_data"
    }
   ],
   "source": [
    "lr_epoch_tfidf, alpha_tfidf = optimize(topic_tfidf, lr_range, epoch_range, alpha_range, loss='categorical', num_classes=3, metric_average='macro')"
   ]
  },
  {
   "cell_type": "code",
   "execution_count": 92,
   "metadata": {},
   "outputs": [
    {
     "data": {
      "text/html": [
       "<div>\n",
       "<style scoped>\n",
       "    .dataframe tbody tr th:only-of-type {\n",
       "        vertical-align: middle;\n",
       "    }\n",
       "\n",
       "    .dataframe tbody tr th {\n",
       "        vertical-align: top;\n",
       "    }\n",
       "\n",
       "    .dataframe thead th {\n",
       "        text-align: right;\n",
       "    }\n",
       "</style>\n",
       "<table border=\"1\" class=\"dataframe\">\n",
       "  <thead>\n",
       "    <tr style=\"text-align: right;\">\n",
       "      <th></th>\n",
       "      <th>lr</th>\n",
       "      <th>epochs</th>\n",
       "      <th>dev_loss</th>\n",
       "      <th>accuracy</th>\n",
       "      <th>precision</th>\n",
       "      <th>recall</th>\n",
       "      <th>F1</th>\n",
       "    </tr>\n",
       "  </thead>\n",
       "  <tbody>\n",
       "    <tr>\n",
       "      <th>1</th>\n",
       "      <td>0.0100</td>\n",
       "      <td>100.0</td>\n",
       "      <td>0.298644</td>\n",
       "      <td>0.906667</td>\n",
       "      <td>0.916114</td>\n",
       "      <td>0.906667</td>\n",
       "      <td>0.907979</td>\n",
       "    </tr>\n",
       "    <tr>\n",
       "      <th>2</th>\n",
       "      <td>0.0200</td>\n",
       "      <td>100.0</td>\n",
       "      <td>0.362898</td>\n",
       "      <td>0.893333</td>\n",
       "      <td>0.910422</td>\n",
       "      <td>0.893333</td>\n",
       "      <td>0.895049</td>\n",
       "    </tr>\n",
       "    <tr>\n",
       "      <th>0</th>\n",
       "      <td>0.0001</td>\n",
       "      <td>100.0</td>\n",
       "      <td>0.487484</td>\n",
       "      <td>0.946667</td>\n",
       "      <td>0.946667</td>\n",
       "      <td>0.946667</td>\n",
       "      <td>0.946667</td>\n",
       "    </tr>\n",
       "  </tbody>\n",
       "</table>\n",
       "</div>"
      ],
      "text/plain": [
       "       lr  epochs  dev_loss  accuracy  precision    recall        F1\n",
       "1  0.0100   100.0  0.298644  0.906667   0.916114  0.906667  0.907979\n",
       "2  0.0200   100.0  0.362898  0.893333   0.910422  0.893333  0.895049\n",
       "0  0.0001   100.0  0.487484  0.946667   0.946667  0.946667  0.946667"
      ]
     },
     "execution_count": 92,
     "metadata": {},
     "output_type": "execute_result"
    }
   ],
   "source": [
    "lr_epoch_tfidf.head()"
   ]
  },
  {
   "cell_type": "code",
   "execution_count": 93,
   "metadata": {},
   "outputs": [
    {
     "data": {
      "text/html": [
       "<div>\n",
       "<style scoped>\n",
       "    .dataframe tbody tr th:only-of-type {\n",
       "        vertical-align: middle;\n",
       "    }\n",
       "\n",
       "    .dataframe tbody tr th {\n",
       "        vertical-align: top;\n",
       "    }\n",
       "\n",
       "    .dataframe thead th {\n",
       "        text-align: right;\n",
       "    }\n",
       "</style>\n",
       "<table border=\"1\" class=\"dataframe\">\n",
       "  <thead>\n",
       "    <tr style=\"text-align: right;\">\n",
       "      <th></th>\n",
       "      <th>alpha</th>\n",
       "      <th>dev_loss</th>\n",
       "      <th>accuracy</th>\n",
       "      <th>precision</th>\n",
       "      <th>recall</th>\n",
       "      <th>F1</th>\n",
       "    </tr>\n",
       "  </thead>\n",
       "  <tbody>\n",
       "    <tr>\n",
       "      <th>1</th>\n",
       "      <td>0.0010</td>\n",
       "      <td>0.294572</td>\n",
       "      <td>0.906667</td>\n",
       "      <td>0.916114</td>\n",
       "      <td>0.906667</td>\n",
       "      <td>0.907979</td>\n",
       "    </tr>\n",
       "    <tr>\n",
       "      <th>0</th>\n",
       "      <td>0.0001</td>\n",
       "      <td>0.297450</td>\n",
       "      <td>0.906667</td>\n",
       "      <td>0.916114</td>\n",
       "      <td>0.906667</td>\n",
       "      <td>0.907979</td>\n",
       "    </tr>\n",
       "    <tr>\n",
       "      <th>2</th>\n",
       "      <td>0.0100</td>\n",
       "      <td>0.322378</td>\n",
       "      <td>0.940000</td>\n",
       "      <td>0.942130</td>\n",
       "      <td>0.940000</td>\n",
       "      <td>0.940345</td>\n",
       "    </tr>\n",
       "  </tbody>\n",
       "</table>\n",
       "</div>"
      ],
      "text/plain": [
       "    alpha  dev_loss  accuracy  precision    recall        F1\n",
       "1  0.0010  0.294572  0.906667   0.916114  0.906667  0.907979\n",
       "0  0.0001  0.297450  0.906667   0.916114  0.906667  0.907979\n",
       "2  0.0100  0.322378  0.940000   0.942130  0.940000  0.940345"
      ]
     },
     "execution_count": 93,
     "metadata": {},
     "output_type": "execute_result"
    }
   ],
   "source": [
    "alpha_tfidf.head()"
   ]
  },
  {
   "cell_type": "markdown",
   "metadata": {},
   "source": [
    "### Relation between learning rate and epochs:"
   ]
  },
  {
   "cell_type": "markdown",
   "metadata": {},
   "source": [
    "**The graph for this task looks completely different, which is likely due to inappropriate selection of search space for the parameters. Although likely, the search has not converged on the optimal solution; it is appropriate to assume increasing learning rate any further would soon result in a gradual reduction in performance, eventually forming similar graph as in the previous task. This time the peak performance has been obtained at a smaller epoch number with a relatively large learning rate.**"
   ]
  },
  {
   "cell_type": "markdown",
   "metadata": {},
   "source": [
    "### Effectiveness of regularization:"
   ]
  },
  {
   "cell_type": "markdown",
   "metadata": {},
   "source": [
    "**As graphs display, there is almost no benefit of regularization in this task even when a tiny alpha is chosen. The top few results from the tables further demonstrate this with metrics staying identical throughout. There is a hint of a small dip for the count data; however, it is on such a small scale that it is hard to judge its impact. It has been observed that slightly increasing regularization improved the metrics for the final test results, but at that point, it could be considered as overfitting for the test data. Thus regularization was parameter set to 0 for this task.**"
   ]
  }
 ],
 "metadata": {
  "kernelspec": {
   "display_name": "Python 3",
   "language": "python",
   "name": "python3"
  },
  "language_info": {
   "codemirror_mode": {
    "name": "ipython",
    "version": 3
   },
   "file_extension": ".py",
   "mimetype": "text/x-python",
   "name": "python",
   "nbconvert_exporter": "python",
   "pygments_lexer": "ipython3",
   "version": "3.7.6"
  }
 },
 "nbformat": 4,
 "nbformat_minor": 2
}
