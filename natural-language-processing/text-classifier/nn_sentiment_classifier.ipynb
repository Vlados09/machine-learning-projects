{
 "cells": [
  {
   "cell_type": "markdown",
   "metadata": {},
   "source": [
    "# [COM4513-6513] Assignment 2: Text Classification with a Feedforward Network\n",
    "\n",
    "\n",
    "### Instructor: Nikos Aletras\n",
    "\n",
    "\n",
    "The goal of this assignment is to develop a Feedforward network for text classification. \n",
    "\n",
    "\n",
    "\n",
    "For that purpose, you will implement:\n",
    "\n",
    "- Text processing methods for transforming raw text data into input vectors for your network  (**1 mark**)\n",
    "- A Feedforward network consisting of:\n",
    "    - **One-hot** input layer mapping words into an **Embedding weight matrix** (**1 mark**)\n",
    "    - **One hidden layer** computing the mean embedding vector of all words in input followed by a **ReLU activation function** (**1 mark**)\n",
    "    - **Output layer** with a **softmax** activation. (**1 mark**)\n",
    "- The Stochastic Gradient Descent (SGD) algorithm with **back-propagation** to learn the weights of your Neural network. Your algorithm should:\n",
    "    - Use (and minimise) the **Categorical Cross-entropy loss** function (**1 mark**)\n",
    "    - Perform a **Forward pass** to compute intermediate outputs (**4 marks**)\n",
    "    - Perform a **Backward pass** to compute gradients and update all sets of weights (**4 marks**)\n",
    "    - Implement and use **Dropout** after each hidden layer for regularisation (**2 marks**)\n",
    "- Discuss how did you choose hyperparameters? You can tune the learning rate (hint: choose small values), embedding size {e.g. 50, 300, 500}, the dropout rate {e.g. 0.2, 0.5} and the learning rate. Please use tables or graphs to show training and validation performance for each hyperparam combination  (**2 marks**). \n",
    "- After training the model, plot the learning process (i.e. training and validation loss in each epoch) using a line plot and report accuracy.\n",
    "- Re-train your network by using pre-trained embeddings ([GloVe](https://nlp.stanford.edu/projects/glove/)) trained on large corpora. Instead of randomly initialising the embedding weights matrix, you should initialise it with the pre-trained weights. During training, you should not update them (i.e. weight freezing) and backprop should stop before computing gradients for updating embedding weights. Report results by performing hyperparameter tuning and plotting the learning process. Do you get better performance? (**3 marks**).\n",
    "\n",
    "- **BONUS:** Extend you Feedforward network by adding more hidden layers (e.g. one more). How does it affect the performance? Note: You need to repeat hyperparameter tuning, but the number of combinations grows exponentially. Therefore, you need to choose a subset of all possible combinations (**+2 extra marks**)\n",
    "\n",
    "\n",
    "\n",
    "### Data \n",
    "\n",
    "The data you will use for Task 2 is a subset of the [AG News Corpus](http://groups.di.unipi.it/~gulli/AG_corpus_of_news_articles.html) and you can find it in the `./data_topic` folder in CSV format:\n",
    "\n",
    "- `data_topic/train.csv`: contains 2,400 news articles, 800 for each class to be used for training.\n",
    "- `data_topic/dev.csv`: contains 150 news articles, 50 for each class to be used for hyperparameter selection and monitoring the training process.\n",
    "- `data_topic/test.csv`: contains 900 news articles, 300 for each class to be used for testing.\n",
    "\n",
    "### Pre-trained Embeddings\n",
    "\n",
    "You can download pre-trained GloVe embeddings trained on Common Crawl (840B tokens, 2.2M vocab, cased, 300d vectors, 2.03 GB download) from [here](http://nlp.stanford.edu/data/glove.840B.300d.zip). No need to unzip, the file is large.\n",
    "\n",
    "### Save Memory\n",
    "\n",
    "To save RAM, when you finish each experiment you can delete the weights of your network using `del W` followed by Python's garbage collector `gc.collect()`\n",
    "\n",
    "\n",
    "\n",
    "\n",
    "### Submission Instructions\n",
    "\n",
    "You should submit a Jupyter Notebook file (assignment2.ipynb) and an exported PDF version (you can do it from Jupyter: `File->Download as->PDF via Latex`).\n",
    "\n",
    "You are advised to follow the code structure given in this notebook by completing all given funtions. You can also write any auxilliary/helper functions (and arguments for the functions) that you might need but note that you can provide a full solution without any such functions. Similarly, you can just use only the packages imported below but you are free to use any functionality from the [Python Standard Library](https://docs.python.org/2/library/index.html), NumPy, SciPy and Pandas. You are not allowed to use any third-party library such as Scikit-learn (apart from metric functions already provided), NLTK, Spacy, Keras etc.. You are allowed to re-use your code from Assignment 1.\n",
    "\n",
    "Please make sure to comment your code. You should also mention if you've used Windows to write and test your code. There is no single correct answer on what your accuracy should be, but correct implementations usually achieve F1 of ~75-80% and ~85% without and with using pre-trained embeddings respectively. \n",
    "\n",
    "This assignment will be marked out of 20. It is worth 20\\% of your final grade in the module. If you implement the bonus question you can get up to 2 extra points but your final grade will be capped at 20.\n",
    "\n",
    "The deadline for this assignment is **23:59 on Mon, 18 May 2020** and it needs to be submitted via Blackboard (MOLE). Standard departmental penalties for lateness will be applied. We use a range of strategies to detect [unfair means](https://www.sheffield.ac.uk/ssid/unfair-means/index), including Turnitin which helps detect plagiarism, so make sure you do not plagiarise.\n",
    "\n"
   ]
  },
  {
   "cell_type": "code",
   "execution_count": 1,
   "metadata": {
    "ExecuteTime": {
     "end_time": "2020-04-02T15:00:18.625532Z",
     "start_time": "2020-04-02T15:00:17.377733Z"
    }
   },
   "outputs": [],
   "source": [
    "import pandas as pd\n",
    "import numpy as np\n",
    "from collections import Counter\n",
    "from functools import partial\n",
    "import re\n",
    "import matplotlib.pyplot as plt\n",
    "from sklearn.metrics import accuracy_score, precision_score, recall_score, f1_score\n",
    "import random\n",
    "from time import localtime, strftime\n",
    "from scipy.stats import spearmanr,pearsonr\n",
    "import zipfile\n",
    "import gc\n",
    "\n",
    "# fixing random seed for reproducibility\n",
    "random.seed(123)\n",
    "np.random.seed(123)"
   ]
  },
  {
   "cell_type": "markdown",
   "metadata": {},
   "source": [
    "## Transform Raw texts into training and development data\n",
    "\n",
    "First, you need to load the training, development and test sets from their corresponding CSV files (tip: you can use Pandas dataframes)."
   ]
  },
  {
   "cell_type": "code",
   "execution_count": 2,
   "metadata": {
    "ExecuteTime": {
     "end_time": "2020-04-02T14:26:39.748484Z",
     "start_time": "2020-04-02T14:26:39.727404Z"
    }
   },
   "outputs": [],
   "source": [
    "def load_data(folder='topic'):\n",
    "    \"\"\"\n",
    "        Load data from the folder and stor it in the dictionary\n",
    "        \n",
    "        Parameters\n",
    "        ----------\n",
    "        \n",
    "        folder: {data_topic}\n",
    "            name of the folder to extract the data from. (default is to get topic data)\n",
    "    \n",
    "    \"\"\"\n",
    "    names = ['text', 'label']\n",
    "    if folder=='topic':\n",
    "        names = names[::-1]\n",
    "    all_data = {}\n",
    "    for file in ['train', 'dev', 'test']:\n",
    "        all_data[file] = pd.read_csv(f'data_{folder}/{file}.csv', names=names)\n",
    "    return all_data\n",
    "\n",
    "def get_raw_data(data_files):\n",
    "    \"\"\"\n",
    "        Converts pandas data to lists\n",
    "        \n",
    "        Parameters\n",
    "        ----------\n",
    "        data_files: dict\n",
    "            Dictionary containing pandas dataframes read from the data files\n",
    "    \"\"\"\n",
    "    raw_data = {}\n",
    "    for key, value in data_files.items():\n",
    "        raw_data[f'X_{key}'] = value.text.values.tolist()\n",
    "        raw_data[f'y_{key}'] = value.label.values\n",
    "    return raw_data"
   ]
  },
  {
   "cell_type": "code",
   "execution_count": 3,
   "metadata": {},
   "outputs": [],
   "source": [
    "raw_data = get_raw_data(load_data())"
   ]
  },
  {
   "cell_type": "markdown",
   "metadata": {},
   "source": [
    "# Create input representations\n",
    "\n",
    "\n",
    "To train your Feedforward network, you first need to obtain input representations given a vocabulary. One-hot encoding requires large memory capacity. Therefore, we will instead represent documents as lists of vocabulary indices (each word corresponds to a vocabulary index). \n",
    "\n",
    "\n",
    "## Text Pre-Processing Pipeline\n",
    "\n",
    "To obtain a vocabulary of words. You should: \n",
    "- tokenise all texts into a list of unigrams (tip: you can re-use the functions from Assignment 1) \n",
    "- remove stop words (using the one provided or one of your preference) \n",
    "- remove unigrams appearing in less than K documents\n",
    "- use the remaining to create a vocabulary of the top-N most frequent unigrams in the entire corpus.\n"
   ]
  },
  {
   "cell_type": "code",
   "execution_count": 4,
   "metadata": {
    "ExecuteTime": {
     "end_time": "2020-04-02T14:26:40.851926Z",
     "start_time": "2020-04-02T14:26:40.847500Z"
    }
   },
   "outputs": [],
   "source": [
    "stop_words = ['a','in','on','at','and','or', \n",
    "              'to', 'the', 'of', 'an', 'by', \n",
    "              'as', 'is', 'was', 'were', 'been', 'be', \n",
    "              'are','for', 'this', 'that', 'these', 'those', 'you', 'i', 'if',\n",
    "             'it', 'he', 'she', 'we', 'they', 'will', 'have', 'has',\n",
    "              'do', 'did', 'can', 'could', 'who', 'which', 'what',\n",
    "              'but', 'not', 'there', 'no', 'does', 'not', 'so', 've', 'their',\n",
    "             'his', 'her', 'they', 'them', 'from', 'with', 'its']"
   ]
  },
  {
   "cell_type": "markdown",
   "metadata": {},
   "source": [
    "### Unigram extraction from a document\n",
    "\n",
    "You first need to implement the `extract_ngrams` function. It takes as input:\n",
    "- `x_raw`: a string corresponding to the raw text of a document\n",
    "- `ngram_range`: a tuple of two integers denoting the type of ngrams you want to extract, e.g. (1,2) denotes extracting unigrams and bigrams.\n",
    "- `token_pattern`: a string to be used within a regular expression to extract all tokens. Note that data is already tokenised so you could opt for a simple white space tokenisation.\n",
    "- `stop_words`: a list of stop words\n",
    "- `vocab`: a given vocabulary. It should be used to extract specific features.\n",
    "\n",
    "and returns:\n",
    "\n",
    "- a list of all extracted features.\n"
   ]
  },
  {
   "cell_type": "code",
   "execution_count": 5,
   "metadata": {
    "ExecuteTime": {
     "end_time": "2020-04-02T14:26:41.505459Z",
     "start_time": "2020-04-02T14:26:41.498388Z"
    }
   },
   "outputs": [],
   "source": [
    "def extract_ngrams(x_raw, ngram_range=(1,3), token_pattern=r'\\b[A-Za-z][A-Za-z]+\\b', stop_words=set(), vocab=set()):\n",
    "    \"\"\"\n",
    "        Extracts ngram representation of the text data from a string\n",
    "        \n",
    "        Parameters\n",
    "        ----------\n",
    "        x_raw: str\n",
    "            String representign a single text file\n",
    "            \n",
    "        ngram_range: tuple, optional\n",
    "            range for ngrams to return (default is (1, 3) means unigrams, bigrams and trigrams will be returned)\n",
    "            \n",
    "        token_pattern: str, optional\n",
    "            a partern for regex to split the string into tokens\n",
    "        \n",
    "        stop_words: set, optional\n",
    "            tokens to get rid of (default is empty meaning all tokens will be kept)\n",
    "            \n",
    "        vocab: set, optional\n",
    "            a set of ngrams that should be kept (default is empty returning all ngrams)\n",
    "    \"\"\"\n",
    "    \n",
    "    # Tokenise the text\n",
    "    tokens = re.findall(token_pattern, x_raw.lower()) # lowercase to reducde number of unique tokens\n",
    "    \n",
    "    # Remove the stop words\n",
    "    no_stop = [word for word in tokens if word not in stop_words]\n",
    "    \n",
    "    # Create ngrams\n",
    "    if ngram_range[0] == 1:\n",
    "        ngram_range = (ngram_range[0]+1, ngram_range[1])\n",
    "        ngrams = no_stop.copy()\n",
    "    else:\n",
    "        ngrams = []\n",
    "        \n",
    "    for n in range(ngram_range[0], ngram_range[1]+1):\n",
    "        ngrams += zip(*[no_stop[i:] for i in range(n)])\n",
    "    \n",
    "    # Keep only ngrams that are in vocab:\n",
    "    if vocab:\n",
    "        ngrams = [ngram for ngram in ngrams if ngram in vocab]\n",
    "        \n",
    "    return ngrams"
   ]
  },
  {
   "cell_type": "markdown",
   "metadata": {},
   "source": [
    "### Create a vocabulary of n-grams\n",
    "\n",
    "Then the `get_vocab` function will be used to (1) create a vocabulary of ngrams; (2) count the document frequencies of ngrams; (3) their raw frequency. It takes as input:\n",
    "- `X_raw`: a list of strings each corresponding to the raw text of a document\n",
    "- `ngram_range`: a tuple of two integers denoting the type of ngrams you want to extract, e.g. (1,2) denotes extracting unigrams and bigrams.\n",
    "- `token_pattern`: a string to be used within a regular expression to extract all tokens. Note that data is already tokenised so you could opt for a simple white space tokenisation.\n",
    "- `stop_words`: a list of stop words\n",
    "- `min_df`: keep ngrams with a minimum document frequency.\n",
    "- `keep_topN`: keep top-N more frequent ngrams.\n",
    "\n",
    "and returns:\n",
    "\n",
    "- `vocab`: a set of the n-grams that will be used as features.\n",
    "- `df`: a Counter (or dict) that contains ngrams as keys and their corresponding document frequency as values.\n",
    "- `ngram_counts`: counts of each ngram in vocab\n"
   ]
  },
  {
   "cell_type": "code",
   "execution_count": 6,
   "metadata": {
    "ExecuteTime": {
     "end_time": "2020-04-02T14:26:42.563876Z",
     "start_time": "2020-04-02T14:26:42.557967Z"
    }
   },
   "outputs": [],
   "source": [
    "def get_vocab(X_raw, ngram_range=(1,3), token_pattern=r'\\b[A-Za-z][A-Za-z]+\\b', \n",
    "              min_df=0, keep_topN=0, stop_words=set()):\n",
    "    \n",
    "    \"\"\"\n",
    "        Extracts the full vocabluary of ngrams from a list of strings (texts)\n",
    "        \n",
    "        Parameters\n",
    "        ----------\n",
    "        X_raw: list[dtype=str]\n",
    "            String to extrac the vocabluary from\n",
    "            \n",
    "        ngram_range: tuple, optional\n",
    "            range for ngrams to return (default is (1, 3) means unigrams, bigrams and trigrams will be returned)\n",
    "            \n",
    "        token_pattern: str, optional\n",
    "            a partern for regex to split the string into tokens\n",
    "        \n",
    "        stop_words: set, optional\n",
    "            tokens to get rid of (default is empty meaning all tokens will be kept)\n",
    "            \n",
    "        min_df: int, optional\n",
    "            minimum document frequency to keep the ngram in the vocabluary (default is 0 to keep all ngrams)\n",
    "            \n",
    "        keep_topN: int, optinal\n",
    "            keep only top number of occuring ngrams (default is 0 to keep all ngrams)\n",
    "    \"\"\"\n",
    "    \n",
    "    df = Counter() \n",
    "    ngram_counts = Counter()\n",
    "    \n",
    "    # Extract the full vocabluary:\n",
    "    for x in X_raw:\n",
    "        ngrams = extract_ngrams(x, ngram_range=ngram_range, token_pattern=token_pattern, stop_words=stop_words)\n",
    "        ngram_counts.update(ngrams)\n",
    "        df.update(set(ngrams))\n",
    "    \n",
    "    # Keep only ngrams that occur in certain number of documents\n",
    "    if min_df:\n",
    "        df = Counter({k: v for k, v in df.items() if v >= min_df})\n",
    "        ngram_counts = Counter({k: v for k, v in ngram_counts.items() if k in df.keys()})\n",
    "    \n",
    "    # Keep only ngrams that are common overall\n",
    "    if keep_topN and keep_topN < len(df.keys()):\n",
    "        ngram_counts = Counter(dict(ngram_counts.most_common()[:keep_topN]))\n",
    "        df = Counter({k: v for k, v in df.items() if k in ngram_counts.keys()})\n",
    "                \n",
    "    return list(df.keys()), df, ngram_counts"
   ]
  },
  {
   "cell_type": "markdown",
   "metadata": {},
   "source": [
    "Now you should use `get_vocab` to create your vocabulary and get document and raw frequencies of unigrams:"
   ]
  },
  {
   "cell_type": "code",
   "execution_count": 7,
   "metadata": {
    "ExecuteTime": {
     "end_time": "2020-04-02T14:26:43.577997Z",
     "start_time": "2020-04-02T14:26:43.478950Z"
    }
   },
   "outputs": [
    {
     "name": "stdout",
     "output_type": "stream",
     "text": [
      "5000\n",
      "\n",
      "['new', 'remove', 'hugo', 'wing', 'out', 'referendum', 'him', 'historic', 'vote', 'chavez', 'two', 'give', 'numbers', 'next', 'left', 'office', 'either', 'venezuelans', 'president', 'large', 'sunday', 'mandate', 'govern', 'reuters', 'years', 'turned', 'early', 'controversial', 'send', 'seoul', 'more', 'korean', 'water', 'police', 'troops', 'used', 'protesters', 'south', 'government', 'central', 'decision', 'urging', 'disperse', 'cannon', 'reverse', 'least', 'iraq', 'thousands', 'jails', 'said', 'care', 'minister', 'better', 'began', 'starved', 'death', 'conditions', 'israel', 'hunger', 'didn', 'israeli', 'security', 'palestinian', 'strike', 'prisoners', 'afp', 'overnight', 'violation', 'fragile', 'servicemen', 'disputed', 'georgian', 'wounding', 'gunfire', 'took', 'ossetia', 'ceasefire', 'seven', 'place', 'sporadic', 'region', 'shelling', 'armed', 'black', 'against', 'area', 'african', 'deployed', 'soldiers', 'flew', 'sudan', 'foreign', 'into', 'ap', 'troubled', 'farmers', 'killing', 'since', 'arab', 'militiamen']\n",
      "\n",
      "[('reuters', 631), ('said', 432), ('tuesday', 413), ('wednesday', 344), ('new', 325), ('after', 295), ('ap', 275), ('athens', 245), ('monday', 221), ('first', 210)]\n"
     ]
    }
   ],
   "source": [
    "vocab, df, ngram_counts = get_vocab(raw_data['X_train'], ngram_range=(1,1), stop_words=stop_words, keep_topN = 5000)\n",
    "print(len(vocab))\n",
    "print()\n",
    "print(list(vocab)[:100])\n",
    "print()\n",
    "print(df.most_common()[:10])"
   ]
  },
  {
   "cell_type": "markdown",
   "metadata": {},
   "source": [
    "Then, you need to create vocabulary id -> word and id -> word dictionaries for reference:"
   ]
  },
  {
   "cell_type": "code",
   "execution_count": 8,
   "metadata": {
    "ExecuteTime": {
     "end_time": "2020-04-02T14:26:44.069661Z",
     "start_time": "2020-04-02T14:26:44.065058Z"
    }
   },
   "outputs": [],
   "source": [
    "id_word = dict(zip(range(len(vocab)), vocab))\n",
    "word_id = dict(zip(vocab, range(len(vocab))))"
   ]
  },
  {
   "cell_type": "markdown",
   "metadata": {},
   "source": [
    "### Convert the list of unigrams  into a list of vocabulary indices"
   ]
  },
  {
   "cell_type": "markdown",
   "metadata": {},
   "source": [
    "Storing actual one-hot vectors into memory for all words in the entire data set is prohibitive. Instead, we will store word indices in the vocabulary and look-up the weight matrix. This is equivalent of doing a dot product between an one-hot vector and the weight matrix. \n",
    "\n",
    "First, represent documents in train, dev and test sets as lists of words in the vocabulary:"
   ]
  },
  {
   "cell_type": "code",
   "execution_count": 9,
   "metadata": {
    "ExecuteTime": {
     "end_time": "2020-04-02T14:26:45.047887Z",
     "start_time": "2020-04-02T14:26:44.920631Z"
    }
   },
   "outputs": [],
   "source": [
    "ngram_partial = partial(extract_ngrams, stop_words=stop_words, vocab=set(vocab))\n",
    "\n",
    "ngram_data = {}\n",
    "for key, value in raw_data.items():\n",
    "    if key.startswith('X'):\n",
    "        ngram_data[key] = list(map(ngram_partial, value))\n",
    "    else:\n",
    "        ngram_data[key] = value"
   ]
  },
  {
   "cell_type": "code",
   "execution_count": 10,
   "metadata": {},
   "outputs": [
    {
     "data": {
      "text/plain": [
       "['reuters',\n",
       " 'venezuelans',\n",
       " 'turned',\n",
       " 'out',\n",
       " 'early',\n",
       " 'large',\n",
       " 'numbers',\n",
       " 'sunday',\n",
       " 'vote',\n",
       " 'historic',\n",
       " 'referendum',\n",
       " 'either',\n",
       " 'remove',\n",
       " 'left',\n",
       " 'wing',\n",
       " 'president',\n",
       " 'hugo',\n",
       " 'chavez',\n",
       " 'office',\n",
       " 'give',\n",
       " 'him',\n",
       " 'new',\n",
       " 'mandate',\n",
       " 'govern',\n",
       " 'next',\n",
       " 'two',\n",
       " 'years']"
      ]
     },
     "execution_count": 10,
     "metadata": {},
     "output_type": "execute_result"
    }
   ],
   "source": [
    "ngram_data['X_train'][0]"
   ]
  },
  {
   "cell_type": "markdown",
   "metadata": {},
   "source": [
    "Then convert them into lists of indices in the vocabulary:"
   ]
  },
  {
   "cell_type": "code",
   "execution_count": 11,
   "metadata": {
    "ExecuteTime": {
     "end_time": "2020-04-02T14:26:45.752658Z",
     "start_time": "2020-04-02T14:26:45.730409Z"
    }
   },
   "outputs": [],
   "source": [
    "word_to_id = lambda l : [word_id[w] for w in l]\n",
    "for key, value in ngram_data.items():\n",
    "    if key.startswith('X'):\n",
    "        ngram_data[key] = list(map(word_to_id, ngram_data[key]))"
   ]
  },
  {
   "cell_type": "code",
   "execution_count": 12,
   "metadata": {
    "ExecuteTime": {
     "end_time": "2020-04-02T14:26:46.203894Z",
     "start_time": "2020-04-02T14:26:46.199850Z"
    }
   },
   "outputs": [
    {
     "data": {
      "text/plain": [
       "[23,\n",
       " 37,\n",
       " 31,\n",
       " 33,\n",
       " 35,\n",
       " 32,\n",
       " 43,\n",
       " 39,\n",
       " 29,\n",
       " 20,\n",
       " 42,\n",
       " 45,\n",
       " 36,\n",
       " 41,\n",
       " 38,\n",
       " 44,\n",
       " 27,\n",
       " 40,\n",
       " 28,\n",
       " 30,\n",
       " 34,\n",
       " 46]"
      ]
     },
     "execution_count": 12,
     "metadata": {},
     "output_type": "execute_result"
    }
   ],
   "source": [
    "ngram_data['X_train'][1]"
   ]
  },
  {
   "cell_type": "markdown",
   "metadata": {},
   "source": [
    "Put the labels `Y` for train, dev and test sets into arrays: "
   ]
  },
  {
   "cell_type": "markdown",
   "metadata": {},
   "source": [
    "#### Puting data extraction procedure together:"
   ]
  },
  {
   "cell_type": "code",
   "execution_count": 13,
   "metadata": {},
   "outputs": [],
   "source": [
    "def get_data(folder, ngram_range=(1,3), token_pattern=r'\\b[A-Za-z][A-Za-z]+\\b', \n",
    "             min_df=0, keep_topN=0, stop_words=set()):\n",
    "    \"\"\"\n",
    "        Combines data extraction procedure into a single method\n",
    "        \n",
    "        Parameters\n",
    "        ----------\n",
    "        folder: str\n",
    "            name of the folder to extract the data from\n",
    "        \n",
    "        tfidf: bool, optional\n",
    "            determines tfidf should be used or not (defaults to False)\n",
    "            \n",
    "        ngram_range: tuple, optional\n",
    "            range for ngrams to return (default is (1, 3) means unigrams, bigrams and trigrams will be returned)\n",
    "            \n",
    "        token_pattern: str, optional\n",
    "            a partern for regex to split the string into tokens\n",
    "        \n",
    "        stop_words: set, optional\n",
    "            tokens to get rid of (default is empty meaning all tokens will be kept)\n",
    "            \n",
    "        min_df: int, optional\n",
    "            minimum document frequency to keep the ngram in the vocabluary (default is 0 to keep all ngrams)\n",
    "            \n",
    "        keep_topN: int, optinal\n",
    "            keep only top number of occuring ngrams (default is 0 to keep all ngrams)\n",
    "            \n",
    "        Returns\n",
    "        -------\n",
    "        data_dict: dict\n",
    "            Dictionary with all data splits, vocabluary and word_id, id_word mappings.\n",
    "    \"\"\"\n",
    "    data_dict = {}\n",
    "    \n",
    "    data_files = load_data(folder=folder)\n",
    "    raw_data = get_raw_data(data_files)\n",
    "    \n",
    "    vocab, df, ngram_counts = get_vocab(raw_data['X_train'], ngram_range=ngram_range, stop_words=stop_words,\n",
    "                                       token_pattern=token_pattern, min_df=min_df, keep_topN=keep_topN)\n",
    "    \n",
    "    id_word = dict(zip(range(len(vocab)), vocab))\n",
    "    word_id = dict(zip(vocab, range(len(vocab))))\n",
    "    \n",
    "    ngram_partial = partial(extract_ngrams, stop_words=stop_words, vocab=set(vocab))\n",
    "    word_to_id = lambda l : [word_id[w] for w in l]\n",
    "    \n",
    "    for key, value in raw_data.items():\n",
    "        if key.startswith('X'):\n",
    "            word_vec = list(map(ngram_partial, value))\n",
    "            id_vec = list(map(word_to_id, word_vec))\n",
    "            # Keep only non-empty documents:\n",
    "            keep_idx, id_vec = map(list, zip(*[(i, x) for i, x in enumerate(id_vec) if x]))\n",
    "            data_dict[key] = id_vec\n",
    "        else:\n",
    "            data_dict[key] = value[keep_idx]\n",
    "    \n",
    "    data_dict['id_word'] = id_word\n",
    "    data_dict['word_id'] = word_id\n",
    "    data_dict['vocab'] = np.array(vocab)\n",
    "    \n",
    "    return data_dict"
   ]
  },
  {
   "cell_type": "markdown",
   "metadata": {},
   "source": [
    "# Network Architecture\n",
    "\n",
    "Your network should pass each word index into its corresponding embedding by looking-up on the embedding matrix and then compute the first hidden layer $\\mathbf{h}_1$:\n",
    "\n",
    "$$\\mathbf{h}_1 = \\frac{1}{|x|}\\sum_i W^e_i, i \\in x$$\n",
    "\n",
    "where $|x|$ is the number of words in the document and $W^e$ is an embedding matrix $|V|\\times d$, $|V|$ is the size of the vocabulary and $d$ the embedding size.\n",
    "\n",
    "Then $\\mathbf{h}_1$ should be passed through a ReLU activation function:\n",
    "\n",
    "$$\\mathbf{a}_1 = relu(\\mathbf{h}_1)$$\n",
    "\n",
    "Finally the hidden layer is passed to the output layer:\n",
    "\n",
    "\n",
    "$$\\mathbf{y} = \\text{softmax}(\\mathbf{a}_1W^T) $$ \n",
    "where $W$ is a matrix $d \\times |{\\cal Y}|$, $|{\\cal Y}|$ is the number of classes.\n",
    "\n",
    "During training, $\\mathbf{a}_1$ should be multiplied with a dropout mask vector (elementwise) for regularisation before it is passed to the output layer.\n",
    "\n",
    "You can extend to a deeper architecture by passing a hidden layer to another one:\n",
    "\n",
    "$$\\mathbf{h_i} = \\mathbf{a}_{i-1}W_i^T $$\n",
    "\n",
    "$$\\mathbf{a_i} = relu(\\mathbf{h_i}) $$\n",
    "\n",
    "\n",
    "\n",
    "# Network Training\n",
    "\n",
    "First we need to define the parameters of our network by initiliasing the weight matrices. For that purpose, you should implement the `network_weights` function that takes as input:\n",
    "\n",
    "- `vocab_size`: the size of the vocabulary\n",
    "- `embedding_dim`: the size of the word embeddings\n",
    "- `hidden_dim`: a list of the sizes of any subsequent hidden layers (for the Bonus). Empty if there are no hidden layers between the average embedding and the output layer \n",
    "- `num_clusses`: the number of the classes for the output layer\n",
    "\n",
    "and returns:\n",
    "\n",
    "- `W`: a dictionary mapping from layer index (e.g. 0 for the embedding matrix) to the corresponding weight matrix initialised with small random numbers (hint: use numpy.random.uniform with from -0.1 to 0.1)\n",
    "\n",
    "See the examples below for expected outputs. Make sure that the dimensionality of each weight matrix is compatible with the previous and next weight matrix, otherwise you won't be able to perform forward and backward passes. Consider also using np.float32 precision to save memory."
   ]
  },
  {
   "cell_type": "code",
   "execution_count": 14,
   "metadata": {
    "ExecuteTime": {
     "end_time": "2020-04-02T15:09:10.086665Z",
     "start_time": "2020-04-02T15:09:10.083429Z"
    }
   },
   "outputs": [],
   "source": [
    "def network_weights(vocab_size=1000, embedding_dim=300, hidden_dim=[], num_classes=3, init_val=0.1):\n",
    "    W = {}\n",
    "    \n",
    "    dist = partial(np.random.uniform, -init_val, init_val)\n",
    "    sizes = [vocab_size, embedding_dim] + hidden_dim + [num_classes]\n",
    "    \n",
    "    for i in range(len(sizes) - 1):\n",
    "        W[i] = dist(size=(sizes[i], sizes[i+1])).astype(np.float32)\n",
    "\n",
    "    return W"
   ]
  },
  {
   "cell_type": "code",
   "execution_count": 15,
   "metadata": {
    "ExecuteTime": {
     "end_time": "2020-04-02T14:26:48.143236Z",
     "start_time": "2020-04-02T14:26:48.139381Z"
    }
   },
   "outputs": [
    {
     "name": "stdout",
     "output_type": "stream",
     "text": [
      "W_emb: (5, 10)\n",
      "W_out: (10, 2)\n"
     ]
    }
   ],
   "source": [
    "W = network_weights(vocab_size=5,embedding_dim=10,hidden_dim=[], num_classes=2)\n",
    "\n",
    "print('W_emb:', W[0].shape)\n",
    "print('W_out:', W[1].shape)"
   ]
  },
  {
   "cell_type": "code",
   "execution_count": 16,
   "metadata": {
    "ExecuteTime": {
     "end_time": "2020-04-02T14:26:48.636732Z",
     "start_time": "2020-04-02T14:26:48.634122Z"
    }
   },
   "outputs": [],
   "source": [
    "W = network_weights(vocab_size=3,embedding_dim=4,hidden_dim=[2], num_classes=2)"
   ]
  },
  {
   "cell_type": "code",
   "execution_count": 17,
   "metadata": {
    "ExecuteTime": {
     "end_time": "2020-04-02T14:26:49.086112Z",
     "start_time": "2020-04-02T14:26:49.082225Z"
    }
   },
   "outputs": [
    {
     "name": "stdout",
     "output_type": "stream",
     "text": [
      "W_emb: (3, 4)\n",
      "W_h1: (4, 2)\n",
      "W_out: (2, 2)\n"
     ]
    }
   ],
   "source": [
    "print('W_emb:', W[0].shape)\n",
    "print('W_h1:', W[1].shape)\n",
    "print('W_out:', W[2].shape)"
   ]
  },
  {
   "cell_type": "code",
   "execution_count": 18,
   "metadata": {
    "ExecuteTime": {
     "end_time": "2020-04-02T14:26:49.535954Z",
     "start_time": "2020-04-02T14:26:49.532018Z"
    }
   },
   "outputs": [
    {
     "data": {
      "text/plain": [
       "array([[-0.08085749,  0.07706536,  0.02544979,  0.04468327],\n",
       "       [-0.09677416,  0.01888638,  0.01135704, -0.06820807],\n",
       "       [-0.06938589,  0.03910591, -0.03624671,  0.03839406]],\n",
       "      dtype=float32)"
      ]
     },
     "execution_count": 18,
     "metadata": {},
     "output_type": "execute_result"
    }
   ],
   "source": [
    "W[0]"
   ]
  },
  {
   "cell_type": "markdown",
   "metadata": {
    "ExecuteTime": {
     "end_time": "2020-04-01T10:31:57.970152Z",
     "start_time": "2020-04-01T10:31:57.966123Z"
    }
   },
   "source": [
    "Then you need to develop a `softmax` function (same as in Assignment 1) to be used in the output layer. It takes as input:\n",
    "\n",
    "- `z`: array of real numbers \n",
    "\n",
    "and returns:\n",
    "\n",
    "- `sig`: the softmax of `z`"
   ]
  },
  {
   "cell_type": "code",
   "execution_count": 19,
   "metadata": {
    "ExecuteTime": {
     "end_time": "2020-04-02T14:26:50.504086Z",
     "start_time": "2020-04-02T14:26:50.500686Z"
    }
   },
   "outputs": [],
   "source": [
    "def softmax(z, axis=None):\n",
    "    exp = np.exp(z)\n",
    "    den = np.sum(exp, axis=axis)\n",
    "    den = den.reshape(-1, 1) if axis else den\n",
    "    return exp/den"
   ]
  },
  {
   "cell_type": "markdown",
   "metadata": {},
   "source": [
    "Now you need to implement the categorical cross entropy loss by slightly modifying the function from Assignment 1 to depend only on the true label `y` and the class probabilities vector `y_preds`:"
   ]
  },
  {
   "cell_type": "code",
   "execution_count": 20,
   "metadata": {},
   "outputs": [],
   "source": [
    "def to_categorical(arr, num_classes):\n",
    "    return np.eye(num_classes)[arr-1]"
   ]
  },
  {
   "cell_type": "code",
   "execution_count": 21,
   "metadata": {
    "ExecuteTime": {
     "end_time": "2020-04-02T14:26:51.360838Z",
     "start_time": "2020-04-02T14:26:51.356935Z"
    }
   },
   "outputs": [],
   "source": [
    "def categorical_loss(y, y_pred):\n",
    "    y_cat = to_categorical(y, y_pred.shape[-1])\n",
    "    if np.isscalar(y_cat[0]):\n",
    "        y_cat = np.array([y_cat])\n",
    "    l = -y_cat * np.log(y_pred)\n",
    "    return np.mean(np.sum(l, axis=1))"
   ]
  },
  {
   "cell_type": "code",
   "execution_count": 22,
   "metadata": {},
   "outputs": [],
   "source": [
    "def predict_class(prob):\n",
    "    return np.argmax(prob, axis=1) + 1"
   ]
  },
  {
   "cell_type": "code",
   "execution_count": 23,
   "metadata": {
    "ExecuteTime": {
     "end_time": "2020-04-02T14:26:51.762676Z",
     "start_time": "2020-04-02T14:26:51.758210Z"
    }
   },
   "outputs": [
    {
     "name": "stdout",
     "output_type": "stream",
     "text": [
      "y_preds:  [[0.01217919 0.27035308 0.24462558 0.02710529 0.44573687]]\n",
      "loss: 1.3080264848567502\n"
     ]
    }
   ],
   "source": [
    "# example for 5 classes\n",
    "y = 2 #true label\n",
    "y_preds = softmax(np.array([[-2.1,1.,0.9,-1.3,1.5]]))\n",
    "\n",
    "print('y_preds: ',y_preds)\n",
    "print('loss:', categorical_loss(y, y_preds))"
   ]
  },
  {
   "cell_type": "markdown",
   "metadata": {
    "ExecuteTime": {
     "end_time": "2020-03-31T15:02:56.149535Z",
     "start_time": "2020-03-31T15:02:56.145738Z"
    }
   },
   "source": [
    "Then, implement the `relu` function to introduce non-linearity after each hidden layer of your network (during the forward pass): \n",
    "\n",
    "$$relu(z_i)= max(z_i,0)$$\n",
    "\n",
    "and the `relu_derivative` function to compute its derivative (used in the backward pass):\n",
    "\n",
    "\\begin{equation}\n",
    "  \\text{relu_derivative}(z_i)=\\begin{cases}\n",
    "    0, & \\text{if $z_i<=0$}.\\\\\n",
    "    1, & \\text{otherwise}.\n",
    "  \\end{cases}\n",
    "\\end{equation}\n",
    "\n",
    "Note that both functions take as input a vector $z$ \n",
    "\n",
    "Hint use .copy() to avoid in place changes in array z"
   ]
  },
  {
   "cell_type": "code",
   "execution_count": 24,
   "metadata": {
    "ExecuteTime": {
     "end_time": "2020-04-02T14:26:52.665236Z",
     "start_time": "2020-04-02T14:26:52.661519Z"
    }
   },
   "outputs": [],
   "source": [
    "def relu(z):\n",
    "    return np.maximum(z, 0, z.copy())\n",
    "    \n",
    "def relu_derivative(z):\n",
    "    return np.heaviside(z, 0)"
   ]
  },
  {
   "cell_type": "markdown",
   "metadata": {},
   "source": [
    "During training you should also apply a dropout mask element-wise after the activation function (i.e. vector of ones with a random percentage set to zero). The `dropout_mask` function takes as input:\n",
    "\n",
    "- `size`: the size of the vector that we want to apply dropout\n",
    "- `dropout_rate`: the percentage of elements that will be randomly set to zeros\n",
    "\n",
    "and returns:\n",
    "\n",
    "- `dropout_vec`: a vector with binary values (0 or 1)"
   ]
  },
  {
   "cell_type": "code",
   "execution_count": 25,
   "metadata": {
    "ExecuteTime": {
     "end_time": "2020-04-02T14:26:53.429192Z",
     "start_time": "2020-04-02T14:26:53.425301Z"
    }
   },
   "outputs": [],
   "source": [
    "def dropout_mask(size, dropout_rate):\n",
    "    return np.random.binomial(1, 1-dropout_rate, size)"
   ]
  },
  {
   "cell_type": "code",
   "execution_count": 26,
   "metadata": {
    "ExecuteTime": {
     "end_time": "2020-04-02T14:26:53.853632Z",
     "start_time": "2020-04-02T14:26:53.849944Z"
    }
   },
   "outputs": [
    {
     "name": "stdout",
     "output_type": "stream",
     "text": [
      "[1 1 1 1 1 1 1 1 1 1]\n",
      "[1 1 0 1 0 1 1 1 1 0]\n"
     ]
    }
   ],
   "source": [
    "print(dropout_mask(10, 0.2))\n",
    "print(dropout_mask(10, 0.2))"
   ]
  },
  {
   "cell_type": "markdown",
   "metadata": {},
   "source": [
    "Now you need to implement the `forward_pass` function that passes the input x through the network up to the output layer for computing the probability for each class using the weight matrices in `W`. The ReLU activation function should be applied on each hidden layer. \n",
    "\n",
    "- `x`: a list of vocabulary indices each corresponding to a word in the document (input)\n",
    "- `W`: a list of weight matrices connecting each part of the network, e.g. for a network with a hidden and an output layer: W[0] is the weight matrix that connects the input to the first hidden layer, W[1] is the weight matrix that connects the hidden layer to the output layer.\n",
    "- `dropout_rate`: the dropout rate that is used to generate a random dropout mask vector applied after each hidden layer for regularisation.\n",
    "\n",
    "and returns:\n",
    "\n",
    "- `out_vals`: a dictionary of output values from each layer: h (the vector before the activation function), a (the resulting vector after passing h from the activation function), its dropout mask vector; and the prediction vector (probability for each class) from the output layer."
   ]
  },
  {
   "cell_type": "code",
   "execution_count": 27,
   "metadata": {
    "ExecuteTime": {
     "end_time": "2020-04-02T14:26:54.761268Z",
     "start_time": "2020-04-02T14:26:54.753402Z"
    }
   },
   "outputs": [],
   "source": [
    "def forward_pass(x, W, dropout_rate=0.2):\n",
    "    \n",
    "    out_vals = {}\n",
    "    out_vals['h'] = []\n",
    "    out_vals['a'] = []\n",
    "    out_vals['dropout_vec'] = []\n",
    "    \n",
    "    # Ensure x is list of lists:\n",
    "    if np.isscalar(x[0]):\n",
    "        x = [x]\n",
    "        axis = None  # Axis to perform softmax over\n",
    "    else:\n",
    "        axis = 1\n",
    "        \n",
    "    for i, w in W.items():\n",
    "        if not i:  # Calculate embeding:\n",
    "            x = np.array([np.sum(w[x_i], axis=0)/len(x_i) for x_i in x])\n",
    "        else:\n",
    "            x = np.dot(x, w)\n",
    "            \n",
    "        if i != (len(W) - 1):  # unless last layer\n",
    "            out_vals['h'].append(x)\n",
    "            x = relu(x)\n",
    "            out_vals['a'].append(x)\n",
    "            if dropout_rate:\n",
    "                drop = dropout_mask(len(x[0]), dropout_rate)\n",
    "                out_vals['dropout_vec'].append(drop)\n",
    "                x *= drop\n",
    "        else:  # Calculate output\n",
    "            y = softmax(x, axis=axis)\n",
    "            out_vals['y'] = y\n",
    "        \n",
    "    return out_vals"
   ]
  },
  {
   "cell_type": "code",
   "execution_count": 28,
   "metadata": {
    "ExecuteTime": {
     "end_time": "2020-04-02T14:26:55.162854Z",
     "start_time": "2020-04-02T14:26:55.156122Z"
    }
   },
   "outputs": [
    {
     "name": "stdout",
     "output_type": "stream",
     "text": [
      "Shape W0 (3, 4)\n",
      "Shape W1 (4, 5)\n",
      "Shape W2 (5, 2)\n",
      "\n",
      "{'h': [array([[-0.07048225,  0.05083556,  0.0807253 ,  0.01912668]],\n",
      "      dtype=float32), array([[-0.00537986, -0.00211071,  0.00318677,  0.00552425, -0.00987258]],\n",
      "      dtype=float32)], 'a': [array([[0.        , 0.05083556, 0.0807253 , 0.01912668]], dtype=float32), array([[0.        , 0.        , 0.00318677, 0.00552425, 0.        ]],\n",
      "      dtype=float32)], 'dropout_vec': [array([1, 1, 1, 1]), array([1, 1, 1, 1, 1])], 'y': array([[0.4998965, 0.5001035]], dtype=float32)}\n"
     ]
    }
   ],
   "source": [
    "W = network_weights(vocab_size=3, embedding_dim=4, hidden_dim=[5], num_classes=2)\n",
    "\n",
    "for i in range(len(W)):\n",
    "    print('Shape W'+str(i), W[i].shape)\n",
    "\n",
    "print()\n",
    "print(forward_pass([2,1], W, dropout_rate=0.1))"
   ]
  },
  {
   "cell_type": "markdown",
   "metadata": {},
   "source": [
    "The `backward_pass` function computes the gradients and update the weights for each matrix in the network from the output to the input. It takes as input \n",
    "\n",
    "- `x`: a list of vocabulary indices each corresponding to a word in the document (input)\n",
    "- `y`: the true label\n",
    "- `W`: a list of weight matrices connecting each part of the network, e.g. for a network with a hidden and an output layer: W[0] is the weight matrix that connects the input to the first hidden layer, W[1] is the weight matrix that connects the hidden layer to the output layer.\n",
    "- `out_vals`: a dictionary of output values from a forward pass.\n",
    "- `learning_rate`: the learning rate for updating the weights.\n",
    "- `freeze_emb`: boolean value indicating whether the embedding weights will be updated.\n",
    "\n",
    "and returns:\n",
    "\n",
    "- `W`: the updated weights of the network.\n",
    "\n",
    "Hint: the gradients on the output layer are similar to the multiclass logistic regression."
   ]
  },
  {
   "cell_type": "code",
   "execution_count": 29,
   "metadata": {},
   "outputs": [],
   "source": [
    "def backward_pass(x, y, W, out_vals, lr=0.001, freeze_emb=False):\n",
    "    \n",
    "    dW = []  # Store weight updates\n",
    "    \n",
    "    y = to_categorical(y, out_vals['y'].shape[-1])\n",
    "    \n",
    "    # Compute outer layer gradient:\n",
    "    grad = out_vals['y'] - y\n",
    "    dW_out = np.dot(out_vals['a'][-1].T, grad)\n",
    "    dW.append(dW_out)\n",
    "    \n",
    "    # Propagate back to the next layer\n",
    "    grad = np.dot(grad, W[len(W)-1].T)\n",
    "    \n",
    "    for l in list(W.keys())[::-1][1:]:\n",
    "        \n",
    "        # Multiply by dropout applied durning training:\n",
    "        if out_vals['dropout_vec']:\n",
    "            grad = grad * out_vals['dropout_vec'][l]\n",
    "        \n",
    "        # Derivative with respect to activation:\n",
    "        grad *= relu_derivative(out_vals['h'][l])\n",
    "    \n",
    "        if l: # Unless first layer\n",
    "            # Compute hidden layer update\n",
    "            dW_hid = np.dot(out_vals['a'][l-1].T, grad)\n",
    "            dW.append(dW_hid)\n",
    "            # Propagate back to the next layer\n",
    "            grad = np.dot(grad, W[l].T)\n",
    "            \n",
    "        else:  # Update the embeding weights\n",
    "            if not freeze_emb:\n",
    "                count = Counter(x)\n",
    "                # Only calculate gradient for activated inputs:\n",
    "                dW_in = (np.array(list(count.values())).reshape(-1, 1) * grad) / len(x)\n",
    "                # Can update straight away as W[0] won't be reused\n",
    "                W[0][list(count.keys())] -= lr * dW_in\n",
    "    \n",
    "    # Update the weights:\n",
    "    for i in range(len(dW)):\n",
    "        W[i+1] -= lr * dW.pop()\n",
    "        \n",
    "    return W"
   ]
  },
  {
   "cell_type": "markdown",
   "metadata": {
    "ExecuteTime": {
     "end_time": "2020-02-15T14:08:59.937442Z",
     "start_time": "2020-02-15T14:08:59.932221Z"
    }
   },
   "source": [
    "Finally you need to modify SGD to support back-propagation by using the `forward_pass` and `backward_pass` functions.\n",
    "\n",
    "The `SGD` function takes as input:\n",
    "\n",
    "- `X_tr`: array of training data (vectors)\n",
    "- `Y_tr`: labels of `X_tr`\n",
    "- `W`: the weights of the network (dictionary)\n",
    "- `X_dev`: array of development (i.e. validation) data (vectors)\n",
    "- `Y_dev`: labels of `X_dev`\n",
    "- `lr`: learning rate\n",
    "- `dropout`: regularisation strength\n",
    "- `epochs`: number of full passes over the training data\n",
    "- `tolerance`: stop training if the difference between the current and previous validation loss is smaller than a threshold\n",
    "- `freeze_emb`: boolean value indicating whether the embedding weights will be updated (to be used by the backward pass function).\n",
    "- `print_progress`: flag for printing the training progress (train/validation loss)\n",
    "\n",
    "\n",
    "and returns:\n",
    "\n",
    "- `weights`: the weights learned\n",
    "- `training_loss_history`: an array with the average losses of the whole training set after each epoch\n",
    "- `validation_loss_history`: an array with the average losses of the whole development set after each epoch"
   ]
  },
  {
   "cell_type": "code",
   "execution_count": 30,
   "metadata": {
    "ExecuteTime": {
     "end_time": "2020-04-02T15:09:19.021428Z",
     "start_time": "2020-04-02T15:09:19.017835Z"
    }
   },
   "outputs": [],
   "source": [
    "def SGD(X_tr, Y_tr, W, X_dev=[], Y_dev=[], lr=0.001, \n",
    "        dropout=0.2, epochs=5, tolerance=0.001, freeze_emb=False, print_progress=True):\n",
    "    \"\"\"\n",
    "        Performs Stochastic Gradient Descent optimization for classification task with a Neural Net\n",
    "\n",
    "        Parameters\n",
    "        ----------\n",
    "        X_tr: np.array\n",
    "            Training input data\n",
    "\n",
    "        Y_tr: np.array\n",
    "            Training labels (first dimension should be equivalent to X_tr)\n",
    "            \n",
    "        W: dict\n",
    "            Initialised weights for each of the layers in Neural Network\n",
    "\n",
    "        X_dev: np.array, optional\n",
    "            Development input data for calculation of validation loss \n",
    "\n",
    "        Y_dev: np.array, optional\n",
    "            Development labels (only used if X_dev is suplied)\n",
    "\n",
    "        dropout: float, (0, 1)\n",
    "            Percentage of neurons to cut out between the hidden layers (regularization)\n",
    "\n",
    "        lr: float, optional\n",
    "            Learning rate to use durning training (default to optimal parameter determined durning hyperparameter optimization)\n",
    "\n",
    "        epochs: int, optional\n",
    "            Number of times to go over full dataset (defaults to optimal)\n",
    "\n",
    "        tolerance: float, optional\n",
    "            Difference between concurent development losses at which to stop the training (default to 0.0001)\n",
    "            \n",
    "        freeze_emb: bool, optional\n",
    "            Determines if to freeze the first layer of the network durning training\n",
    "\n",
    "        print_progress: bool, optional\n",
    "            Determines if to print the updates for each epoch (default to True)\n",
    "    \"\"\"\n",
    "    \n",
    "    training_loss_history = []\n",
    "    validation_loss_history = []\n",
    "    \n",
    "    n_points = len(X_tr)\n",
    "    \n",
    "    for epoch in range(epochs):\n",
    "        \n",
    "        rand_idx = np.random.permutation(n_points)\n",
    "        \n",
    "        # Peform the update\n",
    "        for i in rand_idx:\n",
    "            out_vals = forward_pass(X_tr[i], W, dropout_rate=dropout)\n",
    "            W = backward_pass(X_tr[i], Y_tr[i], W, out_vals, lr=lr, freeze_emb=freeze_emb)\n",
    "        \n",
    "        # Calculate training loss for epoch\n",
    "        tr_pred = forward_pass(X_tr, W, dropout_rate=0)['y']\n",
    "        tr_loss = categorical_loss(Y_tr, tr_pred)\n",
    "        training_loss_history.append(tr_loss)\n",
    "        \n",
    "        # Calcualte validation loss for epoch\n",
    "        if len(X_dev):\n",
    "            val_pred = forward_pass(X_dev, W, dropout_rate=0)['y']\n",
    "            val_loss = categorical_loss(Y_dev, val_pred)\n",
    "            validation_loss_history.append(val_loss)\n",
    "        \n",
    "        if print_progress:\n",
    "            if len(X_dev):\n",
    "                print(f'Epoch: {epoch}| Training Loss: {tr_loss:.3f}| Validation loss: {val_loss:.3f}')\n",
    "            else:\n",
    "                print(f'Epoch: {epoch}| Training Loss: {tr_loss:.3f}|')\n",
    "        \n",
    "        if epoch and len(X_dev) and tolerance:\n",
    "            if (validation_loss_history[-2] - val_loss) < tolerance:\n",
    "                break\n",
    "\n",
    "    return W, training_loss_history, validation_loss_history, epoch+1"
   ]
  },
  {
   "cell_type": "markdown",
   "metadata": {
    "ExecuteTime": {
     "end_time": "2020-02-15T14:10:15.772383Z",
     "start_time": "2020-02-15T14:10:15.767855Z"
    }
   },
   "source": [
    "Now you are ready to train and evaluate you neural net. First, you need to define your network using the `network_weights` function followed by SGD with backprop:"
   ]
  },
  {
   "cell_type": "code",
   "execution_count": 31,
   "metadata": {
    "ExecuteTime": {
     "end_time": "2020-04-02T15:09:33.643515Z",
     "start_time": "2020-04-02T15:09:33.640943Z"
    }
   },
   "outputs": [
    {
     "name": "stdout",
     "output_type": "stream",
     "text": [
      "Shape W0 (5000, 300)\n",
      "Shape W1 (300, 3)\n",
      "Epoch: 0| Training Loss: 1.098| Validation loss: 1.098\n",
      "Epoch: 1| Training Loss: 1.097| Validation loss: 1.098\n",
      "Epoch: 2| Training Loss: 1.096| Validation loss: 1.097\n",
      "Epoch: 3| Training Loss: 1.096| Validation loss: 1.097\n",
      "Epoch: 4| Training Loss: 1.095| Validation loss: 1.096\n",
      "Epoch: 5| Training Loss: 1.094| Validation loss: 1.096\n",
      "Epoch: 6| Training Loss: 1.093| Validation loss: 1.095\n",
      "Epoch: 7| Training Loss: 1.092| Validation loss: 1.095\n",
      "Epoch: 8| Training Loss: 1.091| Validation loss: 1.094\n",
      "Epoch: 9| Training Loss: 1.089| Validation loss: 1.093\n",
      "Epoch: 10| Training Loss: 1.088| Validation loss: 1.092\n",
      "Epoch: 11| Training Loss: 1.087| Validation loss: 1.092\n",
      "Epoch: 12| Training Loss: 1.085| Validation loss: 1.091\n",
      "Epoch: 13| Training Loss: 1.084| Validation loss: 1.090\n",
      "Epoch: 14| Training Loss: 1.082| Validation loss: 1.089\n",
      "Epoch: 15| Training Loss: 1.080| Validation loss: 1.088\n",
      "Epoch: 16| Training Loss: 1.078| Validation loss: 1.087\n",
      "Epoch: 17| Training Loss: 1.076| Validation loss: 1.085\n",
      "Epoch: 18| Training Loss: 1.074| Validation loss: 1.084\n",
      "Epoch: 19| Training Loss: 1.071| Validation loss: 1.082\n",
      "Epoch: 20| Training Loss: 1.068| Validation loss: 1.081\n",
      "Epoch: 21| Training Loss: 1.065| Validation loss: 1.079\n",
      "Epoch: 22| Training Loss: 1.061| Validation loss: 1.077\n",
      "Epoch: 23| Training Loss: 1.057| Validation loss: 1.074\n",
      "Epoch: 24| Training Loss: 1.053| Validation loss: 1.072\n",
      "Epoch: 25| Training Loss: 1.048| Validation loss: 1.069\n",
      "Epoch: 26| Training Loss: 1.042| Validation loss: 1.066\n",
      "Epoch: 27| Training Loss: 1.036| Validation loss: 1.062\n",
      "Epoch: 28| Training Loss: 1.030| Validation loss: 1.058\n",
      "Epoch: 29| Training Loss: 1.022| Validation loss: 1.054\n",
      "Epoch: 30| Training Loss: 1.014| Validation loss: 1.049\n",
      "Epoch: 31| Training Loss: 1.005| Validation loss: 1.044\n",
      "Epoch: 32| Training Loss: 0.996| Validation loss: 1.038\n",
      "Epoch: 33| Training Loss: 0.985| Validation loss: 1.031\n",
      "Epoch: 34| Training Loss: 0.973| Validation loss: 1.024\n",
      "Epoch: 35| Training Loss: 0.961| Validation loss: 1.016\n",
      "Epoch: 36| Training Loss: 0.947| Validation loss: 1.007\n",
      "Epoch: 37| Training Loss: 0.933| Validation loss: 0.998\n",
      "Epoch: 38| Training Loss: 0.917| Validation loss: 0.988\n",
      "Epoch: 39| Training Loss: 0.901| Validation loss: 0.976\n",
      "Epoch: 40| Training Loss: 0.884| Validation loss: 0.965\n",
      "Epoch: 41| Training Loss: 0.866| Validation loss: 0.952\n",
      "Epoch: 42| Training Loss: 0.848| Validation loss: 0.938\n",
      "Epoch: 43| Training Loss: 0.829| Validation loss: 0.924\n",
      "Epoch: 44| Training Loss: 0.810| Validation loss: 0.909\n",
      "Epoch: 45| Training Loss: 0.791| Validation loss: 0.893\n",
      "Epoch: 46| Training Loss: 0.772| Validation loss: 0.877\n",
      "Epoch: 47| Training Loss: 0.753| Validation loss: 0.861\n",
      "Epoch: 48| Training Loss: 0.734| Validation loss: 0.844\n",
      "Epoch: 49| Training Loss: 0.716| Validation loss: 0.827\n",
      "Epoch: 50| Training Loss: 0.698| Validation loss: 0.809\n",
      "Epoch: 51| Training Loss: 0.680| Validation loss: 0.792\n",
      "Epoch: 52| Training Loss: 0.663| Validation loss: 0.774\n",
      "Epoch: 53| Training Loss: 0.646| Validation loss: 0.757\n",
      "Epoch: 54| Training Loss: 0.630| Validation loss: 0.739\n",
      "Epoch: 55| Training Loss: 0.613| Validation loss: 0.721\n",
      "Epoch: 56| Training Loss: 0.597| Validation loss: 0.703\n",
      "Epoch: 57| Training Loss: 0.581| Validation loss: 0.685\n",
      "Epoch: 58| Training Loss: 0.566| Validation loss: 0.668\n",
      "Epoch: 59| Training Loss: 0.551| Validation loss: 0.650\n",
      "Epoch: 60| Training Loss: 0.535| Validation loss: 0.633\n",
      "Epoch: 61| Training Loss: 0.521| Validation loss: 0.616\n",
      "Epoch: 62| Training Loss: 0.506| Validation loss: 0.599\n",
      "Epoch: 63| Training Loss: 0.491| Validation loss: 0.582\n",
      "Epoch: 64| Training Loss: 0.477| Validation loss: 0.566\n",
      "Epoch: 65| Training Loss: 0.463| Validation loss: 0.550\n",
      "Epoch: 66| Training Loss: 0.450| Validation loss: 0.535\n",
      "Epoch: 67| Training Loss: 0.437| Validation loss: 0.520\n",
      "Epoch: 68| Training Loss: 0.424| Validation loss: 0.506\n",
      "Epoch: 69| Training Loss: 0.412| Validation loss: 0.492\n",
      "Epoch: 70| Training Loss: 0.400| Validation loss: 0.479\n",
      "Epoch: 71| Training Loss: 0.389| Validation loss: 0.467\n",
      "Epoch: 72| Training Loss: 0.378| Validation loss: 0.455\n",
      "Epoch: 73| Training Loss: 0.368| Validation loss: 0.444\n",
      "Epoch: 74| Training Loss: 0.358| Validation loss: 0.433\n",
      "Epoch: 75| Training Loss: 0.349| Validation loss: 0.423\n",
      "Epoch: 76| Training Loss: 0.340| Validation loss: 0.414\n",
      "Epoch: 77| Training Loss: 0.332| Validation loss: 0.405\n",
      "Epoch: 78| Training Loss: 0.324| Validation loss: 0.397\n",
      "Epoch: 79| Training Loss: 0.316| Validation loss: 0.389\n",
      "Epoch: 80| Training Loss: 0.309| Validation loss: 0.381\n",
      "Epoch: 81| Training Loss: 0.302| Validation loss: 0.374\n",
      "Epoch: 82| Training Loss: 0.295| Validation loss: 0.368\n",
      "Epoch: 83| Training Loss: 0.289| Validation loss: 0.362\n",
      "Epoch: 84| Training Loss: 0.283| Validation loss: 0.356\n",
      "Epoch: 85| Training Loss: 0.277| Validation loss: 0.350\n",
      "Epoch: 86| Training Loss: 0.271| Validation loss: 0.345\n",
      "Epoch: 87| Training Loss: 0.266| Validation loss: 0.340\n",
      "Epoch: 88| Training Loss: 0.261| Validation loss: 0.334\n",
      "Epoch: 89| Training Loss: 0.256| Validation loss: 0.330\n",
      "Epoch: 90| Training Loss: 0.251| Validation loss: 0.326\n",
      "Epoch: 91| Training Loss: 0.246| Validation loss: 0.322\n",
      "Epoch: 92| Training Loss: 0.242| Validation loss: 0.318\n",
      "Epoch: 93| Training Loss: 0.237| Validation loss: 0.314\n",
      "Epoch: 94| Training Loss: 0.233| Validation loss: 0.310\n",
      "Epoch: 95| Training Loss: 0.229| Validation loss: 0.307\n",
      "Epoch: 96| Training Loss: 0.225| Validation loss: 0.303\n",
      "Epoch: 97| Training Loss: 0.221| Validation loss: 0.300\n",
      "Epoch: 98| Training Loss: 0.217| Validation loss: 0.297\n",
      "Epoch: 99| Training Loss: 0.213| Validation loss: 0.294\n",
      "Epoch: 100| Training Loss: 0.209| Validation loss: 0.292\n",
      "Epoch: 101| Training Loss: 0.206| Validation loss: 0.289\n",
      "Epoch: 102| Training Loss: 0.202| Validation loss: 0.287\n",
      "Epoch: 103| Training Loss: 0.199| Validation loss: 0.284\n",
      "Epoch: 104| Training Loss: 0.195| Validation loss: 0.282\n",
      "Epoch: 105| Training Loss: 0.192| Validation loss: 0.280\n",
      "Epoch: 106| Training Loss: 0.188| Validation loss: 0.278\n",
      "Epoch: 107| Training Loss: 0.185| Validation loss: 0.276\n",
      "Epoch: 108| Training Loss: 0.182| Validation loss: 0.275\n",
      "Epoch: 109| Training Loss: 0.179| Validation loss: 0.273\n",
      "Epoch: 110| Training Loss: 0.176| Validation loss: 0.271\n",
      "Epoch: 111| Training Loss: 0.173| Validation loss: 0.270\n",
      "Epoch: 112| Training Loss: 0.170| Validation loss: 0.268\n",
      "Epoch: 113| Training Loss: 0.167| Validation loss: 0.266\n",
      "Epoch: 114| Training Loss: 0.164| Validation loss: 0.265\n",
      "Epoch: 115| Training Loss: 0.161| Validation loss: 0.264\n",
      "Epoch: 116| Training Loss: 0.159| Validation loss: 0.263\n",
      "Epoch: 117| Training Loss: 0.156| Validation loss: 0.261\n",
      "Epoch: 118| Training Loss: 0.154| Validation loss: 0.260\n",
      "Epoch: 119| Training Loss: 0.151| Validation loss: 0.259\n",
      "Epoch: 120| Training Loss: 0.149| Validation loss: 0.258\n",
      "Epoch: 121| Training Loss: 0.146| Validation loss: 0.257\n",
      "Epoch: 122| Training Loss: 0.144| Validation loss: 0.256\n",
      "Epoch: 123| Training Loss: 0.141| Validation loss: 0.256\n",
      "Epoch: 124| Training Loss: 0.139| Validation loss: 0.255\n",
      "Epoch: 125| Training Loss: 0.136| Validation loss: 0.254\n",
      "Epoch: 126| Training Loss: 0.134| Validation loss: 0.253\n",
      "Epoch: 127| Training Loss: 0.132| Validation loss: 0.252\n",
      "Epoch: 128| Training Loss: 0.130| Validation loss: 0.252\n",
      "Epoch: 129| Training Loss: 0.128| Validation loss: 0.251\n",
      "Epoch: 130| Training Loss: 0.125| Validation loss: 0.250\n",
      "Epoch: 131| Training Loss: 0.123| Validation loss: 0.250\n",
      "Epoch: 132| Training Loss: 0.122| Validation loss: 0.249\n",
      "Epoch: 133| Training Loss: 0.119| Validation loss: 0.249\n"
     ]
    }
   ],
   "source": [
    "data = get_data('topic', ngram_range=(1,1), keep_topN=5000, stop_words=stop_words)\n",
    "W = network_weights(vocab_size=len(data['vocab']), embedding_dim=300, hidden_dim=[], num_classes=3)\n",
    "\n",
    "for i in range(len(W)):\n",
    "    print('Shape W'+str(i), W[i].shape)\n",
    "\n",
    "W, loss_tr, dev_loss, _ = SGD(data['X_train'], data['y_train'], W, \n",
    "                           X_dev=data['X_dev'], Y_dev=data['y_dev'],\n",
    "                           lr=0.005, epochs=150, dropout=0.4, tolerance=0.0001,\n",
    "                           freeze_emb=False)"
   ]
  },
  {
   "cell_type": "markdown",
   "metadata": {},
   "source": [
    "Plot the learning process:"
   ]
  },
  {
   "cell_type": "code",
   "execution_count": 32,
   "metadata": {},
   "outputs": [],
   "source": [
    "def plot_results(losses, labels):\n",
    "    for i, loss in enumerate(losses):\n",
    "        plt.plot(loss, label=labels[i])\n",
    "    plt.xlabel('Epoch')\n",
    "    plt.ylabel('Binary Loss')\n",
    "    plt.title('Loss trough Training')\n",
    "    plt.legend()\n",
    "    plt.draw()"
   ]
  },
  {
   "cell_type": "code",
   "execution_count": 33,
   "metadata": {},
   "outputs": [
    {
     "data": {
      "image/png": "[encoded data removed]",
      "text/plain": [
       "<Figure size 432x288 with 1 Axes>"
      ]
     },
     "metadata": {
      "needs_background": "light"
     },
     "output_type": "display_data"
    }
   ],
   "source": [
    "plot_results([loss_tr, dev_loss], ['count train', 'count dev'])"
   ]
  },
  {
   "cell_type": "code",
   "execution_count": 34,
   "metadata": {},
   "outputs": [
    {
     "name": "stdout",
     "output_type": "stream",
     "text": [
      "Difference between final development and training loss is 0.1296248079242911\n"
     ]
    }
   ],
   "source": [
    "print(f'Difference between final development and training loss is {dev_loss[-1] - loss_tr[-1]}')"
   ]
  },
  {
   "cell_type": "markdown",
   "metadata": {},
   "source": [
    "Compute accuracy, precision, recall and F1-Score:"
   ]
  },
  {
   "cell_type": "code",
   "execution_count": 35,
   "metadata": {},
   "outputs": [],
   "source": [
    "def evaluation_metrics(actual, predicted, average='binary'):\n",
    "    acc = accuracy_score(actual, predicted)\n",
    "    prec = precision_score(actual, predicted, average=average)\n",
    "    rec = recall_score(actual, predicted, average=average)\n",
    "    f1 = f1_score(actual, predicted, average=average)\n",
    "    \n",
    "    return [acc, prec, rec, f1]"
   ]
  },
  {
   "cell_type": "code",
   "execution_count": 36,
   "metadata": {
    "ExecuteTime": {
     "end_time": "2020-04-02T15:10:11.037495Z",
     "start_time": "2020-04-02T15:10:11.034999Z"
    }
   },
   "outputs": [
    {
     "data": {
      "text/html": [
       "<div>\n",
       "<style scoped>\n",
       "    .dataframe tbody tr th:only-of-type {\n",
       "        vertical-align: middle;\n",
       "    }\n",
       "\n",
       "    .dataframe tbody tr th {\n",
       "        vertical-align: top;\n",
       "    }\n",
       "\n",
       "    .dataframe thead th {\n",
       "        text-align: right;\n",
       "    }\n",
       "</style>\n",
       "<table border=\"1\" class=\"dataframe\">\n",
       "  <thead>\n",
       "    <tr style=\"text-align: right;\">\n",
       "      <th></th>\n",
       "      <th>Avr Embeding</th>\n",
       "    </tr>\n",
       "  </thead>\n",
       "  <tbody>\n",
       "    <tr>\n",
       "      <th>Accuracy</th>\n",
       "      <td>0.864</td>\n",
       "    </tr>\n",
       "    <tr>\n",
       "      <th>Precision</th>\n",
       "      <td>0.867</td>\n",
       "    </tr>\n",
       "    <tr>\n",
       "      <th>Recall</th>\n",
       "      <td>0.864</td>\n",
       "    </tr>\n",
       "    <tr>\n",
       "      <th>F1-Score</th>\n",
       "      <td>0.864</td>\n",
       "    </tr>\n",
       "  </tbody>\n",
       "</table>\n",
       "</div>"
      ],
      "text/plain": [
       "           Avr Embeding\n",
       "Accuracy          0.864\n",
       "Precision         0.867\n",
       "Recall            0.864\n",
       "F1-Score          0.864"
      ]
     },
     "execution_count": 36,
     "metadata": {},
     "output_type": "execute_result"
    }
   ],
   "source": [
    "pred = predict_class(forward_pass(data['X_test'], W, dropout_rate=0)['y'])\n",
    "metrics = evaluation_metrics(data['y_test'], pred, average ='macro')\n",
    "\n",
    "results = pd.DataFrame(data=metrics, index=['Accuracy', 'Precision', 'Recall', 'F1-Score'], columns=['Avr Embeding'])\n",
    "results.round(3)"
   ]
  },
  {
   "cell_type": "markdown",
   "metadata": {},
   "source": [
    "### Discuss how did you choose model hyperparameters ? "
   ]
  },
  {
   "cell_type": "code",
   "execution_count": 37,
   "metadata": {},
   "outputs": [],
   "source": [
    "def optimize(data, lr_range, drop_range, layer_sizes, n_itter=100, hidden_range=[0], w_glove=None):\n",
    "    \n",
    "    columns = ['lr', 'epoch', 'dropout', 'embeding']\n",
    "    for i in range(max(hidden_range)):\n",
    "        columns.append(f'hidden_{i+1}')\n",
    "    columns += ['dev_loss', 'F1']\n",
    "        \n",
    "    results = []\n",
    "    \n",
    "    # Print top row:\n",
    "    str_len = []\n",
    "    top_str = ''\n",
    "    for c in columns:\n",
    "        g = int((12 - len(c))/2) \n",
    "        entry = '|' + g*' ' + str(c) + g*' '\n",
    "        top_str += entry\n",
    "        str_len.append(len(entry))\n",
    "    print(top_str + '|')\n",
    "    \n",
    "    min_dev_loss = 1\n",
    "    \n",
    "    for i in range(n_itter):\n",
    "        \n",
    "        hidden = []\n",
    "        \n",
    "        lr = random.choice(lr_range)\n",
    "        dropout = random.choice(drop_range)\n",
    "        n_hidden = random.choice(hidden_range)\n",
    "        \n",
    "        if w_glove is None:\n",
    "            embeding = random.choice(layer_sizes)\n",
    "        else:\n",
    "            embeding = 300\n",
    "        \n",
    "        for h in range(n_hidden):\n",
    "            hidden.append(random.choice(layer_sizes))\n",
    "        \n",
    "        res = opt_run(data, lr, dropout, embeding, hidden, max(hidden_range), w_glove=w_glove)\n",
    "        results.append(res)\n",
    "\n",
    "        # Print out results for current itteration:\n",
    "        if res[-2] < min_dev_loss:\n",
    "            min_dev_loss = res[-2]\n",
    "            res_str = '\\x1b[95m'\n",
    "            esc = '\\x1b[0m'\n",
    "        else:\n",
    "            res_str = ''\n",
    "            esc = ''\n",
    "        for i, r in enumerate(res):\n",
    "            v_s = f'{res[i]}'\n",
    "            v_s = v_s if len(v_s) < 5 else v_s[:6]\n",
    "            g = int(np.floor((12 - len(v_s))/2))\n",
    "            res_str += '|' + g*' ' + v_s + (str_len[i]-g-len(v_s)-1)*' '\n",
    "        print(res_str + '|' + esc)\n",
    "                        \n",
    "    return pd.DataFrame(data=np.vstack(results), columns=columns)\n",
    "\n",
    "def opt_run(data, lr, dropout, embeding, hidden, n_hidden, w_glove=None):\n",
    "    \n",
    "    W = network_weights(vocab_size=len(data['vocab']), embedding_dim=embeding, hidden_dim=hidden, num_classes=3)\n",
    "    \n",
    "    if w_glove is not None:\n",
    "        W[0] = w_glove\n",
    "        freeze_emb = True\n",
    "    else:\n",
    "        freeze_emb = False\n",
    "        \n",
    "    W, loss_tr, dev_loss, e = SGD(data['X_train'], data['y_train'], W, \n",
    "                               X_dev=data['X_dev'], Y_dev=data['y_dev'],\n",
    "                               lr=lr, epochs=200, dropout=dropout, tolerance=0.0001,\n",
    "                               freeze_emb=freeze_emb, print_progress=False)\n",
    "    \n",
    "    pred = predict_class(forward_pass(data['X_dev'], W, dropout_rate=0)['y'])\n",
    "    metrics = evaluation_metrics(data['y_dev'], pred, average ='macro')\n",
    "    \n",
    "    res = [lr, e, dropout, embeding]\n",
    "    for h in range(n_hidden):\n",
    "        try:\n",
    "            res.append(hidden[h])\n",
    "        except:\n",
    "            res.append('-')\n",
    "    res += [dev_loss[-1], metrics[-1]]\n",
    "    \n",
    "    return res"
   ]
  },
  {
   "cell_type": "code",
   "execution_count": null,
   "metadata": {},
   "outputs": [
    {
     "name": "stdout",
     "output_type": "stream",
     "text": [
      "|     lr     |   epoch   |  dropout  |  embeding  |  dev_loss  |     F1     |\n",
      "\u001b[95m|   0.001    |    200    |   0.3000  |    350     |   0.8499   |   0.7771   |\u001b[0m\n",
      "\u001b[95m|   0.005    |    150    |    0.1    |    350     |   0.2627   |   0.9008   |\u001b[0m\n",
      "\u001b[95m|   0.0090   |     83    |    0.5    |    300     |   0.2515   |   0.9207   |\u001b[0m\n",
      "|   0.001    |    200    |    0.2    |    300     |   0.7819   |   0.8403   |\n",
      "\u001b[95m|   0.0090   |     78    |   0.3000  |    250     |   0.2437   |   0.9207   |\u001b[0m\n",
      "|   0.001    |    200    |    0.4    |    400     |   0.9368   |   0.8013   |\n",
      "|   0.007    |    109    |    0.1    |    300     |   0.2520   |   0.9143   |\n",
      "|   0.008    |     89    |    0.1    |    200     |   0.2527   |   0.9008   |\n",
      "|   0.003    |    200    |    0.2    |    300     |   0.2660   |   0.9143   |\n",
      "|   0.007    |    106    |    0.5    |    300     |   0.2477   |   0.9207   |\n",
      "|   0.008    |     89    |    0.1    |    300     |   0.2498   |   0.9143   |\n",
      "|   0.0090   |     81    |    0.4    |    400     |   0.2584   |   0.9075   |\n",
      "\u001b[95m|   0.0090   |     88    |    0.5    |    200     |   0.2383   |   0.9143   |\u001b[0m\n",
      "|   0.007    |    108    |    0.5    |    400     |   0.2489   |   0.9075   |\n",
      "|    0.01    |     76    |    0.4    |    300     |   0.2401   |   0.9142   |\n",
      "|   0.0090   |     84    |    0.1    |    200     |   0.2492   |   0.9143   |\n",
      "|   0.008    |     93    |   0.3000  |    300     |   0.2518   |   0.9143   |\n",
      "\u001b[95m|   0.006    |    137    |    0.5    |    200     |   0.2355   |   0.9079   |\u001b[0m\n",
      "|   0.008    |     96    |    0.4    |    200     |   0.2458   |   0.9075   |\n",
      "|   0.004    |    194    |    0.5    |    300     |   0.2481   |   0.9139   |\n",
      "|   0.001    |    200    |   0.3000  |    350     |   0.8779   |   0.8201   |\n",
      "|   0.0090   |     86    |    0.5    |    300     |   0.2496   |   0.9207   |\n",
      "|   0.008    |     96    |    0.2    |    250     |   0.2494   |   0.9075   |\n",
      "|   0.003    |    200    |    0.5    |    350     |   0.2752   |   0.8951   |\n",
      "|   0.008    |    101    |    0.1    |    250     |   0.2477   |   0.9143   |\n",
      "|   0.008    |     83    |    0.2    |    300     |   0.2592   |   0.9079   |\n",
      "|   0.006    |    117    |   0.3000  |    350     |   0.2515   |   0.9143   |\n",
      "|   0.001    |    200    |    0.1    |    400     |   0.6657   |   0.9131   |\n",
      "|   0.006    |    123    |    0.1    |    350     |   0.2485   |   0.8944   |\n",
      "|   0.001    |     2     |    0.5    |    200     |   1.0996   |   0.2480   |\n",
      "|   0.0090   |     82    |    0.4    |    300     |   0.2436   |   0.9014   |\n",
      "|   0.005    |    143    |    0.4    |    400     |   0.2537   |   0.8946   |\n",
      "|   0.006    |    125    |    0.4    |    200     |   0.2406   |   0.9207   |\n",
      "|   0.003    |    200    |    0.4    |    250     |   0.2638   |   0.8951   |\n",
      "|   0.006    |    113    |    0.2    |    200     |   0.2460   |   0.9207   |\n",
      "|   0.0090   |     84    |    0.4    |    250     |   0.2448   |   0.9143   |\n",
      "|   0.005    |    140    |    0.4    |    250     |   0.2546   |   0.9015   |\n",
      "|   0.0090   |     76    |   0.3000  |    250     |   0.2471   |   0.9015   |\n",
      "|    0.01    |     74    |    0.4    |    200     |   0.2379   |   0.9143   |\n",
      "|   0.003    |    200    |    0.4    |    300     |   0.2488   |   0.9078   |\n",
      "|   0.008    |     96    |    0.4    |    350     |   0.2468   |   0.9207   |\n",
      "|   0.001    |    200    |    0.2    |    400     |   0.7506   |   0.8590   |\n",
      "|   0.0090   |     83    |    0.5    |    300     |   0.2550   |   0.9079   |\n",
      "|   0.0090   |     84    |    0.1    |    250     |   0.2657   |   0.9004   |\n",
      "|    0.01    |     73    |   0.3000  |    300     |   0.2514   |   0.9079   |\n",
      "|   0.0090   |     85    |    0.2    |    300     |   0.2524   |   0.9143   |\n",
      "|   0.005    |    146    |    0.4    |    400     |   0.2483   |   0.9078   |\n",
      "|   0.002    |    200    |    0.2    |    200     |   0.3279   |   0.9143   |\n",
      "|   0.004    |    164    |   0.3000  |    200     |   0.2501   |   0.9075   |\n",
      "|    0.01    |     75    |   0.3000  |    300     |   0.2471   |   0.9075   |\n",
      "|   0.0090   |     85    |    0.5    |    400     |   0.2466   |   0.9079   |\n",
      "|   0.003    |    200    |    0.4    |    350     |   0.2641   |   0.9143   |\n",
      "|   0.001    |    200    |   0.3000  |    300     |   0.8805   |   0.8118   |\n",
      "|   0.007    |     94    |    0.2    |    400     |   0.2600   |   0.9079   |\n",
      "|   0.001    |     4     |    0.5    |    300     |   1.0978   |   0.2658   |\n",
      "|    0.01    |     69    |    0.1    |    300     |   0.2565   |   0.9012   |\n",
      "|   0.008    |     93    |   0.3000  |    300     |   0.2559   |   0.9143   |\n",
      "|   0.006    |    115    |    0.2    |    300     |   0.2523   |   0.9079   |\n",
      "|   0.004    |    176    |    0.2    |    200     |   0.2437   |   0.9079   |\n",
      "|   0.007    |    103    |    0.4    |    250     |   0.2439   |   0.9207   |\n",
      "|   0.0090   |     84    |    0.4    |    200     |   0.2390   |   0.9143   |\n",
      "|   0.005    |    154    |    0.1    |    400     |   0.2542   |   0.9011   |\n",
      "|    0.01    |     76    |   0.3000  |    350     |   0.2496   |   0.9079   |\n",
      "|   0.001    |     2     |    0.5    |    300     |   1.0992   |   0.2142   |\n",
      "|   0.002    |    200    |    0.4    |    250     |   0.3886   |   0.9075   |\n",
      "|   0.008    |     93    |   0.3000  |    400     |   0.2417   |   0.9143   |\n",
      "|    0.01    |     70    |   0.3000  |    350     |   0.2472   |   0.9075   |\n",
      "|   0.0090   |     87    |    0.5    |    300     |   0.2494   |   0.9143   |\n",
      "|   0.001    |     2     |    0.2    |    200     |   1.0986   |   0.3049   |\n",
      "|   0.007    |    101    |    0.4    |    350     |   0.2474   |   0.9011   |\n",
      "|   0.0090   |     91    |    0.1    |    400     |   0.2544   |   0.9143   |\n",
      "|   0.003    |    200    |   0.3000  |    250     |   0.2470   |   0.9143   |\n",
      "|    0.01    |     84    |    0.1    |    400     |   0.2503   |   0.9140   |\n",
      "|    0.01    |     69    |   0.3000  |    300     |   0.2525   |   0.9140   |\n"
     ]
    }
   ],
   "source": [
    "lr_range = np.linspace(0.001, 0.01, 10)\n",
    "drop_range = np.linspace(0.1, 0.5, 5)\n",
    "layer_sizes = np.linspace(200, 400, 5).astype(int)\n",
    "\n",
    "opt_results_ = optimize(data, lr_range, drop_range, layer_sizes, n_itter=100)"
   ]
  },
  {
   "cell_type": "code",
   "execution_count": null,
   "metadata": {},
   "outputs": [],
   "source": [
    "opt_results_.sort_values('dev_loss').head(3)"
   ]
  },
  {
   "cell_type": "code",
   "execution_count": null,
   "metadata": {},
   "outputs": [],
   "source": [
    "plot_columns = ['lr', 'epoch', 'dropout', 'embeding']\n",
    "for c in columns:\n",
    "    opt_results_.plot.scatter(x=c, y='dev_loss', c='F1', colormap='Blues', sharex=False)     "
   ]
  },
  {
   "cell_type": "markdown",
   "metadata": {},
   "source": [
    "# Use Pre-trained Embeddings\n",
    "\n",
    "Now re-train the network using GloVe pre-trained embeddings. You need to modify the `backward_pass` function above to stop computing gradients and updating weights of the embedding matrix.\n",
    "\n",
    "Use the function below to obtain the embedding martix for your vocabulary."
   ]
  },
  {
   "cell_type": "code",
   "execution_count": null,
   "metadata": {
    "ExecuteTime": {
     "end_time": "2020-04-02T14:27:32.020697Z",
     "start_time": "2020-04-02T14:27:32.015733Z"
    }
   },
   "outputs": [],
   "source": [
    "def get_glove_embeddings(f_zip, f_txt, word2id, emb_size=300):\n",
    "    \n",
    "    w_emb = np.zeros((len(word2id), emb_size))\n",
    "    \n",
    "    with zipfile.ZipFile(f_zip) as z:\n",
    "        with z.open(f_txt) as f:\n",
    "            for line in f:\n",
    "                line = line.decode('utf-8')\n",
    "                word = line.split()[0]\n",
    "                     \n",
    "                if word in vocab:\n",
    "                    emb = np.array(line.strip('\\n').split()[1:]).astype(np.float32)\n",
    "                    w_emb[word2id[word]] +=emb\n",
    "    return w_emb"
   ]
  },
  {
   "cell_type": "code",
   "execution_count": null,
   "metadata": {
    "ExecuteTime": {
     "end_time": "2020-04-02T14:28:54.548613Z",
     "start_time": "2020-04-02T14:27:32.780248Z"
    }
   },
   "outputs": [],
   "source": [
    "w_glove = get_glove_embeddings(\"glove.840B.300d.zip\",\"glove.840B.300d.txt\", word_id)"
   ]
  },
  {
   "cell_type": "markdown",
   "metadata": {},
   "source": [
    "First, initialise the weights of your network using the `network_weights` function. Second, replace the weigths of the embedding matrix with `w_glove`. Finally, train the network by freezing the embedding weights: "
   ]
  },
  {
   "cell_type": "code",
   "execution_count": null,
   "metadata": {
    "ExecuteTime": {
     "end_time": "2020-04-02T14:30:11.121198Z",
     "start_time": "2020-04-02T14:29:24.946124Z"
    }
   },
   "outputs": [],
   "source": [
    "W = network_weights(vocab_size=len(data['vocab']), embedding_dim=300, hidden_dim=[], num_classes=3)\n",
    "W[0] = w_glove\n",
    "\n",
    "W, loss_tr, dev_loss, _ = SGD(data['X_train'], data['y_train'], W, \n",
    "                           X_dev=data['X_dev'], Y_dev=data['y_dev'],\n",
    "                           lr=0.004, epochs=200, dropout=0.3, tolerance=0.0001,\n",
    "                           freeze_emb=True)"
   ]
  },
  {
   "cell_type": "code",
   "execution_count": null,
   "metadata": {
    "ExecuteTime": {
     "end_time": "2020-04-02T15:12:00.815184Z",
     "start_time": "2020-04-02T15:12:00.812563Z"
    }
   },
   "outputs": [],
   "source": [
    "pred = predict_class(forward_pass(data['X_test'], W, dropout_rate=0)['y'])\n",
    "metrics = evaluation_metrics(data['y_test'], pred, average ='macro')\n",
    "\n",
    "results['Pre-Trained Embeding'] = metrics\n",
    "results.round(3)"
   ]
  },
  {
   "cell_type": "markdown",
   "metadata": {},
   "source": [
    "### Discuss how did you choose model hyperparameters ? "
   ]
  },
  {
   "cell_type": "code",
   "execution_count": null,
   "metadata": {},
   "outputs": [],
   "source": [
    "lr_range = np.linspace(0.001, 0.005, 5)\n",
    "drop_range = np.linspace(0.1, 0.5, 5)\n",
    "layer_sizes = []\n",
    "\n",
    "opt_results_ = optimize(data, lr_range, drop_range, layer_sizes, n_itter=100, w_glove=w_glove)"
   ]
  },
  {
   "cell_type": "code",
   "execution_count": null,
   "metadata": {},
   "outputs": [],
   "source": [
    "opt_results_emb.sort_values('dev_loss').head(5)"
   ]
  },
  {
   "cell_type": "code",
   "execution_count": null,
   "metadata": {},
   "outputs": [],
   "source": [
    "plot_columns = ['lr', 'epoch', 'dropout']\n",
    "for c in columns:\n",
    "    opt_results_emb.plot.scatter(x=c, y='dev_loss', c='F1', colormap='Blues', sharex=False)"
   ]
  },
  {
   "cell_type": "markdown",
   "metadata": {},
   "source": [
    "# Extend to support deeper architectures (Bonus)\n",
    "\n",
    "Extend the network to support back-propagation for more hidden layers. You need to modify the `backward_pass` function above to compute gradients and update the weights between intermediate hidden layers. Finally, train and evaluate a network with a deeper architecture. "
   ]
  },
  {
   "cell_type": "code",
   "execution_count": null,
   "metadata": {
    "ExecuteTime": {
     "end_time": "2020-04-02T14:58:51.764619Z",
     "start_time": "2020-04-02T14:58:47.483690Z"
    }
   },
   "outputs": [],
   "source": [
    "data = get_data('topic', ngram_range=(1,1), keep_topN=5000, stop_words=stop_words)\n",
    "W = network_weights(vocab_size=len(data['vocab']), embedding_dim=300, hidden_dim=[300], num_classes=3)\n",
    "W[0] = w_glove\n",
    "\n",
    "W, loss_tr, dev_loss, _ = SGD(data['X_train'], data['y_train'], W, \n",
    "                           X_dev=data['X_dev'], Y_dev=data['y_dev'],\n",
    "                           lr=0.004, epochs=200, dropout=0.3, tolerance=0.0001,\n",
    "                           freeze_emb=True)"
   ]
  },
  {
   "cell_type": "code",
   "execution_count": null,
   "metadata": {
    "ExecuteTime": {
     "end_time": "2020-04-02T15:11:51.994986Z",
     "start_time": "2020-04-02T15:11:51.992563Z"
    }
   },
   "outputs": [],
   "source": [
    "pred = predict_class(forward_pass(data['X_test'], W, dropout_rate=0)['y'])\n",
    "metrics = evaluation_metrics(data['y_test'], pred, average ='macro')\n",
    "\n",
    "results['Pre-trained Embeding + 1 Hidden'] = metrics\n",
    "results.round(3)"
   ]
  },
  {
   "cell_type": "code",
   "execution_count": null,
   "metadata": {},
   "outputs": [],
   "source": [
    "lr_range = np.linspace(0.0001, 0.0005, 5)\n",
    "drop_range = np.linspace(0.1, 0.5, 5)\n",
    "layer_sizes = np.linspace(200, 400, 5).astype(int)\n",
    "hidden_range = [1, 2]\n",
    "\n",
    "opt_results_emb = optimize(data, lr_range, drop_range, layer_sizes, n_itter=100, hidden_range=hidden_range, w_glove=w_glove)"
   ]
  },
  {
   "cell_type": "markdown",
   "metadata": {},
   "source": [
    "## Full Results\n",
    "\n",
    "Add your final results here:\n",
    "\n",
    "| Model | Precision  | Recall  | F1-Score  | Accuracy\n",
    "|:-:|:-:|:-:|:-:|:-:|\n",
    "| Average Embedding  |   |   |   |   |\n",
    "| Average Embedding (Pre-trained)  |   |   |   |   |\n",
    "| Average Embedding (Pre-trained) + X hidden layers (BONUS)   |   |   |   |   |\n"
   ]
  }
 ],
 "metadata": {
  "kernelspec": {
   "display_name": "Python 3",
   "language": "python",
   "name": "python3"
  },
  "language_info": {
   "codemirror_mode": {
    "name": "ipython",
    "version": 3
   },
   "file_extension": ".py",
   "mimetype": "text/x-python",
   "name": "python",
   "nbconvert_exporter": "python",
   "pygments_lexer": "ipython3",
   "version": "3.7.6"
  }
 },
 "nbformat": 4,
 "nbformat_minor": 2
}
